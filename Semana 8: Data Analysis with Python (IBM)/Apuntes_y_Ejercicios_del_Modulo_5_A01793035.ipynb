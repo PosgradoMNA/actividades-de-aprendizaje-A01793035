{
  "nbformat": 4,
  "nbformat_minor": 0,
  "metadata": {
    "colab": {
      "provenance": []
    },
    "kernelspec": {
      "name": "python3",
      "display_name": "Python 3"
    },
    "language_info": {
      "name": "python"
    }
  },
  "cells": [
    {
      "cell_type": "markdown",
      "source": [
        "**Semana 8 - MODULO 5: Data Analysis with Python (IBM)**\n",
        "\n",
        "Nombre: *Diego Alonso Luna Ramirez*\n",
        "\n",
        "Matricula: A01793035"
      ],
      "metadata": {
        "id": "qpEgr2kuP4h1"
      }
    },
    {
      "cell_type": "markdown",
      "source": [
        "![Module 5 - Data Analysis.png](data:image/png;base64,iVBORw0KGgoAAAANSUhEUgAAAk0AAAC0CAYAAACJ+BigAAAAAXNSR0IArs4c6QAAAARnQU1BAACxjwv8YQUAAAAJcEhZcwAADsMAAA7DAcdvqGQAADHaSURBVHhe7Z33dxXbYe/fv5FfsrKSFae82GnPvteOy40Tx871S+w8O/GtXMqliCYkASp0UAGEQIAoQoCEUEW99y6hBuq9o957b9+395yjC8ZjW+X4oDnz/az1XTp1n9mz98x8Zs8+R/8LhBBCCCHk90JpIoQQQghZB5QmQgghhJB18DulaaSvEy2t7Rgen8aq8TGzsLKIkf5etLe2oqOrHyvGh7cPK6jNjcSlC66Ie95kfGx9LEyPY3RCrE9Rx6H+brSJOrZ39mLR+LxkanRIvGbWeG+rLGN0oB/Ti69bsDYjFjGp5cZ7pmV1aR4jQ2NYNHGjzYv11vWqA62yP04uGB/dHMsLMxgcGN70Ms5OjmNsYsZ4b40ljAyPYG01L0yNYWhkwnBnjeU5vGprxfD0m60tWJzB0JDhtUuz4+gQr2lra0Nbewe6evsxs6Q8haHuDrzqGzXckYg+1N8l1klHN95cI3MTg2ht63rjsRXjttwh+oHxoeUFDA90if7XJl7bjonZX1+mge421NU3oGdoyvjIu2F2YgTjM2+tL0IIeUeoS9PSGGJ9rsDq0GEcPXQAxz38MW7ccZuD1dFa2O38FPutj+PYob24cDsMI/Nm1bbfzWQLzljtgV9qCdrfPIitg+pYb7j7ZWJhpBpHd/8SVrYOsLM5ghMXbqG2Z1p5TZrfbfjGlSq3t8pMRwE+/smP4BH1WpKSb57FGfco4z3TMttdhJNWl9A4btr2yg9ywS8+3YkTx23w5cHjSHj5atMiP9lRAncXL3Rs0ktzgm/jekC28Z6B+qxAuNwJx4yyUMuIuHoU//6pPV4ZHhArZhj+7o7Yd3A/Dp1wRkWXQZImumtx2WY3Dtj6KJIz0ZiLs462OOHgCEe7Q/jlx7tR8GoGZTF3sd/qEA4eOAzfpErlvUWRd3HE+hgOH9yH09eDMC4kcKy9GOdsrLDPaj/O3X6mLE/L82ewsT6Co0f2w/rMTXRMrGJ1sAIn9vwCVscdcNLxFHIbhpUyl8ZeIdTHC16P/BAdHQGfezfwJPY55pVnRT2rStBjKp9fB/3lcbh4xQcj9CZCyDZAVZpKIm/i84Pn0TgwhYW5aQyNjovDgJCZqQGkRocgNCYNfdOGg0FjSS4qmvuU24MtNSh62SZuLaK+ukacLTcgMTYVfVOLGGyrRMSzEEQn5WDIuNOtLUpDSGgEajp+XTxWBkpx0Po0qsfEnZlmnNj3KyQ1TKK/tQEN7e3IS05EWcuIeHIRxWkxCHoWhcbeSeW98oy/tigd4RFRSExKQmFVM4b6u1Db1Ir64jSkFdYor2otyxGfHYay5n7lPhanUJqdgNCQMORVyjoAHdWFCAsNRXxmIca/Om1fRmXKI+z4xRfwjc0z7MxnBpESJdZLbBr6jQfJ9oYqtLa3ISslDuUdsiIGGjPCcCe8DAt9z2F73Ba1I0uYnxlD+I2T2Hf2LuT4RfPzTBSUtyuvXxh9hcTIUESnP8e0bATB6KsaxESEIzYxCWmZ+RiQ63NuGOkxoQiNTkHvlPGFgryA2zi0bz9s3R5AfJRChrcbXG8nKLdnBlsQExqEqNQCrL3tVWMV6psakJ0cgajkfEwY39dRI9ZHSDBi016vj/qSDAQGhaCkrke5P9ct6rXnHOrfkCYpBllF5YYDr1hXxQUFmBCf1ddajbqGZuQmRyNM9IsxY5n9LRWIDg9BeFwmBqcNw0FpPg644Jem3M73dcUhuwdKn+yue4HIsBCxnLkYVd6/jJa6CtTV1or1FozMly2YHO5CYngQUgpr5QuwONqBVFH2lFjEzsZaNIl2ykxIQE2nHFWZRE5SJMJiUtGvOOwcStNj8SwiGlGR4XjR2IOXaf7wSSyRTxpYGsGt07aIrhhS7i6PNcDl2FHsO3IMgXkdymMt6d44cOo6JmZnkepzBie8ksQGNYcIv1s4e9oJjg73oGjUyjIWFxewsLiMzqJQHHO8ha72UiFGdijtncF4SxaOWdmhZngJYwM9GJsTjTPdDscDHyOtaQTR1+xwNbQIs7MDuGi3ByEv+jAzNojBiTlR+DSu2e/ErcwezLdmw+7wRbRNz2F5rakWxhF82x2h4mSg9kU+EkX/yinIh7eHC6ILOzDaW44juz7DmetP8LLRsM03lmSK7SgcFW2Dyn3JYGs5ngUGIEb0k8nXXRHdzdWoqRN9ITEScVllmJwcQXZCmOh7z8VaBqZ6G5CeUaq06+JgE5IzCzC/MoE75+0RUdKtlEEIIe8SFWmawx2nT+GZUG+8b2B1tgd3LtrAydUDHs4OsDnjLYRhGU/sd8PZz3DWXRhwHdanQ8WtObif3Iudh21x/rI3KsvycPqIFR5FxSEkIBwdY4soS3iEk+c9ERkZBEf7Myhqf30pY2WwDEcOn0BKeQuq8qOwb/eXqBqcFwLghl/s2A/H8y7IqmxBsu8VWDs4w/OGK6xszqJ6ZA4NGU9w/OxNpKfGYN9Hv4RvXjv6yuKw6/NPYO/ghEfxhajKjoTDuctCrEJx+qQTitvG8CL6JvaddEdClNiJix16T1UqrA8dQmB0PEJCotFlPHjLSx1lyb7Y+cudeBSThdHhV7h/yRan3OR6sYfNWW+I6iHpji0+3XMQp50vIbPWcDCVLM5OY2xqAbOtWTjuYI9Ww+ASMFCEXfusUSXMIdnjFNz9CrA814ub507gfmA4fD3Ow+1JOib663DB4TiepWTghv1eHDrvh7HpETx0OQ5HZ7EMLo6wPuWFbnkUWhnEZSc7xJdW4aaDLZJqDXIqpemKdzrmJpvgYnMEzh6ecHG0ximvcOUyYepda3wkluXho7s4tm8HPCLKMPGqAIf2WiMkJhpPQ2LQM7OCqvhHOHTUHp6e13DY6gjiKnqxOlyG4/suoOENaWpOuYVfHb0A+emr3YWw3b8PzcKgch6dx68+s8Gjh/dgs3cHrvhnKJdia/NiESok5e5FWzjdDlcOojl+p3HiegDa2lsQ7HEaF6V0CEqTY0U7RsDj9DFcEnWS7fP43CHsPHoR3l7X8OUXn8LhwjU8uOOO3Z/vQkLdKBa78mG76xTkYT7+7in8966DcDp/GUV1LYi45wrnu0F49sRTtOkDDMwtoiI7FUnR/vjkpz/CrfgqLMxPYWJGrmADs50FOHn8MrqMDzUm34fDzVAUJ/mLNnms1Cnr3hm4+iQqz3cXhuGY9S1MrC5jenYOHQURcDx+G+PKs2usIsTdAXeS6rHUlYWdxy7C0It6cfroJ3hWZmjLuclRVOdF4cJFD7SN9uOG9XEk1hieC/U8B5enRcrt5dkptFTlw+XCWZR0z2K2JQfWe3bB1t4ODhdvoVX0u9HqJNzwiUZ1USKu3HyI9NgAOHsGo7k2Gw/E473thdj12edwu/sMDV0jYjsIgP15d0SEB8Pp5GkUdc9gqjEbxw8chOtVd3j5RmP4q5MN0e8ensRHXx4R/cpLfPYXsDp5ET73b8Fq5w7cT6jG/FgTHKz2I6qoCqHux+F0J0Hpj4UBl3HlSaqhEEIIeYeoSNMUbp78H/jlvzLeN9Bd8AyHDp+FYRB/DG6HP0N8TSciXOzgEVygPPoi/B5OucrLPnNwsd8Pj+gq5fHl/iqcObgLl30i0DmqnFPiitUunLz8GPnZ6bDd+R+4GPZSea1kdbQGx774BPuP2sLW7gwicw0Cl+p7AbsuPVVuY6wMB3Ydw8sBw13fsydwV5xhpwdeguNjuTzzcDl+AEltS5iojMb+3cfRqgzxr8L79MfYf9EHuTlZsN/xqdgh56IyOwC799khKqcKs+IoN9Ukzuj374ZXcCIG35pDM99djNNW5yHPtYeLQnHw8HmxRiTDcD74CRLrxpB+3xonb/32S2AzTZk4bn8STWuuOFmLg3uOobh3Chlel3A3vAz91VH4/JMdCE3JRdxjZ/zXFxdQkh8L2+Onlc977ucM18fZGGpIFdJyCoZVMYXLhz9BeMUoZlrS8OVuOzQNjiDI/SicHhjkNtP7Cjx901Ga9gCHTvkqj4mVhEOfHBPiuYRsH1uc9jaMRNVGC6Gx88VgbxlO7t2Lm4EJxvUxjLM2B/A03zDiUBTqhsNXIjE7XImT+39dmlozvLHH8aphHfW9wBk7G7SJIjIeu8DWPVp5TZsQqz1OHlAGIZdn0d7cgNzQ69hh766MQhSHOOMXn+3Bkb2fYdfJG0JmjEMYi5NoaapHos8VHLPzVh7yuXAC18IMl7D87L/ElZBi5XbQDVtcjq3Dcm8xHK0uKBISc9cRVh6GdloZKMHe//oEd5+lIif6Mf7nV79EYqPhwlRD8kPYXfJRhPhtektCRV/2hsF/5+B95gguP83FQHMadu+3Q4t4IuPOBXg8zlRe0VsSA7t9bjCOcaI9Jxj2b0nTdEeekHY71I+J9bg8gJuOh+F07QHC/b2we9cXSGmUa2oKMY9u4sDOT3DJJx5zi/1wsbJHeoOhpOibl3DpfpZyuzDMDzb7vsAxZ2/0zy1hdWEaPZ3taGlphK+zHc5ej0Jhcgj8E/MQ/sBNbNuiomPl8LgXiL7OF7h/OxSLyyM47XAKeV2yxEXctP9vHHL1Q16O2IY/+RRezwqQ4H8RJ+6oC07mAyH2QsyV277n8IVLmHK7+IkHTrs8U26P1CRh93/9BHtP3cOY8TylMc0bdjcCYcYZAoQQooqKNC3iqet+OD7IMN430JkbiKPHXMRuWjIPD5uPEF7WiXBXG3hGvFAeLQm9iRMu8gA0g6vnbRFasnZYAJYmuhDrdxsHD9oit7YGl22scOluKNJSU5GWmSXOXF9folsZeIHDNmdR3vvrR6gk34s4ZRzVWuovwv49J1FvlI6Qiw64+rgQw50lOHfiNO5734dfWLpyuaunMByOdjcNlz/EI7ftP4KDZyDS01KQmpKNujaDCnZVPcf1czY4euGx8tqZ/hYE33PF3iMnUdq1NiQkD2gFcNx/BvLCS19eIKxt3JTPkWW7W/8KURUDSLvviNtRhrN8NWaaMnDC0RFdxiPBQFEgPrFyQN/iKlI9z+NeRBk6xMF4z84jiE5NR2pqGnKL6zA10YeHHmfhfPM+7nr7o3l4DkMvInH0yEXjQXcJN2w/RuiLbhQ9dcGHQgIcTzni0M6P8PFBV8iLmPkPr+CmkKaipPs4djFEeRcWGmHzq6NCQheR5eOE6yG5ysOV4eI1B+8oZ/wLQy0I9bmGfQdOo661HhccrUUfMOhiRawnDlwMxvRgBeytXNDxRtN1ZNzHTqfrhoPeQCnsDx9Du3g+3e8yTj8ytGdDshf2XbiH/q463HB2gndgJEJvncauU57KZb0cv1NwDczBVG8Fjh9zRLWQidnul7jkdAa+EbF46OYEWweDAD5wO4W7Kc3i1ioeOZ7E03R5Gwi86QiPhPpfl6b7Z+DyzDB/bLotEzs/2YunMamiX6QgI78Q/VOrmO4sxUlbB5QPqB+2uwuDcOLqA2VO0vKgkM+P/hM7D9vhlKMtfv7hzxFY1Iva2BvKqJmkLfMRDjs+/Gqidlv2b0pT2oMzcLgV99W8reWJXmSKZSrJTsBZx/NCbl9LKTAK55P78DC9Av5n7UTbG8akHl22EScuhsvRBlbh73pMyLNBpNbozvTD8VM3kJsWhofReSiMe4w7T+KRFnEfdvZXEOT/AAHJ4gRotQvHbR1RoFyJncU12//Gaa9QZTtKS81Fe+cAgm874JS/er9P93bCFb8U5Xby49fb8nP/G7h41bBuplty8cWH38euMz7GbQpoyvCB9VV/pQ8SQsi7RHVOU395EvZ9vgOe/hFIjI9CXFYpZkeacdFuLzwDohD9VBwgD11A5/QyioLOY5fNJSSmpOLMoc+w/7KUpmlcOLEPvoZTUswOdSAvOxf1tWU4fWgnAp43IzfgBuxdHqC8rgal+WUYmnq9S1zpk5eqjqOs/40JEYK4+w6wvmu4LIPlcTw6dwynrj9BXGwgrKyOIr1tBnMtGTiybx9cr1zFw6A49IqDXs/zUPGYi3GUbAV5oddhe/42Sirr8OJFEQYn59FRV4zcF7UojvPGnoMuqGmpQ17Bc9SVZ+Hw3j2IKjO8WzLVlgPrT20hByFWRutx9tiXuBUo1ov/dRw4fAldYr3Euh/EZXGQ/23MtmTiy50f43FMGmKe+cN6/z48iClTnou4dBxXfJ9jfqwB522OiANWIaorS1HZKOdaTeLWqUOwOe0GT6+HeF7fg+WxDjiLtrnuH4nowFuwOuqGpvZqHN+7EyH5bZicmMT0QA1sdnyGyMoe5Pm44sKtZIz3leL4voPwj45F4K2zsDp3V5nXlHD9EC75GuYPvQi6Aasvb6NnpAPZ2cVoqC6Aza49SKoV5QRewxFHd8SLPuJ0RBy0M5uwOlqOAz/fhYeRSUhKTkRhfTcmW7Kxe+c+PI1NQNids/jl/xxFp/icJO9zsLltOIjWxLhjxxkvNBTGYcfHO5D6sh4Z/hfxma1BSNO9bYTIGy5vZT46j2NuT1GZHYiffXQERdWNiLp5DlbHDCNNt84cg0dMnbi1ijvWB/EgQd4WEuF2FM5RNVjuLoD15/bKyFyYpx2c/PKU51dn+3DL6ThuBCShtq4KL0uaMTc/As+jn+Co+LyG2lo0d7/uB2tMNKbA1umGspwlwZfwhd1tjExPYWJySqwjV+wWQtTTUYIT1jYIiowQ25EV7sS/npjfnOaHw1buxtFKcdoyVImju/cirXFNo5bR096AF0W5eOBxAbcDc4WATiMnRmybyamIj/TD3r37kVQ/hKqE27B2uoqICD8cOmyLl91TYj3FITI+CcmJEbA58CV8kmsx2FyKoLBI8VgMTh/dD6+oCsyO1uGy81WUNXUgPS4CWaXVKM9LEcucrsxBE2czcD68FxfuRKC1fwzpgR444XwPL8R2VCq2oz6xApoznmLnjsMIFn0qOaUEY1O9CL37ANV908i8fwJn78UoNYq7a49j9wxtn/PABU6uEViY7sRFsSwBacV4IuTO+XGGMt+qMuI6LnhHfyWQhBDyrlCVJklPTT48r7rBxdUVAYmFyg5rqqMC96+7wu2GN8qMk5uXp3oQcv8art0LEGebKUjOqxCPLiAxOhhFLYbXLIgDbsiDm/C44Yng+DzMy2H3lWmkhD/GNQ933PUJR/cbX89bnWhHQHAUOpU99Wuq82IQnmuYzCtZmuxCsPcNuFz2QLoyAX0G8Y89ceX2I0RER+DmGWucuROJga4qhAenGC+fCFbmkBfzBNfcPXDr4VN0TSyioyIdHh4euOn1ACVt45gbqIPf3WvwuH4LUZllv/b19PnhZoQ/iUSf4coNxtrKcc9DrBdPb5R3Gg505SnBSC01jHCosTzaJsp3h+vlq2IdeCG9zDD5XFKeHIWUgkbl9kjTC9y/eR3u168jsbgebWWpuOR6BYFhEQjx88SX+0+hTqzm2a4aPLjhBrfr91DeM42Fvhr4+4dg6I3lfpnwBImlTWgsSEdCuuHSaWdVNm64OcPjfiDaRwxjH5XpoUgualBud77IxLOQfIyMtePJ3Zu47umJ8LSXhq/Wr04hJdQHzs6uCE02TOBdne5CkOc1XL56FW5urniSJvvDKspSgnDJzR1xSWmIS0jDkCigNj8BETmGS6+9Venwjc7E4vICcqL9cO3WQ2Tm5iI1LU+5PNeYH4GY/GrltRhvxePHgWjpHULWs4e4ftcfuTm5SM54KT5pBdnxEciokpcNV5EbHoqCGsMlxMLUMCRX9mJlrBXh/jHKqGl5ViRii1qU5yVzw63w9/YUbeKB4NhiTIk+9uSGO27fuw+vW56IyjUuw5vMduOqgz2KuidRHO2PpJeGSfySpcEGBPg9Qb84J3hVkgDXSxfgE56FuTfaZbChCGGh6YZLk4Lhujz4h8a97q9izZamBolt8SqCEgqNIy5zyInwxZXLl8UJgodoL+NPX6xMITXoHi64XBHi2ak8VJ0VDnfxOrfLVxCaUqzMsRptfwkvj8twcXNDgNgm10a9GvNjcFWUFxKTgLjIEARFJSujk2t0vEyB20VXpJe/Ep+1iJxIX2U78hLtIb+Vpyyr6PvOly7COzAdk7ODeHbXBxW9s2h5HoOEPEO/k9tyRJ6h7ZsLUpCUWYXe1kI88ItVlmVeXhL0fSZkbQEBV5zwJN3QHwkh5F3yW6VJk8x1wMnqMFLrRxQxynnqBjt3v68OCJZA7D0nnPFOVyR2uCkbdlYnUDHwelIyeTc8f3YTF+7FKkKidebH+lBVVoqSF2Vo7x1R+tq7YqQ+FScdL6PD+G1dQgh5l1iWNIlDVkNuBNxcnOF+xQ2Xbz9B48Dr83VLYKKnHt5XXXHlmjsuuVxGcmmTRRyoNc/cGGrrmzDHY7tJGetpQUPH62+fEkLIu8TCpMnI8gJm54zXziySVczNzmKJB2hCCCHEbFimNBFCCCGEmBhKEyGEEELIOqA0EUIIIYSsA0oTIYQQQsg6oDQRQgghhKyDdyZNq6urSiQzM2v/MOH17cXFRaysGL5Mv/Y6QgghhJB3xTuRpvHxccTGxmJkZAQdHR3w9fVFfX096urq8OTJEzQ0NCA1NRVNTU3o6+vDwoIl/TwlIYQQQrTIO5GmyclJlJaWoru7G9XV1YpE5ebmori4GBMTE0hPT0dycrLyWF5eHvr7Df/4V45CtbW1KaLFMMw7ziuZV9qPWt1+X9TK0WLU6sYwzG/NO7s8J+Xnldhoa2pqMD8/r8hRSUmJclv+lTIlxSkmJgY5OYZ/fCsfi09IQLV4T3lFJcMw7yAVtbUoFdtm8s9+hqQf/wTJH/5Um/n3D5Eslr84JFSpk1pd345S95RUpP7il6LuP1YvVwsx1r3I/+m6684wTOW7k6bW1lYMDQ0pl+ACAgJQXl6OiooKPH36FI2NjZibm1PEKjMzE1lZWcp76urr0SoeI4S8WxZb29D6o39D83f+CS3f/4E2893voUUs/8zzQmOt1sdiewfaf/p/0fzt76iXq4UY6z6dkWmsFSFkPbwzaVpeXv5qMnhPT48y6Vs+Jm9LlpaWlL/yUt7UlPx/9ECtOCOqb2hQ/oHo/MIiwzDvIHKG4VRDIxp+8u+oEwfg+h/+izbzwT+jXiz/WG4eFte5T1Hq3tSMpv/8Geq+9331crUQY91HU9PWXXeGYRbfnTRtBkoTw7z7UJooTQyj11CaGIbZUChNlCaG0WsoTQzDbCiUJkoTw+g1lCaGYTYUShOliWH0GkoTwzAbCqWJ0sQweg2liWGYDYXSRGliGL2G0sQwzIZCaaI0MYxeQ2liGGZDoTRRmhhGr6E0MQyzoVCaKE0Mo9dQmhiG2VAoTZQmhtFrKE0Mw2wolCZKE8PoNZQmhmE2FEoTpYlh9BpKE8MwGwqlidLEMHoNpclUWVq2jCwuqdePYYyhNFGaGEavoTSZKAtCOCwhanVjmDdDaaI0MYxeQ2naYhZWVzHd3oGu02fQ6eCILqdT2oyjEzpP2mOyskqpk1pdGUaG0kRpYhi9htK0xSg70RqxXD/4ADXfeg+13/6ONvPe+6j55rcwnpPLnSjzO0NpojQxjF5DadpilJ1oXT0a5QFEiJPqDkoLETtReQAczy/gTpT5naE0UZoYRq+hNG0xlCZGb6E0UZoYRq+hNG0xlCZGb6E0UZoYRq+hNG0xlCZGb6E0UZoYRq+hNG0xlCZGb6E0UZoYRq+hNG0xlCZGb6E0UZo2ncUlLKysaj/LK/whYJ2G0rTFUJoYvYXSRGnaVKRkzM1hbmISc5NT2o1cfpH5uXn1ejIWHUrTFkNpYvQWShOlaTNZXF3FRFk5Wj7fgZYdX6Dli53ajFj+1t17MN3cwh8C1mEoTVsMpYnRWyhNlKbNRH6O3L/Uvv9t1IjUfuefNJma995X1t1UdY3SH9TqylhuKE1bDKWJ0VsoTZSmzUSRpueFhn2N/Hy15dJA5H6+4d9+jKnaOkqTDkNp2mIoTYzeQmmiNG0mlCbGEkJp2mIoTYzeQmmiNG0mlCbGEkJp2mIoTYzeQmmiNG0mlCbGEkJp2mIoTYzeQmmiNG0mlCbGEkJp2mIoTYzeQmmiNG0mlCbGEkJp2mIoTYzeQmmiNG0mlCbGEkJp2mIoTYzeQmmiNG0mlCbGEkJp2mIoTYzeQmmiNG0mlCbGEkJp2mIoTYzeQmmiNG0mlCbGEkJp2mIoTYzeQmmiNG0mlCbGEkJp2mIoTYzeQmmiNG0mlCbGEkJp2mIoTYzeQmmiNG0mlCbGEkJp2mIoTYzeQmmiNG0mlCbGEkJp2mIoTYzeQmmiNG0mlCbGEkJp2mIoTYzeQmmiNG0mlCbGEkJp2mIoTYzeQmmiNG0mlCbGEkJp2mIoTYzeQmmiNG0mlCbGEkJp2mIoTYzeQmmiNG0mlCbGEkJp2mIoTYzeQmmiNG0mlCbGEkJp2mIoTYzeQmmiNG0mlCbGEkJp2mIoTTrO0rLS/paQ+eUV9TqqRL6e0kRp2mgoTYwlhNK0xSg7UUqT/rK4hLnJKUzV12OyphaTYgeq2Yjlnx0eUeqkWte3QmmiNG0mlCbGEkJp2mIoTfqM0u6NjWj5f79Aw7/+SGl/TebHP0bjj/4NY5lZGxMHShOlaYOhNDGWEErTFkNp0meUdq9vQOOHP0XtP31XaXtNRhz46777PYylZ1CaVOr6dihNmw+libGEUJq2GEqTPrMmDk3/8Z/aFwfRb8cyMilNKnV9O5SmzYfSxFhCKE1bDKVJn6E0UZooTRsLpYmxhFCathhKkz5DaaI0UZo2FkoTYwmhNG0xlCZ9htJEaaI0bSyUJsYSQmnaYihN+gylidJEadpYKE2MJYTStMVQmvQZShOlidK0sVCaGEsIpWmLoTTpM5QmShOlaWOhNDGWEErTFkNp0mcoTZQmStPGQmliLCEml6aBgQGEhIQgMzMTq6tSb3437e3tCA4ORkdHB7q7uxEWFobBwUEUFBSgq6sLIyMjmJubU15LafoDRu7IKE3rDqWJ0kRp2lgoTYwlxOTSJMUmJSUFz58/R319PTIyMvDq1Ss0NTUhKysLvb29SEtLQ3Nzs/L6wsJCFBcXY2ZmBiUlJairq1OeT01NRWlpKaqqqn5NmhpFOZLFpeVtkSWxLDPy4Pnhh6j7539Gw7/+qzbzwx+KHdkHmBQ7teWNrN+VVWUdWELkTn1xcUm9nm9Fvn5GHDyb5cFTrDfVdaqFiHZvEAewiazsdbf7Wt0bZZ+XBxC1crUQWXex/BPiRGFDdW9pRfPPfi7q/gP1crUQY93H0zM2tr1vIfJzJouKDfsa+flqy6WByP18409+gpn6BsN+Q6WujOXG5NLU2NgILy8vRYb6+vrw6NEjREREID8/H4mJicqIUlBQEFpaWpTX19TU4NmzZygqKlJuy9EpeTs7Oxvx8fEIDw9X3iuR0vSyrAyTk5MYHhnZFhmZnkZ/6QvUfvBDVL/3bdR857vazPvfQfW33kdvSipGRZ3U6vobGRvDcE8vBuITMBAZjYHoGO0mIgpDQvKHJ9bXt0amptD/sgx14oxTrjfVdaqFiHavef/b6I2LX3e7r9Xd0Oc1Xnex/D1JyRgVJ21qdX07St3LK1D345+g+pvvqZerhazVXfT9dW/vW4z8nN60dMO+Rn6+2nJpIHI/X/v9D9BfUqr0B7W6MpabP8hIkxxhkkjZuX79OiIjI5XHAwIC0NbW9pUISUGSl+SkJMnRJvk3OTkZ5eXlmJ+fV0aZ0tPTlREqiRyFkmI1OzuLmZnp7RGxLKNieWu+9R6q/ubrqP67v9dmvvG3yvIPpaVhZm6d61fUfbypSXl/xR//MSr/7M+0mT/9U5T/0R+hLzgYM6Lfqdb17ch2r6xQ/u9c1f/+m99cn1qJaPfqr39DiG/8htp9tLLKQvr832AwJUXUfU69rm9H1H2suhq13/ue5ttdtl1/bOz6677ViM8ZyshAlehvSr9TWy4NRK63mv/zTYyIE3jZH1TrylhsTC5NchRoYmJCud3f36+MOPX09CgjUGWik8nH5HwlOQolkY/LS3jy8px8X15eniJM8v7CwgJaW1uVeU8SKV5rt7cTC0Ic6r79bdT87d+i9h//UZv5+79Xln/aOKq3XpZFOzZ88AFqvvEN9XK1kH/4B1T/1V9hXIjDRlhobkb997+v7bqLdq/9u7/DpDg52QgLLS2W0edF203l5hprtT4WxYmf5vu8cXufSE011so8TD9/jhrR35R+p7ZcGohcb3XvvYd54+AA0Rcml6Y/JFKapERtN+YaGixGmqaEtG6ERSHEliJNY3Fxxlqtjzkh/JYiTRNpacZarY85SzlREG03mZNjrNX6mBfCaCnSNJ6SYqyVeZgSJ8yWIk2zdXXGWhE9QWkyAZQmSpNquVoIpYnSZEYoTUTrUJpMAKWJ0qRarhZCaaI0mRFKE9E6lCYTQGmiNKmWq4VQmihNZoTSRLQOpckEUJooTarlaiGUJkqTGaE0Ea1DaTIBlCZKk2q5WgilidJkRihNROtQmkwApYnSpFquFkJpojSZEUoT0TqUJhNAaaI0qZarhVCaKE1mhNJEtA6lyQRQmihNquVqIZQmSpMZoTQRrUNpMgGUJkqTarlaCKWJ0mRGKE1E61CaTAClidKkWq4WQmmiNJkRShPROpQmE0BpojSplquFUJooTWaE0kS0DqXJBFCaKE2q5WohlCZKkxmhNBGtQ2kyAZQmSpNquVoIpYnSZEYoTUTrUJpMAKWJ0qRarhZCaaI0mRFKE9E6lCYTQGmiNKmWq4VQmihNZoTSRLQOpckEUJooTarlaiGUJkqTGaE0Ea1DaTIBlCZKk2q5WgilidJkRihNROtQmkwApYnSpFquFkJpojSZEUoT0TqUJhNAaaI0qZarhVCaKE1mhNJEtA6lyQRQmihNquVqIZQmSpMZoTQRrUNpMgGUJkqTarlaCKWJ0mRGKE1E61CaTAClidKkWq4WQmmiNJkRShPROpQmE0BpojSplquFUJooTWaE0kS0DqXJBFCaKE2q5WohlCZKkxmhNBGtQ2kyAZQmSpNquVoIpYnSZEYoTUTrUJpMAKWJ0qRarhZCaaI0mRFKE9E6lCYTQGmiNKmWq4VQmihNZoTSRLQOpckEUJooTarlaiGUJkqTGaE0Ea1DaTIBlCZKk2q5WgilidJkRihNROtQmkwApYnSpFquFkJpojSZEUoT0TqUJhNAaaI0qZarhVCaKE1mhNJEtA6lyQRQmihNquVqIZQmSpMZoTQRrUNpMgGUJkqTarlaCKWJ0mRGKE1E61CaTAClidKkWq4WQmmiNJkRShPROpQmE0BpojSplquFUJooTWaE0kS0DqXJBFCaKE2q5WohlCZKkxmhNBGtQ2kyAZQmSpNquVoIpYnSZEYoTUTrUJpMAKWJ0qRarhZCaaI0mRFKE9E6lCYTQGmiNKmWq4VQmihNZoTSRLQOpckEUJooTarlaiGUJkqTGaE0Ea1DaTIBlCZKk2q5WgilidJkRihNROtQmkwApYnSpFquFkJpojSZEUoT0TqUJhNAaaI0qZarhVCaKE1mhNJEtA6lyQRQmihNquVqIZQmSpMZoTQRrUNpMgGUJkqTarlaCKWJ0mRGKE1E61CaTAClidKkWq4WQmmiNJkRShPROpQmE0BpojSplquFUJooTWaE0kS0DqXJBFCaKE2q5WohlCZKkxmhNBGtQ2kyAZQmSpNquVoIpYnSZEYoTUTrUJpMAKWJ0qRarhZCaaI0mRFKE9E6lCYTQGmiNKmWq4VQmihNZoTSRLQOpckEUJooTarlaiGUJkqTGaE0Ea1DaTIBlCZKk2q5WgilidJkRihNROtQmkwApYnSpFquFkJpojSZEUoT0TqUJhNAaaI0qZarhVCaKE1mhNJEtA6lyQRQmihNquVqIZQmSpMZoTQRrUNpMgGUJkqTarlaCKWJ0mRGKE1E61CaTAClidKkWq4WQmmiNJkRShPROttKmsbGxvD8+XPMz8+jSeyUR0dHMTMzo9yXUJr+gKE0UZo2AKWJ0rQZKE1E62wbaVpZWUFhYSGSk5ORI3ZiKWJjrqysRFtbm/KcREqTvL/dmJcHz/ffR63YidaJA7AmI3dkYvmn8/ONtVofS729aPzBD1D79a+rl6uFyAPIX/4lxuPjjbVaH/NCHBq+9z1t1120e504CEympxtrtT7mm5sto8+LtpvKzTXWan0siBM3zfd54/Y+kZpqrJV5mBYnxbVSOmS/U1suDUSut/pvfQtz9fXGWhE9sW2kaWFhQZGk1dVV5IsDd2JiIpKSkhAZGYmysjLlNVVVVYo4ydfK0adtEbEs4xUVKBc7gZdf+xpe/vVfazNCGl7++dcwnJam1Em1rm9HvG5KSGylOOt68ed/rl6uFvKXf4UXf/In6A8Lw/zionpd345sd9EfK775TY3XXbT71/4Cg3FxG2r38epqpc+/EH1GtVwtRNRdtt2QOEHbSN0namosoM/Ldv8aBmJi1l/3rUZ8znBGhtLfXv6F+Hy15dJCxHorF+I0Jo5LZlt3zLbJtpGm5eVlFBUVKVJUUlLy1aU6OeKUnZ2tjDb19fWhvLwc7e3tymW67ZC2jg40C9mrfOyLCp+HqHj4SKMRy+7jg6bSUqVOanV9O22iHVpEe1U+eaK8V71cLUTU3fsBGgsK0NbZqVrXt6O0u5CmSj8/7ddd9NtGse2tu93X6m4hfb5R7G/aXr1Srevbed3uFtDnZd0LC9dd961Gfo7cvyh9Rsv9Rix75ePHaBYny+vdZhjLybaa0yRlKDQ0FCMjI5icnFTEqVRsZC9fvlRGoNaQArVtImTPcPHQMpBrWamTWl3V8ka7aJ0N1V3v7W54m0XAdt9Au28l4nMsZ28h1puMWj11FjXUXmcp2VbSRMjbrHVUydTUlDIiqRemp6eVS9HySxFr60BPyLaenZ013tMXsq9XV1cb75Gtsri4qETS29uL4eFh5TbZOnJdyik1BQUFyM3NxatXr4zPWCaUpm2OHHGrq6tTdqByzpfc4PWCPHDEx8fj2bNnqK+vV+a0yfWhB+SOJy4uTpnbl5mZqbS9XpA7X3d3dzx8+BCenp7o7u42PmP59PT0KN8allMVUlNT0djYaHyG/D7klQl5pcLX1xfBwcHKVYr+/n7lOdmHHj16pMyPlQd2+dzS0pLyHNkaQ0NDijS9ePFCmVpj6dsrpWmbI3eiT548UTZ0efBsaGgwPmP5yI1RipJEznWT8iRHX/RAc3Oz0vZSnuTOXe6Q9IIU47y8PMTGxionC3oaZZP9/f79+1+NMq19CYb8fuQ6GxgYUG6Pj48jOjpa+ckayeDgoCKigYGBCA8PR0VFhTKpl5gGOSIuT/AiIiKUkXFLhtKkAeQoS0JCgq4OnBI5j01Kg9z5yfrLnZ5ednTyspT8CY6QkBDlZzj0NNoiL8vJk4SzZ88qI41vzme0dOTBJy0tDf7+/so6mJubMz5Dfh9dXV3KF4fkCK3Mm6Py8mTrxo0byomnFFFe+jQtcl3L/bPcZ8kva1kylKZtjhQmedYtD5pyQ5e39YK8Vi4PILLuUp7ktyj1MsdFtru8TLXW7sXFxcZnLB/Zx2tqapTRAbkTlutCL8gRVXnwkaOMcjRE1p+sD3lCJWUzIyNDyZsjHnK0UvYpNzc3ZGVlGR8lpkKe6Mhvu587d04RU0uG0rTNkWdP6enpyrVieeapp+F6eXYoN0A5/0AeSGT99TIPQUqibHcpS/LHXuUBVC+szTuRfV6uA7kN6IWOjo6v2l2eJKxdnia/HylJcl8hT7TkNrM2n0kyMTGhzLuR80OlkOpp9NIcyJM7uX5lf5UnO5YMpUkDyImh8uyopaXF+Ih+kN94kWfb8mcn9IYcaZPSKH8bRG/Ivi77vPz5Eb0h5/LJdt+O//1gOyP3EU+fPlW+QCDngb45/1POdZInXkFBQYo4UZpMixRROedUzmmS69eSoTRpADmpUWbtAKKnr93LiZxSGmXdpUDJnZ1ednhr7S7rL9FLu8tLKbK9Zd3Xvi2pp2866bXdt4rsN3J0Wu4z5Ddv5fwwiRxxcnBwUCbYy0vexLTI/inXuzy5k8Ikpd+SoTRtc+Rog7R3OSE4LCwMMTExyhC+HpCTYOXXrmXd5VeJ5bde5CRDPRxE5BD32+0uL9npATmvR9Z7re6yD8jLK3pAHuBlP3+z3fV0efIPgZzrJH+OQM5zkuvU0icqmxspqFKY5Ldd5X5azh2zZChN2xw5xLz2zSl5ti2H7dfOoCwdOaT+5gYoJwi/OU/BkpGTn9e+/SNH2GS7r/04nyUjRxHlt0TXRpY6Ozt1NQlenqmv9XF5sJeXKPU0yvaHRp6I6em37syBFCY5KipP5vXQVylN2xxp8dLg5bX6gICArwRKD8gNUE4IlvWWcxT0dIYoR1Zku8tvA8nfltHTjl7+OyU50iLbXI606On3dORlOfkTG7Ld5fwbvZwkEO0iRV/OI7t3757ylz85QN450uDlHA953djSrxe/jbxMtfYDj/IfNuvphw7lRGB5WUGKs57+7YNsa/lL2HJEVfZ32e/1hGx3KU+y3fU4EZ5oDzllQo4Sy7+Wvo+mNG1zpDTIr9Cu/faInn4RXE7olF8dll/BlpFnMHq5VCFHGORcHrXfnLF05Jmr/JFC2eZvf3Xc0pEnBm+2u/xleELI9oHStM2Rv3shh+vlpQr5P5X09LMDck6TnAwdGRmJO3fuKHNd9DLSJH+XSV6a8vPzU6KXnx2QZ6tSmOQvwHt5eSmXKPU02iJ/o0q2u9zW5SU6eamSELJ9oDRtc+RoizzzlhOD5beK9DS3RQ71SkmU9Zb1l+Kgl58bkJek1uot/8oRCL0gR1flr6DLUVXZ9/XyT5olb7c75zQRsr2gNBFCCCGErANKEyGEEELIOqA0EUIIIYSsA0oTIYQQQsg6oDQRQgghhKwDShMhhBBCyDqgNBFCCCGErANKEyGEEELIOqA0EUIIIYSsA0oTIYQQQsg6oDQRQgghhKyD35Am+b/OhoeHlX+SyTAMwzAMw8iM4P8D60jugM8i9AsAAAAASUVORK5CYII=)"
      ],
      "metadata": {
        "id": "Gl5wmcTSG1CS"
      }
    },
    {
      "cell_type": "markdown",
      "source": [
        "**Separación de datos en Entrenamiento y Prueba.**\n",
        "\n",
        "Entrenamiento: datos que se utilizan para generar nuestro modelo.\n",
        "\n",
        "Prueba: **datos que se utilizan para validar el modelo generado con los datos de entrenamiento.**\n",
        "\n",
        "**Al final se deben usar todos los datos para generar el mejor modelo posible antes de pronosticar los datos**.\n",
        "\n",
        "Error de generalización: Cuando se sobre ajusta un modelo a nuestros datos de entrenamiento y por ende no se puede generar una buena predicción.\n",
        "\n",
        "**Validación Cruzada: Este metodo nos ayuda a validar todas las combinaciones de resultado de modelo para verificar si no hay sobreentrenamiento.**"
      ],
      "metadata": {
        "id": "ggPQx12MSBSJ"
      }
    },
    {
      "cell_type": "code",
      "execution_count": 1,
      "metadata": {
        "id": "jZltX4yLvfSb",
        "colab": {
          "base_uri": "https://localhost:8080/",
          "height": 301
        },
        "outputId": "598c91e2-e313-4e11-a5fa-95174165cc20"
      },
      "outputs": [
        {
          "output_type": "execute_result",
          "data": {
            "text/plain": [
              "        symboling  normalized-losses  wheel-base      length       width  \\\n",
              "count  159.000000         159.000000  159.000000  159.000000  159.000000   \n",
              "mean     0.735849         121.132075   98.264151  172.413836   65.607547   \n",
              "std      1.193086          35.651285    5.167416   11.523177    1.947883   \n",
              "min     -2.000000          65.000000   86.600000  141.100000   60.300000   \n",
              "25%      0.000000          94.000000   94.500000  165.650000   64.000000   \n",
              "50%      1.000000         113.000000   96.900000  172.400000   65.400000   \n",
              "75%      2.000000         148.000000  100.800000  177.800000   66.500000   \n",
              "max      3.000000         256.000000  115.600000  202.600000   71.700000   \n",
              "\n",
              "           height  curb-weight  engine-size        bore      stroke  \\\n",
              "count  159.000000   159.000000   159.000000  159.000000  159.000000   \n",
              "mean    53.899371  2461.138365   119.226415    3.300126    3.236352   \n",
              "std      2.268761   481.941321    30.460791    0.267336    0.294888   \n",
              "min     49.400000  1488.000000    61.000000    2.540000    2.070000   \n",
              "25%     52.250000  2065.500000    97.000000    3.050000    3.105000   \n",
              "50%     54.100000  2340.000000   110.000000    3.270000    3.270000   \n",
              "75%     55.500000  2809.500000   135.000000    3.560000    3.410000   \n",
              "max     59.800000  4066.000000   258.000000    3.940000    4.170000   \n",
              "\n",
              "       compression-ratio  horsepower     peak-rpm    city-mpg  highway-mpg  \\\n",
              "count         159.000000  159.000000   159.000000  159.000000   159.000000   \n",
              "mean           10.161132   95.836478  5113.836478   26.522013    32.081761   \n",
              "std             3.889475   30.718583   465.754864    6.097142     6.459189   \n",
              "min             7.000000   48.000000  4150.000000   15.000000    18.000000   \n",
              "25%             8.700000   69.000000  4800.000000   23.000000    28.000000   \n",
              "50%             9.000000   88.000000  5200.000000   26.000000    32.000000   \n",
              "75%             9.400000  114.000000  5500.000000   31.000000    37.000000   \n",
              "max            23.000000  200.000000  6600.000000   49.000000    54.000000   \n",
              "\n",
              "              price  \n",
              "count    159.000000  \n",
              "mean   11445.729560  \n",
              "std     5877.856195  \n",
              "min     5118.000000  \n",
              "25%     7372.000000  \n",
              "50%     9233.000000  \n",
              "75%    14719.500000  \n",
              "max    35056.000000  "
            ],
            "text/html": [
              "\n",
              "  <div id=\"df-707cb90a-dcb3-471c-b2e8-6f645527202d\">\n",
              "    <div class=\"colab-df-container\">\n",
              "      <div>\n",
              "<style scoped>\n",
              "    .dataframe tbody tr th:only-of-type {\n",
              "        vertical-align: middle;\n",
              "    }\n",
              "\n",
              "    .dataframe tbody tr th {\n",
              "        vertical-align: top;\n",
              "    }\n",
              "\n",
              "    .dataframe thead th {\n",
              "        text-align: right;\n",
              "    }\n",
              "</style>\n",
              "<table border=\"1\" class=\"dataframe\">\n",
              "  <thead>\n",
              "    <tr style=\"text-align: right;\">\n",
              "      <th></th>\n",
              "      <th>symboling</th>\n",
              "      <th>normalized-losses</th>\n",
              "      <th>wheel-base</th>\n",
              "      <th>length</th>\n",
              "      <th>width</th>\n",
              "      <th>height</th>\n",
              "      <th>curb-weight</th>\n",
              "      <th>engine-size</th>\n",
              "      <th>bore</th>\n",
              "      <th>stroke</th>\n",
              "      <th>compression-ratio</th>\n",
              "      <th>horsepower</th>\n",
              "      <th>peak-rpm</th>\n",
              "      <th>city-mpg</th>\n",
              "      <th>highway-mpg</th>\n",
              "      <th>price</th>\n",
              "    </tr>\n",
              "  </thead>\n",
              "  <tbody>\n",
              "    <tr>\n",
              "      <th>count</th>\n",
              "      <td>159.000000</td>\n",
              "      <td>159.000000</td>\n",
              "      <td>159.000000</td>\n",
              "      <td>159.000000</td>\n",
              "      <td>159.000000</td>\n",
              "      <td>159.000000</td>\n",
              "      <td>159.000000</td>\n",
              "      <td>159.000000</td>\n",
              "      <td>159.000000</td>\n",
              "      <td>159.000000</td>\n",
              "      <td>159.000000</td>\n",
              "      <td>159.000000</td>\n",
              "      <td>159.000000</td>\n",
              "      <td>159.000000</td>\n",
              "      <td>159.000000</td>\n",
              "      <td>159.000000</td>\n",
              "    </tr>\n",
              "    <tr>\n",
              "      <th>mean</th>\n",
              "      <td>0.735849</td>\n",
              "      <td>121.132075</td>\n",
              "      <td>98.264151</td>\n",
              "      <td>172.413836</td>\n",
              "      <td>65.607547</td>\n",
              "      <td>53.899371</td>\n",
              "      <td>2461.138365</td>\n",
              "      <td>119.226415</td>\n",
              "      <td>3.300126</td>\n",
              "      <td>3.236352</td>\n",
              "      <td>10.161132</td>\n",
              "      <td>95.836478</td>\n",
              "      <td>5113.836478</td>\n",
              "      <td>26.522013</td>\n",
              "      <td>32.081761</td>\n",
              "      <td>11445.729560</td>\n",
              "    </tr>\n",
              "    <tr>\n",
              "      <th>std</th>\n",
              "      <td>1.193086</td>\n",
              "      <td>35.651285</td>\n",
              "      <td>5.167416</td>\n",
              "      <td>11.523177</td>\n",
              "      <td>1.947883</td>\n",
              "      <td>2.268761</td>\n",
              "      <td>481.941321</td>\n",
              "      <td>30.460791</td>\n",
              "      <td>0.267336</td>\n",
              "      <td>0.294888</td>\n",
              "      <td>3.889475</td>\n",
              "      <td>30.718583</td>\n",
              "      <td>465.754864</td>\n",
              "      <td>6.097142</td>\n",
              "      <td>6.459189</td>\n",
              "      <td>5877.856195</td>\n",
              "    </tr>\n",
              "    <tr>\n",
              "      <th>min</th>\n",
              "      <td>-2.000000</td>\n",
              "      <td>65.000000</td>\n",
              "      <td>86.600000</td>\n",
              "      <td>141.100000</td>\n",
              "      <td>60.300000</td>\n",
              "      <td>49.400000</td>\n",
              "      <td>1488.000000</td>\n",
              "      <td>61.000000</td>\n",
              "      <td>2.540000</td>\n",
              "      <td>2.070000</td>\n",
              "      <td>7.000000</td>\n",
              "      <td>48.000000</td>\n",
              "      <td>4150.000000</td>\n",
              "      <td>15.000000</td>\n",
              "      <td>18.000000</td>\n",
              "      <td>5118.000000</td>\n",
              "    </tr>\n",
              "    <tr>\n",
              "      <th>25%</th>\n",
              "      <td>0.000000</td>\n",
              "      <td>94.000000</td>\n",
              "      <td>94.500000</td>\n",
              "      <td>165.650000</td>\n",
              "      <td>64.000000</td>\n",
              "      <td>52.250000</td>\n",
              "      <td>2065.500000</td>\n",
              "      <td>97.000000</td>\n",
              "      <td>3.050000</td>\n",
              "      <td>3.105000</td>\n",
              "      <td>8.700000</td>\n",
              "      <td>69.000000</td>\n",
              "      <td>4800.000000</td>\n",
              "      <td>23.000000</td>\n",
              "      <td>28.000000</td>\n",
              "      <td>7372.000000</td>\n",
              "    </tr>\n",
              "    <tr>\n",
              "      <th>50%</th>\n",
              "      <td>1.000000</td>\n",
              "      <td>113.000000</td>\n",
              "      <td>96.900000</td>\n",
              "      <td>172.400000</td>\n",
              "      <td>65.400000</td>\n",
              "      <td>54.100000</td>\n",
              "      <td>2340.000000</td>\n",
              "      <td>110.000000</td>\n",
              "      <td>3.270000</td>\n",
              "      <td>3.270000</td>\n",
              "      <td>9.000000</td>\n",
              "      <td>88.000000</td>\n",
              "      <td>5200.000000</td>\n",
              "      <td>26.000000</td>\n",
              "      <td>32.000000</td>\n",
              "      <td>9233.000000</td>\n",
              "    </tr>\n",
              "    <tr>\n",
              "      <th>75%</th>\n",
              "      <td>2.000000</td>\n",
              "      <td>148.000000</td>\n",
              "      <td>100.800000</td>\n",
              "      <td>177.800000</td>\n",
              "      <td>66.500000</td>\n",
              "      <td>55.500000</td>\n",
              "      <td>2809.500000</td>\n",
              "      <td>135.000000</td>\n",
              "      <td>3.560000</td>\n",
              "      <td>3.410000</td>\n",
              "      <td>9.400000</td>\n",
              "      <td>114.000000</td>\n",
              "      <td>5500.000000</td>\n",
              "      <td>31.000000</td>\n",
              "      <td>37.000000</td>\n",
              "      <td>14719.500000</td>\n",
              "    </tr>\n",
              "    <tr>\n",
              "      <th>max</th>\n",
              "      <td>3.000000</td>\n",
              "      <td>256.000000</td>\n",
              "      <td>115.600000</td>\n",
              "      <td>202.600000</td>\n",
              "      <td>71.700000</td>\n",
              "      <td>59.800000</td>\n",
              "      <td>4066.000000</td>\n",
              "      <td>258.000000</td>\n",
              "      <td>3.940000</td>\n",
              "      <td>4.170000</td>\n",
              "      <td>23.000000</td>\n",
              "      <td>200.000000</td>\n",
              "      <td>6600.000000</td>\n",
              "      <td>49.000000</td>\n",
              "      <td>54.000000</td>\n",
              "      <td>35056.000000</td>\n",
              "    </tr>\n",
              "  </tbody>\n",
              "</table>\n",
              "</div>\n",
              "      <button class=\"colab-df-convert\" onclick=\"convertToInteractive('df-707cb90a-dcb3-471c-b2e8-6f645527202d')\"\n",
              "              title=\"Convert this dataframe to an interactive table.\"\n",
              "              style=\"display:none;\">\n",
              "        \n",
              "  <svg xmlns=\"http://www.w3.org/2000/svg\" height=\"24px\"viewBox=\"0 0 24 24\"\n",
              "       width=\"24px\">\n",
              "    <path d=\"M0 0h24v24H0V0z\" fill=\"none\"/>\n",
              "    <path d=\"M18.56 5.44l.94 2.06.94-2.06 2.06-.94-2.06-.94-.94-2.06-.94 2.06-2.06.94zm-11 1L8.5 8.5l.94-2.06 2.06-.94-2.06-.94L8.5 2.5l-.94 2.06-2.06.94zm10 10l.94 2.06.94-2.06 2.06-.94-2.06-.94-.94-2.06-.94 2.06-2.06.94z\"/><path d=\"M17.41 7.96l-1.37-1.37c-.4-.4-.92-.59-1.43-.59-.52 0-1.04.2-1.43.59L10.3 9.45l-7.72 7.72c-.78.78-.78 2.05 0 2.83L4 21.41c.39.39.9.59 1.41.59.51 0 1.02-.2 1.41-.59l7.78-7.78 2.81-2.81c.8-.78.8-2.07 0-2.86zM5.41 20L4 18.59l7.72-7.72 1.47 1.35L5.41 20z\"/>\n",
              "  </svg>\n",
              "      </button>\n",
              "      \n",
              "  <style>\n",
              "    .colab-df-container {\n",
              "      display:flex;\n",
              "      flex-wrap:wrap;\n",
              "      gap: 12px;\n",
              "    }\n",
              "\n",
              "    .colab-df-convert {\n",
              "      background-color: #E8F0FE;\n",
              "      border: none;\n",
              "      border-radius: 50%;\n",
              "      cursor: pointer;\n",
              "      display: none;\n",
              "      fill: #1967D2;\n",
              "      height: 32px;\n",
              "      padding: 0 0 0 0;\n",
              "      width: 32px;\n",
              "    }\n",
              "\n",
              "    .colab-df-convert:hover {\n",
              "      background-color: #E2EBFA;\n",
              "      box-shadow: 0px 1px 2px rgba(60, 64, 67, 0.3), 0px 1px 3px 1px rgba(60, 64, 67, 0.15);\n",
              "      fill: #174EA6;\n",
              "    }\n",
              "\n",
              "    [theme=dark] .colab-df-convert {\n",
              "      background-color: #3B4455;\n",
              "      fill: #D2E3FC;\n",
              "    }\n",
              "\n",
              "    [theme=dark] .colab-df-convert:hover {\n",
              "      background-color: #434B5C;\n",
              "      box-shadow: 0px 1px 3px 1px rgba(0, 0, 0, 0.15);\n",
              "      filter: drop-shadow(0px 1px 2px rgba(0, 0, 0, 0.3));\n",
              "      fill: #FFFFFF;\n",
              "    }\n",
              "  </style>\n",
              "\n",
              "      <script>\n",
              "        const buttonEl =\n",
              "          document.querySelector('#df-707cb90a-dcb3-471c-b2e8-6f645527202d button.colab-df-convert');\n",
              "        buttonEl.style.display =\n",
              "          google.colab.kernel.accessAllowed ? 'block' : 'none';\n",
              "\n",
              "        async function convertToInteractive(key) {\n",
              "          const element = document.querySelector('#df-707cb90a-dcb3-471c-b2e8-6f645527202d');\n",
              "          const dataTable =\n",
              "            await google.colab.kernel.invokeFunction('convertToInteractive',\n",
              "                                                     [key], {});\n",
              "          if (!dataTable) return;\n",
              "\n",
              "          const docLinkHtml = 'Like what you see? Visit the ' +\n",
              "            '<a target=\"_blank\" href=https://colab.research.google.com/notebooks/data_table.ipynb>data table notebook</a>'\n",
              "            + ' to learn more about interactive tables.';\n",
              "          element.innerHTML = '';\n",
              "          dataTable['output_type'] = 'display_data';\n",
              "          await google.colab.output.renderOutput(dataTable, element);\n",
              "          const docLink = document.createElement('div');\n",
              "          docLink.innerHTML = docLinkHtml;\n",
              "          element.appendChild(docLink);\n",
              "        }\n",
              "      </script>\n",
              "    </div>\n",
              "  </div>\n",
              "  "
            ]
          },
          "metadata": {},
          "execution_count": 1
        }
      ],
      "source": [
        "# Get Data and create csv to work localy\n",
        "import requests\n",
        "import os\n",
        "import pandas as pd\n",
        "import numpy as np\n",
        "url='https://archive.ics.uci.edu/ml/machine-learning-databases/autos/imports-85.data'\n",
        "path=os.path.join(os.getcwd(),'cars.csv')\n",
        "\n",
        "df=pd.read_csv(url, header= None)\n",
        "headers=['symboling','normalized-losses','make','fuel-type','aspiration','num-of-doors','body-style','drive-wheels','engine-location','wheel-base','length','width','height','curb-weight','engine-type','num-of-cylinders','engine-size','fuel-system','bore','stroke','compression-ratio','horsepower','peak-rpm','city-mpg','highway-mpg','price']\n",
        "df.columns = headers\n",
        "df=df.replace('?',np.NaN)\n",
        "df[\"price\"] = df[\"price\"].astype(\"float\")\n",
        "df[\"normalized-losses\"] = df[\"normalized-losses\"].astype(\"float\")\n",
        "df[\"make\"] = df[\"make\"].astype(\"string\")\n",
        "df[\"fuel-type\"] = df[\"fuel-type\"].astype(\"string\")\n",
        "df[\"aspiration\"] = df[\"aspiration\"].astype(\"string\")\n",
        "df[\"num-of-doors\"] = df[\"num-of-doors\"].astype(\"string\")\n",
        "df[\"body-style\"] = df[\"body-style\"].astype(\"string\")\n",
        "df[\"drive-wheels\"] = df[\"drive-wheels\"].astype(\"string\")\n",
        "df[\"engine-location\"] = df[\"engine-location\"].astype(\"string\")\n",
        "df[\"engine-type\"] = df[\"engine-type\"].astype(\"string\")\n",
        "df[\"fuel-system\"] = df[\"fuel-system\"].astype(\"string\")\n",
        "df[\"num-of-cylinders\"] = df[\"num-of-cylinders\"].astype(\"string\")\n",
        "df[\"bore\"] = df[\"bore\"].astype(\"float\")\n",
        "df[\"stroke\"] = df[\"stroke\"].astype(\"float\")\n",
        "df[\"horsepower\"] = df[\"horsepower\"].astype(\"float\")\n",
        "df[\"peak-rpm\"] = df[\"peak-rpm\"].astype(\"float\")\n",
        "df.dropna(inplace=True)\n",
        "df.to_csv(path)\n",
        "url='https://archive.ics.uci.edu/ml/machine-learning-databases/autos/imports-85.data'\n",
        "df=pd.read_csv(url, header= None)\n",
        "headers=['symboling','normalized-losses','make','fuel-type','aspiration','num-of-doors','body-style','drive-wheels','engine-location','wheel-base','length','width','height','curb-weight','engine-type','num-of-cylinders','engine-size','fuel-system','bore','stroke','compression-ratio','horsepower','peak-rpm','city-mpg','highway-mpg','price']\n",
        "df.columns = headers\n",
        "df=df.replace('?',np.NaN)\n",
        "df[\"price\"] = df[\"price\"].astype(\"float\")\n",
        "df[\"normalized-losses\"] = df[\"normalized-losses\"].astype(\"float\")\n",
        "df[\"make\"] = df[\"make\"].astype(\"string\")\n",
        "df[\"fuel-type\"] = df[\"fuel-type\"].astype(\"string\")\n",
        "df[\"aspiration\"] = df[\"aspiration\"].astype(\"string\")\n",
        "df[\"num-of-doors\"] = df[\"num-of-doors\"].astype(\"string\")\n",
        "df[\"body-style\"] = df[\"body-style\"].astype(\"string\")\n",
        "df[\"drive-wheels\"] = df[\"drive-wheels\"].astype(\"string\")\n",
        "df[\"engine-location\"] = df[\"engine-location\"].astype(\"string\")\n",
        "df[\"engine-type\"] = df[\"engine-type\"].astype(\"string\")\n",
        "df[\"fuel-system\"] = df[\"fuel-system\"].astype(\"string\")\n",
        "df[\"num-of-cylinders\"] = df[\"num-of-cylinders\"].astype(\"string\")\n",
        "df[\"bore\"] = df[\"bore\"].astype(\"float\")\n",
        "df[\"stroke\"] = df[\"stroke\"].astype(\"float\")\n",
        "df[\"horsepower\"] = df[\"horsepower\"].astype(\"float\")\n",
        "df[\"peak-rpm\"] = df[\"peak-rpm\"].astype(\"float\")\n",
        "df.dropna(inplace=True)\n",
        "df.describe()"
      ]
    },
    {
      "cell_type": "code",
      "source": [
        "from ipywidgets import interact, interactive, fixed, interact_manual"
      ],
      "metadata": {
        "id": "MlLysKMkV9IC"
      },
      "execution_count": 2,
      "outputs": []
    },
    {
      "cell_type": "code",
      "source": [
        "#Functions for Plotting\n",
        "def DistributionPlot(RedFunction, BlueFunction, RedName, BlueName, Title):\n",
        "    width = 12\n",
        "    height = 10\n",
        "    plt.figure(figsize=(width, height))\n",
        "\n",
        "    ax1 = sns.distplot(RedFunction, hist=False, color=\"r\", label=RedName)\n",
        "    ax2 = sns.distplot(BlueFunction, hist=False, color=\"b\", label=BlueName, ax=ax1)\n",
        "\n",
        "    plt.title(Title)\n",
        "    plt.xlabel('Price (in dollars)')\n",
        "    plt.ylabel('Proportion of Cars')\n",
        "\n",
        "    plt.show()\n",
        "    plt.close()"
      ],
      "metadata": {
        "id": "dksvmpmRV_FK"
      },
      "execution_count": 3,
      "outputs": []
    },
    {
      "cell_type": "code",
      "source": [
        "def PollyPlot(xtrain, xtest, y_train, y_test, lr,poly_transform):\n",
        "    width = 12\n",
        "    height = 10\n",
        "    plt.figure(figsize=(width, height))\n",
        "    #training data \n",
        "    #testing data \n",
        "    #poly_transform:  polynomial transformation object  \n",
        "    xmax=max([xtrain.values.max(), xtest.values.max()])\n",
        "    xmin=min([xtrain.values.min(), xtest.values.min()])\n",
        "    x=np.arange(xmin, xmax, 0.1)\n",
        "    plt.plot(xtrain, y_train, 'ro', label='Training Data')\n",
        "    plt.plot(xtest, y_test, 'go', label='Test Data')\n",
        "    plt.plot(x, lr.predict(poly_transform.fit_transform(x.reshape(-1, 1))), label='Predicted Function')\n",
        "    plt.ylim([-10000, 60000])\n",
        "    plt.ylabel('Price')\n",
        "    plt.legend()"
      ],
      "metadata": {
        "id": "oUyUlM1PWC3D"
      },
      "execution_count": 4,
      "outputs": []
    },
    {
      "cell_type": "code",
      "source": [
        "#Training and Testing\n",
        "#Split data into training and testing data. We will place the target data price in a separate dataframe y_data:\n",
        "y_data = df['price']"
      ],
      "metadata": {
        "id": "C7BSwzjCWIbK"
      },
      "execution_count": 5,
      "outputs": []
    },
    {
      "cell_type": "code",
      "source": [
        "#Drop price data in dataframe x_data\n",
        "x_data=df.drop('price',axis=1)"
      ],
      "metadata": {
        "id": "FCGg6O_-WNLC"
      },
      "execution_count": 6,
      "outputs": []
    },
    {
      "cell_type": "code",
      "source": [
        "#Now, randomly split the data into training and testing data using the function train_test_split.\n",
        "from sklearn.model_selection import train_test_split\n",
        "x_train, x_test, y_train, y_test = train_test_split(x_data, y_data, test_size=0.10, random_state=1)\n",
        "print(\"number of test samples :\", x_test.shape[0])\n",
        "print(\"number of training samples:\",x_train.shape[0])"
      ],
      "metadata": {
        "colab": {
          "base_uri": "https://localhost:8080/"
        },
        "id": "IrgEGHRjWPFa",
        "outputId": "cb5505ad-ab80-4aea-aa4f-8506802b3166"
      },
      "execution_count": 7,
      "outputs": [
        {
          "output_type": "stream",
          "name": "stdout",
          "text": [
            "number of test samples : 16\n",
            "number of training samples: 143\n"
          ]
        }
      ]
    },
    {
      "cell_type": "markdown",
      "source": [
        "*The test_size parameter sets the proportion of data that is split into the testing set. In the above, the testing set is 10% of the total dataset.*"
      ],
      "metadata": {
        "id": "UhDl6FTOWvr6"
      }
    },
    {
      "cell_type": "code",
      "source": [
        "# Data Separation\n",
        "from sklearn.model_selection import train_test_split\n",
        "\n",
        "# Separate the data into variables and output\n",
        "y=df['price']\n",
        "X=df.drop(labels='price',axis=1)\n",
        "\n",
        "# Separate into training and test data\n",
        "x_train,x_test, y_train, y_test = train_test_split(X,y,test_size=0.3,random_state=0)\n",
        "print('X_train shape: ',x_train.shape)\n",
        "print('X_test shape: ',x_test.shape)\n",
        "print('y_train shape: ',y_train.shape)\n",
        "print('y_test shape: ',y_test.shape)"
      ],
      "metadata": {
        "colab": {
          "base_uri": "https://localhost:8080/"
        },
        "id": "yhfqN34qSXUZ",
        "outputId": "1e4dfbf1-2c82-4e06-8c2e-7ddb05b259f7"
      },
      "execution_count": 8,
      "outputs": [
        {
          "output_type": "stream",
          "name": "stdout",
          "text": [
            "X_train shape:  (111, 25)\n",
            "X_test shape:  (48, 25)\n",
            "y_train shape:  (111,)\n",
            "y_test shape:  (48,)\n"
          ]
        }
      ]
    },
    {
      "cell_type": "code",
      "source": [
        "# Cross Validation\n",
        "from sklearn.model_selection import cross_val_score\n",
        "from sklearn.linear_model import LinearRegression\n",
        "numerical=['normalized-losses','wheel-base','length','width','height','curb-weight','engine-size','bore','stroke','compression-ratio','horsepower','peak-rpm','city-mpg','highway-mpg']\n",
        "X_num=X[numerical]\n",
        "# Validate model with mean of scores of cv partitions\n",
        "lr=LinearRegression()\n",
        "scores=cross_val_score(lr,X_num,y,cv=3)\n",
        "np.mean(scores)"
      ],
      "metadata": {
        "colab": {
          "base_uri": "https://localhost:8080/"
        },
        "id": "WwEBNO3mSbH4",
        "outputId": "73f647d2-ed01-4d5f-85ef-8afaf6e5e82b"
      },
      "execution_count": 9,
      "outputs": [
        {
          "output_type": "execute_result",
          "data": {
            "text/plain": [
              "0.641311922662628"
            ]
          },
          "metadata": {},
          "execution_count": 9
        }
      ]
    },
    {
      "cell_type": "code",
      "source": [
        "# Predicción con validación cruzada\n",
        "from sklearn.model_selection import cross_val_predict\n",
        "yhat=cross_val_predict(lr,X_num,y,cv=3)\n",
        "yhat"
      ],
      "metadata": {
        "colab": {
          "base_uri": "https://localhost:8080/"
        },
        "id": "ZYm95VOeSemp",
        "outputId": "d9247481-4826-4af6-9700-cf4003644fd9"
      },
      "execution_count": 10,
      "outputs": [
        {
          "output_type": "execute_result",
          "data": {
            "text/plain": [
              "array([11773.66954624, 13716.18056519, 19409.72957253, 21995.28205442,\n",
              "       10884.42505162, 10884.42505162, 10112.88367382, 10345.49458513,\n",
              "        1010.44916461,  6546.60841138,  6462.16109636,  6466.71095975,\n",
              "        6444.13164128,  8602.20316215,  6865.10297416,  6958.14733868,\n",
              "        6958.14733868,  9325.98993144, 13392.72908074,  5356.91019779,\n",
              "        7595.2865859 ,  7236.67219184,  8151.58448951,  8219.25311826,\n",
              "        7765.87930479,  8310.33746404,  9611.48281856,  9835.63515128,\n",
              "        9352.58075542,  6140.90148697, 10701.20241807, 11058.17437791,\n",
              "       20831.54036298,  6334.24025396,  6580.71136409,  6601.85781057,\n",
              "        6239.91904802,  6253.76269683, 10069.33007537, 10257.45450213,\n",
              "       10069.33007537, 10257.45450213, 10320.89384158, 12942.16739235,\n",
              "       20614.14820251, 21735.95989501, 20509.26141667, 22951.91534211,\n",
              "       21178.77337244,  7441.1381439 ,  7529.57681097,  7783.33416877,\n",
              "        8706.86459663,  9789.65155472,  9345.12658029,  9375.62109778,\n",
              "        9671.00974291,  9790.6072077 , 10007.22269859,  5018.67183087,\n",
              "        6655.30862094,  5232.82859858,  5272.2151757 ,  4680.21056625,\n",
              "        5476.52423081,  5906.36567652,  5515.91080793,  4776.21187592,\n",
              "        7168.68780921,  8907.713419  ,  8745.24966418, 20758.2641491 ,\n",
              "       21476.64512583, 19674.28815522, 21908.04110159, 22691.10464923,\n",
              "       23884.26390664, 18854.50240373, 20907.45008324, 23119.43469034,\n",
              "       21313.60947029, 19260.66179078, 21313.60947029, 20628.91427648,\n",
              "        6130.45925976,  7882.67172098,  7347.77027335,  5872.48995164,\n",
              "        7915.86708069, 11183.47225883, 18247.37604944, 12868.64161798,\n",
              "       12310.64878025, 20076.92195777, 12775.88589632, 14539.99561279,\n",
              "       13997.64016005,  8198.71407858,  8228.64988489,  9406.17540055,\n",
              "        8851.06326185,  9060.39566065, 10685.45911204, 10601.67079797,\n",
              "       11856.19085584,  9397.61306274, 10231.29923904,  9165.58757632,\n",
              "       11157.12700356,  6110.64552646,  5833.07428601,  5656.03411137,\n",
              "        5799.84982514,  5907.2522772 ,  7215.57041864,  6677.14157871,\n",
              "        6713.29658651,  9935.2616716 ,  9269.43780305,  6597.06915704,\n",
              "        6808.05436107,  6834.40202809,  7170.80499036,  7222.03656511,\n",
              "       11158.95194429, 11210.18351904, 13091.42743255, 13085.57239544,\n",
              "       13107.52878462, 13294.88997231, 13346.12154706, 13752.31397884,\n",
              "       10514.9246578 , 13159.6375159 , 10593.40595653, 10617.55721654,\n",
              "       10657.8113648 , 22036.95759227, 21980.51167279, 20295.21223208,\n",
              "       10053.59876621,  9351.80222396,  9755.49055213,  9053.69400989,\n",
              "        9145.91084445, 10686.87524374, 10460.61729358,  9876.78834724,\n",
              "       15947.32711111, 15843.99933595, 16095.98986516, 15970.70570081,\n",
              "       16934.06478477, 16816.09941681, 18133.27795534, 19909.35714472,\n",
              "       22451.87733726, 22336.11165674, 18140.02779869])"
            ]
          },
          "metadata": {},
          "execution_count": 10
        }
      ]
    },
    {
      "cell_type": "markdown",
      "source": [
        "**Subentrenamiento:** Cuando el modelo tiene errores y no es posible predecir los datos correctamente.\n",
        "**Sobreentrenamiento: **Cuando el modelo es complejo y se ajusta demasiado a nuestros datos de entrenamiento por lo que no es realista al momento de predecir."
      ],
      "metadata": {
        "id": "8jaj5oihSlsQ"
      }
    },
    {
      "cell_type": "markdown",
      "source": [
        "**Find the R^2**"
      ],
      "metadata": {
        "id": "zK4ZVMuJvNgq"
      }
    },
    {
      "cell_type": "code",
      "source": [
        "#siempre existira un grado de error irreducible debido al ruido.\n",
        "# Model validation with R2\n",
        "from sklearn.preprocessing import PolynomialFeatures\n",
        "import matplotlib.pyplot as plt\n",
        "%matplotlib inline\n",
        "import seaborn as sns\n",
        "R2_Test=[]\n",
        "order=[1,2,3,4]\n",
        "for n in order:\n",
        "    pr=PolynomialFeatures(degree=n)\n",
        "    x_train_pr=pr.fit_transform(x_train[['horsepower']])\n",
        "    x_test_pr=pr.fit_transform(x_test[['horsepower']])\n",
        "    lr.fit(x_train_pr,y_train)\n",
        "    R2_Test.append(lr.score(x_test_pr,y_test))\n",
        "plt.plot(order, R2_Test)\n",
        "plt.xlabel('order')\n",
        "plt.ylabel('R^2')\n",
        "plt.title('R^2 Using Test Data')\n",
        "R2_Test"
      ],
      "metadata": {
        "colab": {
          "base_uri": "https://localhost:8080/",
          "height": 312
        },
        "id": "FQquiUi1SyBB",
        "outputId": "9afbe532-1d13-4104-aa7b-235dde443f92"
      },
      "execution_count": 11,
      "outputs": [
        {
          "output_type": "execute_result",
          "data": {
            "text/plain": [
              "[0.622783465894838, 0.6302292057784656, 0.6549200048453592, 0.6797546315472967]"
            ]
          },
          "metadata": {},
          "execution_count": 11
        },
        {
          "output_type": "display_data",
          "data": {
            "text/plain": [
              "<Figure size 432x288 with 1 Axes>"
            ],
            "image/png": "[encoded data removed]"
          },
          "metadata": {
            "needs_background": "light"
          }
        }
      ]
    },
    {
      "cell_type": "markdown",
      "source": [
        "**Regresión Ridge **Es para ajustes de sobreentrenamiento.\n",
        "*Alfa es una variable que se utiliza en los modelos para ajustes de datos extremos y ayuda a balancear nuestro modelo.*\n",
        "\n",
        "**Se puede observar en los coeficientes de un modelo polinomial tienen magnitudes altas que esta sobrentrenado.**"
      ],
      "metadata": {
        "id": "EQGXpgiKS6t5"
      }
    },
    {
      "cell_type": "markdown",
      "source": [
        "**Busqueda de Malla:** Busca hyperparámetros con validación cruzada para encontrar el menor error para que usemos los parámetros optimos."
      ],
      "metadata": {
        "id": "o0ZPrYWeS6yx"
      }
    },
    {
      "cell_type": "code",
      "source": [
        "from sklearn.preprocessing import PolynomialFeatures"
      ],
      "metadata": {
        "id": "qfJs7uQx14X0"
      },
      "execution_count": 12,
      "outputs": []
    },
    {
      "cell_type": "code",
      "source": [
        "x_train, x_test, y_train, y_test = train_test_split(x_data, y_data, test_size=0.45, random_state=0)"
      ],
      "metadata": {
        "id": "C6eUO74-17TU"
      },
      "execution_count": 13,
      "outputs": []
    },
    {
      "cell_type": "code",
      "source": [
        "pr=PolynomialFeatures(degree=2)\n",
        "x_train_pr=pr.fit_transform(x_train[['horsepower', 'curb-weight', 'engine-size', 'highway-mpg','normalized-losses','symboling']])\n",
        "x_test_pr=pr.fit_transform(x_test[['horsepower', 'curb-weight', 'engine-size', 'highway-mpg','normalized-losses','symboling']])"
      ],
      "metadata": {
        "id": "O397MVmh1sHl"
      },
      "execution_count": 14,
      "outputs": []
    },
    {
      "cell_type": "code",
      "source": [
        "# Ridge regression\n",
        "from sklearn.linear_model import Ridge\n",
        "import seaborn as sns\n",
        "RigeModel=Ridge(alpha=1)\n",
        "RigeModel.fit(x_train_pr, y_train)\n",
        "yhat = RigeModel.predict(x_test_pr)\n",
        "sns.residplot(x=X_num['horsepower'],y=y,color='r')\n",
        "sns.residplot(x=X_num['horsepower'],y=t,color='y')\n",
        "yhat"
      ],
      "metadata": {
        "colab": {
          "base_uri": "https://localhost:8080/",
          "height": 591
        },
        "id": "djx2SMoqS5JY",
        "outputId": "7294dbfb-b190-4a87-a888-23bb7b8e1dc2"
      },
      "execution_count": 25,
      "outputs": [
        {
          "output_type": "execute_result",
          "data": {
            "text/plain": [
              "array([17834.03285438,  9921.35215295, 26654.30233011, 30301.79273464,\n",
              "        6373.38715283,  7269.3684496 ,  7205.82656416, 15285.70975045,\n",
              "        6067.07309457, 22125.71547012, 10172.86711797,  9645.50711414,\n",
              "        7176.0937293 , 10065.09129308,  6889.50330777,  6291.28169159,\n",
              "       26332.4008746 ,  6916.11437292,  8099.89625974,  8462.02455919,\n",
              "        7112.56460532,  8166.03831518,  7295.86997416,  8590.47140105,\n",
              "        6586.99521933, 10676.03330294,  6880.33172025,  9756.18289718,\n",
              "        8426.0446813 , 15029.76311175,  7512.23151941, 14374.89127827,\n",
              "        8121.7991335 , 11917.31231988,  6972.31415101, 26426.70959486,\n",
              "        9484.95420424,  6111.57128378,  6393.05612514, 11472.0576417 ,\n",
              "        6407.23021185, 15245.75699294,  6910.26289166,  8640.47043306,\n",
              "       19713.6728862 ,  7706.92512992,  5897.95020151,  8273.50712706,\n",
              "       15769.19643224, 12973.89976805, 10152.87794679, 12880.45170898,\n",
              "       17634.99689352, 15788.32682443, 16410.1111573 , 12581.47721007,\n",
              "       17135.75553675,  7302.75544812, 15271.02994094,  8450.06712717,\n",
              "       24412.05243337,  9721.87814909,  6821.28473556, 13895.5443265 ,\n",
              "       15729.44616881,  8456.04281106,  7502.02895445, 12108.65979471,\n",
              "        7790.5533547 ,  6125.73144387,  8653.64675767, 14774.45433519])"
            ]
          },
          "metadata": {},
          "execution_count": 25
        },
        {
          "output_type": "display_data",
          "data": {
            "text/plain": [
              "<Figure size 432x288 with 1 Axes>"
            ],
            "image/png": "[encoded data removed]"
          },
          "metadata": {
            "needs_background": "light"
          }
        }
      ]
    },
    {
      "cell_type": "code",
      "source": [
        "print('predicted:', yhat[0:4])\n",
        "print('test set :', y_test[0:4].values)"
      ],
      "metadata": {
        "colab": {
          "base_uri": "https://localhost:8080/"
        },
        "id": "ZXRb3DsXC8gJ",
        "outputId": "a43b0a98-cc9b-4a04-d6b5-b1669dad4212"
      },
      "execution_count": 26,
      "outputs": [
        {
          "output_type": "stream",
          "name": "stdout",
          "text": [
            "predicted: [17834.03285438  9921.35215295 26654.30233011 30301.79273464]\n",
            "test set : [21105. 10595. 18150. 28248.]\n"
          ]
        }
      ]
    },
    {
      "cell_type": "markdown",
      "source": [
        "Seleccionamos el valor de alfa que minimiza el error de prueba. Para hacerlo, podemos usar un bucle for. También hemos creado una barra de progreso para ver cuántas iteraciones hemos completado hasta ahora."
      ],
      "metadata": {
        "id": "nueXzY-XDGj4"
      }
    },
    {
      "cell_type": "code",
      "source": [
        "from tqdm import tqdm\n",
        "\n",
        "Rsqu_test = []\n",
        "Rsqu_train = []\n",
        "dummy1 = []\n",
        "Alpha = 10 * np.array(range(0,1000))\n",
        "pbar = tqdm(Alpha)\n",
        "\n",
        "for alpha in pbar:\n",
        "    RigeModel = Ridge(alpha=alpha) \n",
        "    RigeModel.fit(x_train_pr, y_train)\n",
        "    test_score, train_score = RigeModel.score(x_test_pr, y_test), RigeModel.score(x_train_pr, y_train)\n",
        "    \n",
        "    pbar.set_postfix({\"Test Score\": test_score, \"Train Score\": train_score})\n",
        "\n",
        "    Rsqu_test.append(test_score)\n",
        "    Rsqu_train.append(train_score)"
      ],
      "metadata": {
        "colab": {
          "base_uri": "https://localhost:8080/"
        },
        "id": "5Bg7uJn2DExa",
        "outputId": "01092457-a201-4fab-9717-b130d49e8555"
      },
      "execution_count": 27,
      "outputs": [
        {
          "output_type": "stream",
          "name": "stderr",
          "text": [
            "100%|██████████| 1000/1000 [00:04<00:00, 230.44it/s, Test Score=0.835, Train Score=0.911]\n"
          ]
        }
      ]
    },
    {
      "cell_type": "markdown",
      "source": [
        "Podemos trazar el valor de R^2 para diferentes alfas:"
      ],
      "metadata": {
        "id": "xDT9SaDpDRf4"
      }
    },
    {
      "cell_type": "code",
      "source": [
        "width = 12\n",
        "height = 10\n",
        "plt.figure(figsize=(width, height))\n",
        "\n",
        "plt.plot(Alpha,Rsqu_test, label='validation data  ')\n",
        "plt.plot(Alpha,Rsqu_train, 'r', label='training Data ')\n",
        "plt.xlabel('alpha')\n",
        "plt.ylabel('R^2')\n",
        "plt.legend()"
      ],
      "metadata": {
        "colab": {
          "base_uri": "https://localhost:8080/",
          "height": 623
        },
        "id": "q2YaI1TjDSMh",
        "outputId": "56953375-d25d-4f34-82dd-d181d3b5913d"
      },
      "execution_count": 28,
      "outputs": [
        {
          "output_type": "execute_result",
          "data": {
            "text/plain": [
              "<matplotlib.legend.Legend at 0x7fa6e253ded0>"
            ]
          },
          "metadata": {},
          "execution_count": 28
        },
        {
          "output_type": "display_data",
          "data": {
            "text/plain": [
              "<Figure size 864x720 with 1 Axes>"
            ],
            "image/png": "[encoded data removed]"
          },
          "metadata": {
            "needs_background": "light"
          }
        }
      ]
    },
    {
      "cell_type": "markdown",
      "source": [
        "La línea azul representa el R^2 de los datos de validación y la línea roja representa el R^2 de los datos de entrenamiento. El eje x representa los diferentes valores de Alpha.\n",
        "\n",
        "Aquí, el modelo se construye y prueba con los mismos datos, por lo que los datos de entrenamiento y prueba son los mismos.\n",
        "\n",
        "La línea roja en la Figura 4 representa el R^2 de los datos de entrenamiento. A medida que alfa aumenta, R ^ 2 disminuye. Por lo tanto, a medida que aumenta alfa, el modelo funciona peor en los datos de entrenamiento\n",
        "\n",
        "La línea azul representa el R^2 en los datos de validación. A medida que aumenta el valor de alfa, R ^ 2 aumenta y converge en un punto."
      ],
      "metadata": {
        "id": "hOwwjxYoDYKR"
      }
    },
    {
      "cell_type": "code",
      "source": [
        "#Perform Ridge regression. Calculate the R^2 using the polynomial features, use the training data to train the model and use the test data to test the model. The parameter alpha should be set to 10.\n",
        "RigeModel = Ridge(alpha=10) \n",
        "RigeModel.fit(x_train_pr, y_train)\n",
        "RigeModel.score(x_test_pr, y_test)"
      ],
      "metadata": {
        "colab": {
          "base_uri": "https://localhost:8080/"
        },
        "id": "AqyTg_0ADarq",
        "outputId": "df9c18a1-97d7-40af-959a-7b06d267a4dd"
      },
      "execution_count": 29,
      "outputs": [
        {
          "output_type": "execute_result",
          "data": {
            "text/plain": [
              "0.8031633497591952"
            ]
          },
          "metadata": {},
          "execution_count": 29
        }
      ]
    },
    {
      "cell_type": "markdown",
      "source": [
        "El término alfa es un hiperparámetro. Sklearn tiene la clase GridSearchCV para simplificar el proceso de encontrar el mejor hiperparámetro.\n",
        "\n",
        "Importemos GridSearchCV desde el módulo model_selection."
      ],
      "metadata": {
        "id": "68c9ttV9Dl6o"
      }
    },
    {
      "cell_type": "code",
      "source": [
        "from sklearn.model_selection import GridSearchCV"
      ],
      "metadata": {
        "id": "MvS8LVC1DiTi"
      },
      "execution_count": 30,
      "outputs": []
    },
    {
      "cell_type": "code",
      "source": [
        "parameters1= [{'alpha': [0.001,0.1,1, 10, 100, 1000, 10000, 100000, 100000]}]\n",
        "parameters1"
      ],
      "metadata": {
        "colab": {
          "base_uri": "https://localhost:8080/"
        },
        "id": "8u8PT32aDuua",
        "outputId": "7a9f383d-c099-493f-8842-cab5308bcf67"
      },
      "execution_count": 31,
      "outputs": [
        {
          "output_type": "execute_result",
          "data": {
            "text/plain": [
              "[{'alpha': [0.001, 0.1, 1, 10, 100, 1000, 10000, 100000, 100000]}]"
            ]
          },
          "metadata": {},
          "execution_count": 31
        }
      ]
    },
    {
      "cell_type": "markdown",
      "source": [
        "Cree un objeto de regresión Ridge:"
      ],
      "metadata": {
        "id": "nqvpjwfJDy5Y"
      }
    },
    {
      "cell_type": "code",
      "source": [
        "RR=Ridge()\n",
        "RR"
      ],
      "metadata": {
        "colab": {
          "base_uri": "https://localhost:8080/"
        },
        "id": "2BLYiBC6DyFZ",
        "outputId": "4f10e31d-438b-4b29-a456-37849acdcc38"
      },
      "execution_count": 32,
      "outputs": [
        {
          "output_type": "execute_result",
          "data": {
            "text/plain": [
              "Ridge()"
            ]
          },
          "metadata": {},
          "execution_count": 32
        }
      ]
    },
    {
      "cell_type": "markdown",
      "source": [
        "Ajuste el modelo\n",
        "\n",
        "El objeto encuentra los mejores valores de parámetros en los datos de validación. Podemos obtener el estimador con mejores parámetros y asignarlo a la variable BestRR de la siguiente manera:"
      ],
      "metadata": {
        "id": "sNa16MwoD-MQ"
      }
    },
    {
      "cell_type": "markdown",
      "source": [
        "**Realice un Grid Search del parámetro alfa y el parámetro de normalización, luego encuentre los mejores valores de los parámetros:**"
      ],
      "metadata": {
        "id": "dVcwGqCrECQQ"
      }
    },
    {
      "cell_type": "code",
      "source": [
        "parameters2= [{'alpha': [0.001,0.1,1, 10, 100, 1000,10000,100000,100000],'normalize':[True,False]} ]\n",
        "Grid2 = GridSearchCV(Ridge(), parameters2,cv=4)\n",
        "Grid2.fit(x_data[['horsepower', 'curb-weight', 'engine-size', 'highway-mpg']],y_data)\n",
        "Grid2.best_estimator_"
      ],
      "metadata": {
        "colab": {
          "base_uri": "https://localhost:8080/"
        },
        "id": "erUm7Bi7D3a4",
        "outputId": "13a8bcb9-c61c-4797-b1ea-46d2cbc633f6"
      },
      "execution_count": 33,
      "outputs": [
        {
          "output_type": "stream",
          "name": "stderr",
          "text": [
            "/usr/local/lib/python3.7/dist-packages/sklearn/linear_model/_base.py:145: FutureWarning: 'normalize' was deprecated in version 1.0 and will be removed in 1.2.\n",
            "If you wish to scale the data, use Pipeline with a StandardScaler in a preprocessing stage. To reproduce the previous behavior:\n",
            "\n",
            "from sklearn.pipeline import make_pipeline\n",
            "\n",
            "model = make_pipeline(StandardScaler(with_mean=False), Ridge())\n",
            "\n",
            "If you wish to pass a sample_weight parameter, you need to pass it as a fit parameter to each step of the pipeline as follows:\n",
            "\n",
            "kwargs = {s[0] + '__sample_weight': sample_weight for s in model.steps}\n",
            "model.fit(X, y, **kwargs)\n",
            "\n",
            "Set parameter alpha to: original_alpha * n_samples. \n",
            "  FutureWarning,\n",
            "/usr/local/lib/python3.7/dist-packages/sklearn/linear_model/_base.py:145: FutureWarning: 'normalize' was deprecated in version 1.0 and will be removed in 1.2.\n",
            "If you wish to scale the data, use Pipeline with a StandardScaler in a preprocessing stage. To reproduce the previous behavior:\n",
            "\n",
            "from sklearn.pipeline import make_pipeline\n",
            "\n",
            "model = make_pipeline(StandardScaler(with_mean=False), Ridge())\n",
            "\n",
            "If you wish to pass a sample_weight parameter, you need to pass it as a fit parameter to each step of the pipeline as follows:\n",
            "\n",
            "kwargs = {s[0] + '__sample_weight': sample_weight for s in model.steps}\n",
            "model.fit(X, y, **kwargs)\n",
            "\n",
            "Set parameter alpha to: original_alpha * n_samples. \n",
            "  FutureWarning,\n",
            "/usr/local/lib/python3.7/dist-packages/sklearn/linear_model/_base.py:145: FutureWarning: 'normalize' was deprecated in version 1.0 and will be removed in 1.2.\n",
            "If you wish to scale the data, use Pipeline with a StandardScaler in a preprocessing stage. To reproduce the previous behavior:\n",
            "\n",
            "from sklearn.pipeline import make_pipeline\n",
            "\n",
            "model = make_pipeline(StandardScaler(with_mean=False), Ridge())\n",
            "\n",
            "If you wish to pass a sample_weight parameter, you need to pass it as a fit parameter to each step of the pipeline as follows:\n",
            "\n",
            "kwargs = {s[0] + '__sample_weight': sample_weight for s in model.steps}\n",
            "model.fit(X, y, **kwargs)\n",
            "\n",
            "Set parameter alpha to: original_alpha * n_samples. \n",
            "  FutureWarning,\n",
            "/usr/local/lib/python3.7/dist-packages/sklearn/linear_model/_base.py:145: FutureWarning: 'normalize' was deprecated in version 1.0 and will be removed in 1.2.\n",
            "If you wish to scale the data, use Pipeline with a StandardScaler in a preprocessing stage. To reproduce the previous behavior:\n",
            "\n",
            "from sklearn.pipeline import make_pipeline\n",
            "\n",
            "model = make_pipeline(StandardScaler(with_mean=False), Ridge())\n",
            "\n",
            "If you wish to pass a sample_weight parameter, you need to pass it as a fit parameter to each step of the pipeline as follows:\n",
            "\n",
            "kwargs = {s[0] + '__sample_weight': sample_weight for s in model.steps}\n",
            "model.fit(X, y, **kwargs)\n",
            "\n",
            "Set parameter alpha to: original_alpha * n_samples. \n",
            "  FutureWarning,\n",
            "/usr/local/lib/python3.7/dist-packages/sklearn/linear_model/_base.py:155: FutureWarning: 'normalize' was deprecated in version 1.0 and will be removed in 1.2. Please leave the normalize parameter to its default value to silence this warning. The default behavior of this estimator is to not do any normalization. If normalization is needed please use sklearn.preprocessing.StandardScaler instead.\n",
            "  FutureWarning,\n",
            "/usr/local/lib/python3.7/dist-packages/sklearn/linear_model/_base.py:155: FutureWarning: 'normalize' was deprecated in version 1.0 and will be removed in 1.2. Please leave the normalize parameter to its default value to silence this warning. The default behavior of this estimator is to not do any normalization. If normalization is needed please use sklearn.preprocessing.StandardScaler instead.\n",
            "  FutureWarning,\n",
            "/usr/local/lib/python3.7/dist-packages/sklearn/linear_model/_base.py:155: FutureWarning: 'normalize' was deprecated in version 1.0 and will be removed in 1.2. Please leave the normalize parameter to its default value to silence this warning. The default behavior of this estimator is to not do any normalization. If normalization is needed please use sklearn.preprocessing.StandardScaler instead.\n",
            "  FutureWarning,\n",
            "/usr/local/lib/python3.7/dist-packages/sklearn/linear_model/_base.py:155: FutureWarning: 'normalize' was deprecated in version 1.0 and will be removed in 1.2. Please leave the normalize parameter to its default value to silence this warning. The default behavior of this estimator is to not do any normalization. If normalization is needed please use sklearn.preprocessing.StandardScaler instead.\n",
            "  FutureWarning,\n",
            "/usr/local/lib/python3.7/dist-packages/sklearn/linear_model/_base.py:145: FutureWarning: 'normalize' was deprecated in version 1.0 and will be removed in 1.2.\n",
            "If you wish to scale the data, use Pipeline with a StandardScaler in a preprocessing stage. To reproduce the previous behavior:\n",
            "\n",
            "from sklearn.pipeline import make_pipeline\n",
            "\n",
            "model = make_pipeline(StandardScaler(with_mean=False), Ridge())\n",
            "\n",
            "If you wish to pass a sample_weight parameter, you need to pass it as a fit parameter to each step of the pipeline as follows:\n",
            "\n",
            "kwargs = {s[0] + '__sample_weight': sample_weight for s in model.steps}\n",
            "model.fit(X, y, **kwargs)\n",
            "\n",
            "Set parameter alpha to: original_alpha * n_samples. \n",
            "  FutureWarning,\n",
            "/usr/local/lib/python3.7/dist-packages/sklearn/linear_model/_base.py:145: FutureWarning: 'normalize' was deprecated in version 1.0 and will be removed in 1.2.\n",
            "If you wish to scale the data, use Pipeline with a StandardScaler in a preprocessing stage. To reproduce the previous behavior:\n",
            "\n",
            "from sklearn.pipeline import make_pipeline\n",
            "\n",
            "model = make_pipeline(StandardScaler(with_mean=False), Ridge())\n",
            "\n",
            "If you wish to pass a sample_weight parameter, you need to pass it as a fit parameter to each step of the pipeline as follows:\n",
            "\n",
            "kwargs = {s[0] + '__sample_weight': sample_weight for s in model.steps}\n",
            "model.fit(X, y, **kwargs)\n",
            "\n",
            "Set parameter alpha to: original_alpha * n_samples. \n",
            "  FutureWarning,\n",
            "/usr/local/lib/python3.7/dist-packages/sklearn/linear_model/_base.py:145: FutureWarning: 'normalize' was deprecated in version 1.0 and will be removed in 1.2.\n",
            "If you wish to scale the data, use Pipeline with a StandardScaler in a preprocessing stage. To reproduce the previous behavior:\n",
            "\n",
            "from sklearn.pipeline import make_pipeline\n",
            "\n",
            "model = make_pipeline(StandardScaler(with_mean=False), Ridge())\n",
            "\n",
            "If you wish to pass a sample_weight parameter, you need to pass it as a fit parameter to each step of the pipeline as follows:\n",
            "\n",
            "kwargs = {s[0] + '__sample_weight': sample_weight for s in model.steps}\n",
            "model.fit(X, y, **kwargs)\n",
            "\n",
            "Set parameter alpha to: original_alpha * n_samples. \n",
            "  FutureWarning,\n",
            "/usr/local/lib/python3.7/dist-packages/sklearn/linear_model/_base.py:145: FutureWarning: 'normalize' was deprecated in version 1.0 and will be removed in 1.2.\n",
            "If you wish to scale the data, use Pipeline with a StandardScaler in a preprocessing stage. To reproduce the previous behavior:\n",
            "\n",
            "from sklearn.pipeline import make_pipeline\n",
            "\n",
            "model = make_pipeline(StandardScaler(with_mean=False), Ridge())\n",
            "\n",
            "If you wish to pass a sample_weight parameter, you need to pass it as a fit parameter to each step of the pipeline as follows:\n",
            "\n",
            "kwargs = {s[0] + '__sample_weight': sample_weight for s in model.steps}\n",
            "model.fit(X, y, **kwargs)\n",
            "\n",
            "Set parameter alpha to: original_alpha * n_samples. \n",
            "  FutureWarning,\n",
            "/usr/local/lib/python3.7/dist-packages/sklearn/linear_model/_base.py:155: FutureWarning: 'normalize' was deprecated in version 1.0 and will be removed in 1.2. Please leave the normalize parameter to its default value to silence this warning. The default behavior of this estimator is to not do any normalization. If normalization is needed please use sklearn.preprocessing.StandardScaler instead.\n",
            "  FutureWarning,\n",
            "/usr/local/lib/python3.7/dist-packages/sklearn/linear_model/_base.py:155: FutureWarning: 'normalize' was deprecated in version 1.0 and will be removed in 1.2. Please leave the normalize parameter to its default value to silence this warning. The default behavior of this estimator is to not do any normalization. If normalization is needed please use sklearn.preprocessing.StandardScaler instead.\n",
            "  FutureWarning,\n",
            "/usr/local/lib/python3.7/dist-packages/sklearn/linear_model/_base.py:155: FutureWarning: 'normalize' was deprecated in version 1.0 and will be removed in 1.2. Please leave the normalize parameter to its default value to silence this warning. The default behavior of this estimator is to not do any normalization. If normalization is needed please use sklearn.preprocessing.StandardScaler instead.\n",
            "  FutureWarning,\n",
            "/usr/local/lib/python3.7/dist-packages/sklearn/linear_model/_base.py:155: FutureWarning: 'normalize' was deprecated in version 1.0 and will be removed in 1.2. Please leave the normalize parameter to its default value to silence this warning. The default behavior of this estimator is to not do any normalization. If normalization is needed please use sklearn.preprocessing.StandardScaler instead.\n",
            "  FutureWarning,\n",
            "/usr/local/lib/python3.7/dist-packages/sklearn/linear_model/_base.py:145: FutureWarning: 'normalize' was deprecated in version 1.0 and will be removed in 1.2.\n",
            "If you wish to scale the data, use Pipeline with a StandardScaler in a preprocessing stage. To reproduce the previous behavior:\n",
            "\n",
            "from sklearn.pipeline import make_pipeline\n",
            "\n",
            "model = make_pipeline(StandardScaler(with_mean=False), Ridge())\n",
            "\n",
            "If you wish to pass a sample_weight parameter, you need to pass it as a fit parameter to each step of the pipeline as follows:\n",
            "\n",
            "kwargs = {s[0] + '__sample_weight': sample_weight for s in model.steps}\n",
            "model.fit(X, y, **kwargs)\n",
            "\n",
            "Set parameter alpha to: original_alpha * n_samples. \n",
            "  FutureWarning,\n",
            "/usr/local/lib/python3.7/dist-packages/sklearn/linear_model/_base.py:145: FutureWarning: 'normalize' was deprecated in version 1.0 and will be removed in 1.2.\n",
            "If you wish to scale the data, use Pipeline with a StandardScaler in a preprocessing stage. To reproduce the previous behavior:\n",
            "\n",
            "from sklearn.pipeline import make_pipeline\n",
            "\n",
            "model = make_pipeline(StandardScaler(with_mean=False), Ridge())\n",
            "\n",
            "If you wish to pass a sample_weight parameter, you need to pass it as a fit parameter to each step of the pipeline as follows:\n",
            "\n",
            "kwargs = {s[0] + '__sample_weight': sample_weight for s in model.steps}\n",
            "model.fit(X, y, **kwargs)\n",
            "\n",
            "Set parameter alpha to: original_alpha * n_samples. \n",
            "  FutureWarning,\n",
            "/usr/local/lib/python3.7/dist-packages/sklearn/linear_model/_base.py:145: FutureWarning: 'normalize' was deprecated in version 1.0 and will be removed in 1.2.\n",
            "If you wish to scale the data, use Pipeline with a StandardScaler in a preprocessing stage. To reproduce the previous behavior:\n",
            "\n",
            "from sklearn.pipeline import make_pipeline\n",
            "\n",
            "model = make_pipeline(StandardScaler(with_mean=False), Ridge())\n",
            "\n",
            "If you wish to pass a sample_weight parameter, you need to pass it as a fit parameter to each step of the pipeline as follows:\n",
            "\n",
            "kwargs = {s[0] + '__sample_weight': sample_weight for s in model.steps}\n",
            "model.fit(X, y, **kwargs)\n",
            "\n",
            "Set parameter alpha to: original_alpha * n_samples. \n",
            "  FutureWarning,\n",
            "/usr/local/lib/python3.7/dist-packages/sklearn/linear_model/_base.py:145: FutureWarning: 'normalize' was deprecated in version 1.0 and will be removed in 1.2.\n",
            "If you wish to scale the data, use Pipeline with a StandardScaler in a preprocessing stage. To reproduce the previous behavior:\n",
            "\n",
            "from sklearn.pipeline import make_pipeline\n",
            "\n",
            "model = make_pipeline(StandardScaler(with_mean=False), Ridge())\n",
            "\n",
            "If you wish to pass a sample_weight parameter, you need to pass it as a fit parameter to each step of the pipeline as follows:\n",
            "\n",
            "kwargs = {s[0] + '__sample_weight': sample_weight for s in model.steps}\n",
            "model.fit(X, y, **kwargs)\n",
            "\n",
            "Set parameter alpha to: original_alpha * n_samples. \n",
            "  FutureWarning,\n",
            "/usr/local/lib/python3.7/dist-packages/sklearn/linear_model/_base.py:155: FutureWarning: 'normalize' was deprecated in version 1.0 and will be removed in 1.2. Please leave the normalize parameter to its default value to silence this warning. The default behavior of this estimator is to not do any normalization. If normalization is needed please use sklearn.preprocessing.StandardScaler instead.\n",
            "  FutureWarning,\n",
            "/usr/local/lib/python3.7/dist-packages/sklearn/linear_model/_base.py:155: FutureWarning: 'normalize' was deprecated in version 1.0 and will be removed in 1.2. Please leave the normalize parameter to its default value to silence this warning. The default behavior of this estimator is to not do any normalization. If normalization is needed please use sklearn.preprocessing.StandardScaler instead.\n",
            "  FutureWarning,\n",
            "/usr/local/lib/python3.7/dist-packages/sklearn/linear_model/_base.py:155: FutureWarning: 'normalize' was deprecated in version 1.0 and will be removed in 1.2. Please leave the normalize parameter to its default value to silence this warning. The default behavior of this estimator is to not do any normalization. If normalization is needed please use sklearn.preprocessing.StandardScaler instead.\n",
            "  FutureWarning,\n",
            "/usr/local/lib/python3.7/dist-packages/sklearn/linear_model/_base.py:155: FutureWarning: 'normalize' was deprecated in version 1.0 and will be removed in 1.2. Please leave the normalize parameter to its default value to silence this warning. The default behavior of this estimator is to not do any normalization. If normalization is needed please use sklearn.preprocessing.StandardScaler instead.\n",
            "  FutureWarning,\n",
            "/usr/local/lib/python3.7/dist-packages/sklearn/linear_model/_base.py:145: FutureWarning: 'normalize' was deprecated in version 1.0 and will be removed in 1.2.\n",
            "If you wish to scale the data, use Pipeline with a StandardScaler in a preprocessing stage. To reproduce the previous behavior:\n",
            "\n",
            "from sklearn.pipeline import make_pipeline\n",
            "\n",
            "model = make_pipeline(StandardScaler(with_mean=False), Ridge())\n",
            "\n",
            "If you wish to pass a sample_weight parameter, you need to pass it as a fit parameter to each step of the pipeline as follows:\n",
            "\n",
            "kwargs = {s[0] + '__sample_weight': sample_weight for s in model.steps}\n",
            "model.fit(X, y, **kwargs)\n",
            "\n",
            "Set parameter alpha to: original_alpha * n_samples. \n",
            "  FutureWarning,\n",
            "/usr/local/lib/python3.7/dist-packages/sklearn/linear_model/_base.py:145: FutureWarning: 'normalize' was deprecated in version 1.0 and will be removed in 1.2.\n",
            "If you wish to scale the data, use Pipeline with a StandardScaler in a preprocessing stage. To reproduce the previous behavior:\n",
            "\n",
            "from sklearn.pipeline import make_pipeline\n",
            "\n",
            "model = make_pipeline(StandardScaler(with_mean=False), Ridge())\n",
            "\n",
            "If you wish to pass a sample_weight parameter, you need to pass it as a fit parameter to each step of the pipeline as follows:\n",
            "\n",
            "kwargs = {s[0] + '__sample_weight': sample_weight for s in model.steps}\n",
            "model.fit(X, y, **kwargs)\n",
            "\n",
            "Set parameter alpha to: original_alpha * n_samples. \n",
            "  FutureWarning,\n",
            "/usr/local/lib/python3.7/dist-packages/sklearn/linear_model/_base.py:145: FutureWarning: 'normalize' was deprecated in version 1.0 and will be removed in 1.2.\n",
            "If you wish to scale the data, use Pipeline with a StandardScaler in a preprocessing stage. To reproduce the previous behavior:\n",
            "\n",
            "from sklearn.pipeline import make_pipeline\n",
            "\n",
            "model = make_pipeline(StandardScaler(with_mean=False), Ridge())\n",
            "\n",
            "If you wish to pass a sample_weight parameter, you need to pass it as a fit parameter to each step of the pipeline as follows:\n",
            "\n",
            "kwargs = {s[0] + '__sample_weight': sample_weight for s in model.steps}\n",
            "model.fit(X, y, **kwargs)\n",
            "\n",
            "Set parameter alpha to: original_alpha * n_samples. \n",
            "  FutureWarning,\n",
            "/usr/local/lib/python3.7/dist-packages/sklearn/linear_model/_base.py:145: FutureWarning: 'normalize' was deprecated in version 1.0 and will be removed in 1.2.\n",
            "If you wish to scale the data, use Pipeline with a StandardScaler in a preprocessing stage. To reproduce the previous behavior:\n",
            "\n",
            "from sklearn.pipeline import make_pipeline\n",
            "\n",
            "model = make_pipeline(StandardScaler(with_mean=False), Ridge())\n",
            "\n",
            "If you wish to pass a sample_weight parameter, you need to pass it as a fit parameter to each step of the pipeline as follows:\n",
            "\n",
            "kwargs = {s[0] + '__sample_weight': sample_weight for s in model.steps}\n",
            "model.fit(X, y, **kwargs)\n",
            "\n",
            "Set parameter alpha to: original_alpha * n_samples. \n",
            "  FutureWarning,\n",
            "/usr/local/lib/python3.7/dist-packages/sklearn/linear_model/_base.py:155: FutureWarning: 'normalize' was deprecated in version 1.0 and will be removed in 1.2. Please leave the normalize parameter to its default value to silence this warning. The default behavior of this estimator is to not do any normalization. If normalization is needed please use sklearn.preprocessing.StandardScaler instead.\n",
            "  FutureWarning,\n",
            "/usr/local/lib/python3.7/dist-packages/sklearn/linear_model/_base.py:155: FutureWarning: 'normalize' was deprecated in version 1.0 and will be removed in 1.2. Please leave the normalize parameter to its default value to silence this warning. The default behavior of this estimator is to not do any normalization. If normalization is needed please use sklearn.preprocessing.StandardScaler instead.\n",
            "  FutureWarning,\n",
            "/usr/local/lib/python3.7/dist-packages/sklearn/linear_model/_base.py:155: FutureWarning: 'normalize' was deprecated in version 1.0 and will be removed in 1.2. Please leave the normalize parameter to its default value to silence this warning. The default behavior of this estimator is to not do any normalization. If normalization is needed please use sklearn.preprocessing.StandardScaler instead.\n",
            "  FutureWarning,\n",
            "/usr/local/lib/python3.7/dist-packages/sklearn/linear_model/_base.py:155: FutureWarning: 'normalize' was deprecated in version 1.0 and will be removed in 1.2. Please leave the normalize parameter to its default value to silence this warning. The default behavior of this estimator is to not do any normalization. If normalization is needed please use sklearn.preprocessing.StandardScaler instead.\n",
            "  FutureWarning,\n",
            "/usr/local/lib/python3.7/dist-packages/sklearn/linear_model/_base.py:145: FutureWarning: 'normalize' was deprecated in version 1.0 and will be removed in 1.2.\n",
            "If you wish to scale the data, use Pipeline with a StandardScaler in a preprocessing stage. To reproduce the previous behavior:\n",
            "\n",
            "from sklearn.pipeline import make_pipeline\n",
            "\n",
            "model = make_pipeline(StandardScaler(with_mean=False), Ridge())\n",
            "\n",
            "If you wish to pass a sample_weight parameter, you need to pass it as a fit parameter to each step of the pipeline as follows:\n",
            "\n",
            "kwargs = {s[0] + '__sample_weight': sample_weight for s in model.steps}\n",
            "model.fit(X, y, **kwargs)\n",
            "\n",
            "Set parameter alpha to: original_alpha * n_samples. \n",
            "  FutureWarning,\n",
            "/usr/local/lib/python3.7/dist-packages/sklearn/linear_model/_base.py:145: FutureWarning: 'normalize' was deprecated in version 1.0 and will be removed in 1.2.\n",
            "If you wish to scale the data, use Pipeline with a StandardScaler in a preprocessing stage. To reproduce the previous behavior:\n",
            "\n",
            "from sklearn.pipeline import make_pipeline\n",
            "\n",
            "model = make_pipeline(StandardScaler(with_mean=False), Ridge())\n",
            "\n",
            "If you wish to pass a sample_weight parameter, you need to pass it as a fit parameter to each step of the pipeline as follows:\n",
            "\n",
            "kwargs = {s[0] + '__sample_weight': sample_weight for s in model.steps}\n",
            "model.fit(X, y, **kwargs)\n",
            "\n",
            "Set parameter alpha to: original_alpha * n_samples. \n",
            "  FutureWarning,\n",
            "/usr/local/lib/python3.7/dist-packages/sklearn/linear_model/_base.py:145: FutureWarning: 'normalize' was deprecated in version 1.0 and will be removed in 1.2.\n",
            "If you wish to scale the data, use Pipeline with a StandardScaler in a preprocessing stage. To reproduce the previous behavior:\n",
            "\n",
            "from sklearn.pipeline import make_pipeline\n",
            "\n",
            "model = make_pipeline(StandardScaler(with_mean=False), Ridge())\n",
            "\n",
            "If you wish to pass a sample_weight parameter, you need to pass it as a fit parameter to each step of the pipeline as follows:\n",
            "\n",
            "kwargs = {s[0] + '__sample_weight': sample_weight for s in model.steps}\n",
            "model.fit(X, y, **kwargs)\n",
            "\n",
            "Set parameter alpha to: original_alpha * n_samples. \n",
            "  FutureWarning,\n",
            "/usr/local/lib/python3.7/dist-packages/sklearn/linear_model/_base.py:145: FutureWarning: 'normalize' was deprecated in version 1.0 and will be removed in 1.2.\n",
            "If you wish to scale the data, use Pipeline with a StandardScaler in a preprocessing stage. To reproduce the previous behavior:\n",
            "\n",
            "from sklearn.pipeline import make_pipeline\n",
            "\n",
            "model = make_pipeline(StandardScaler(with_mean=False), Ridge())\n",
            "\n",
            "If you wish to pass a sample_weight parameter, you need to pass it as a fit parameter to each step of the pipeline as follows:\n",
            "\n",
            "kwargs = {s[0] + '__sample_weight': sample_weight for s in model.steps}\n",
            "model.fit(X, y, **kwargs)\n",
            "\n",
            "Set parameter alpha to: original_alpha * n_samples. \n",
            "  FutureWarning,\n",
            "/usr/local/lib/python3.7/dist-packages/sklearn/linear_model/_base.py:155: FutureWarning: 'normalize' was deprecated in version 1.0 and will be removed in 1.2. Please leave the normalize parameter to its default value to silence this warning. The default behavior of this estimator is to not do any normalization. If normalization is needed please use sklearn.preprocessing.StandardScaler instead.\n",
            "  FutureWarning,\n",
            "/usr/local/lib/python3.7/dist-packages/sklearn/linear_model/_base.py:155: FutureWarning: 'normalize' was deprecated in version 1.0 and will be removed in 1.2. Please leave the normalize parameter to its default value to silence this warning. The default behavior of this estimator is to not do any normalization. If normalization is needed please use sklearn.preprocessing.StandardScaler instead.\n",
            "  FutureWarning,\n",
            "/usr/local/lib/python3.7/dist-packages/sklearn/linear_model/_base.py:155: FutureWarning: 'normalize' was deprecated in version 1.0 and will be removed in 1.2. Please leave the normalize parameter to its default value to silence this warning. The default behavior of this estimator is to not do any normalization. If normalization is needed please use sklearn.preprocessing.StandardScaler instead.\n",
            "  FutureWarning,\n",
            "/usr/local/lib/python3.7/dist-packages/sklearn/linear_model/_base.py:155: FutureWarning: 'normalize' was deprecated in version 1.0 and will be removed in 1.2. Please leave the normalize parameter to its default value to silence this warning. The default behavior of this estimator is to not do any normalization. If normalization is needed please use sklearn.preprocessing.StandardScaler instead.\n",
            "  FutureWarning,\n",
            "/usr/local/lib/python3.7/dist-packages/sklearn/linear_model/_base.py:145: FutureWarning: 'normalize' was deprecated in version 1.0 and will be removed in 1.2.\n",
            "If you wish to scale the data, use Pipeline with a StandardScaler in a preprocessing stage. To reproduce the previous behavior:\n",
            "\n",
            "from sklearn.pipeline import make_pipeline\n",
            "\n",
            "model = make_pipeline(StandardScaler(with_mean=False), Ridge())\n",
            "\n",
            "If you wish to pass a sample_weight parameter, you need to pass it as a fit parameter to each step of the pipeline as follows:\n",
            "\n",
            "kwargs = {s[0] + '__sample_weight': sample_weight for s in model.steps}\n",
            "model.fit(X, y, **kwargs)\n",
            "\n",
            "Set parameter alpha to: original_alpha * n_samples. \n",
            "  FutureWarning,\n",
            "/usr/local/lib/python3.7/dist-packages/sklearn/linear_model/_base.py:145: FutureWarning: 'normalize' was deprecated in version 1.0 and will be removed in 1.2.\n",
            "If you wish to scale the data, use Pipeline with a StandardScaler in a preprocessing stage. To reproduce the previous behavior:\n",
            "\n",
            "from sklearn.pipeline import make_pipeline\n",
            "\n",
            "model = make_pipeline(StandardScaler(with_mean=False), Ridge())\n",
            "\n",
            "If you wish to pass a sample_weight parameter, you need to pass it as a fit parameter to each step of the pipeline as follows:\n",
            "\n",
            "kwargs = {s[0] + '__sample_weight': sample_weight for s in model.steps}\n",
            "model.fit(X, y, **kwargs)\n",
            "\n",
            "Set parameter alpha to: original_alpha * n_samples. \n",
            "  FutureWarning,\n",
            "/usr/local/lib/python3.7/dist-packages/sklearn/linear_model/_base.py:145: FutureWarning: 'normalize' was deprecated in version 1.0 and will be removed in 1.2.\n",
            "If you wish to scale the data, use Pipeline with a StandardScaler in a preprocessing stage. To reproduce the previous behavior:\n",
            "\n",
            "from sklearn.pipeline import make_pipeline\n",
            "\n",
            "model = make_pipeline(StandardScaler(with_mean=False), Ridge())\n",
            "\n",
            "If you wish to pass a sample_weight parameter, you need to pass it as a fit parameter to each step of the pipeline as follows:\n",
            "\n",
            "kwargs = {s[0] + '__sample_weight': sample_weight for s in model.steps}\n",
            "model.fit(X, y, **kwargs)\n",
            "\n",
            "Set parameter alpha to: original_alpha * n_samples. \n",
            "  FutureWarning,\n",
            "/usr/local/lib/python3.7/dist-packages/sklearn/linear_model/_base.py:145: FutureWarning: 'normalize' was deprecated in version 1.0 and will be removed in 1.2.\n",
            "If you wish to scale the data, use Pipeline with a StandardScaler in a preprocessing stage. To reproduce the previous behavior:\n",
            "\n",
            "from sklearn.pipeline import make_pipeline\n",
            "\n",
            "model = make_pipeline(StandardScaler(with_mean=False), Ridge())\n",
            "\n",
            "If you wish to pass a sample_weight parameter, you need to pass it as a fit parameter to each step of the pipeline as follows:\n",
            "\n",
            "kwargs = {s[0] + '__sample_weight': sample_weight for s in model.steps}\n",
            "model.fit(X, y, **kwargs)\n",
            "\n",
            "Set parameter alpha to: original_alpha * n_samples. \n",
            "  FutureWarning,\n",
            "/usr/local/lib/python3.7/dist-packages/sklearn/linear_model/_base.py:155: FutureWarning: 'normalize' was deprecated in version 1.0 and will be removed in 1.2. Please leave the normalize parameter to its default value to silence this warning. The default behavior of this estimator is to not do any normalization. If normalization is needed please use sklearn.preprocessing.StandardScaler instead.\n",
            "  FutureWarning,\n",
            "/usr/local/lib/python3.7/dist-packages/sklearn/linear_model/_base.py:155: FutureWarning: 'normalize' was deprecated in version 1.0 and will be removed in 1.2. Please leave the normalize parameter to its default value to silence this warning. The default behavior of this estimator is to not do any normalization. If normalization is needed please use sklearn.preprocessing.StandardScaler instead.\n",
            "  FutureWarning,\n",
            "/usr/local/lib/python3.7/dist-packages/sklearn/linear_model/_base.py:155: FutureWarning: 'normalize' was deprecated in version 1.0 and will be removed in 1.2. Please leave the normalize parameter to its default value to silence this warning. The default behavior of this estimator is to not do any normalization. If normalization is needed please use sklearn.preprocessing.StandardScaler instead.\n",
            "  FutureWarning,\n",
            "/usr/local/lib/python3.7/dist-packages/sklearn/linear_model/_base.py:155: FutureWarning: 'normalize' was deprecated in version 1.0 and will be removed in 1.2. Please leave the normalize parameter to its default value to silence this warning. The default behavior of this estimator is to not do any normalization. If normalization is needed please use sklearn.preprocessing.StandardScaler instead.\n",
            "  FutureWarning,\n",
            "/usr/local/lib/python3.7/dist-packages/sklearn/linear_model/_base.py:145: FutureWarning: 'normalize' was deprecated in version 1.0 and will be removed in 1.2.\n",
            "If you wish to scale the data, use Pipeline with a StandardScaler in a preprocessing stage. To reproduce the previous behavior:\n",
            "\n",
            "from sklearn.pipeline import make_pipeline\n",
            "\n",
            "model = make_pipeline(StandardScaler(with_mean=False), Ridge())\n",
            "\n",
            "If you wish to pass a sample_weight parameter, you need to pass it as a fit parameter to each step of the pipeline as follows:\n",
            "\n",
            "kwargs = {s[0] + '__sample_weight': sample_weight for s in model.steps}\n",
            "model.fit(X, y, **kwargs)\n",
            "\n",
            "Set parameter alpha to: original_alpha * n_samples. \n",
            "  FutureWarning,\n",
            "/usr/local/lib/python3.7/dist-packages/sklearn/linear_model/_base.py:145: FutureWarning: 'normalize' was deprecated in version 1.0 and will be removed in 1.2.\n",
            "If you wish to scale the data, use Pipeline with a StandardScaler in a preprocessing stage. To reproduce the previous behavior:\n",
            "\n",
            "from sklearn.pipeline import make_pipeline\n",
            "\n",
            "model = make_pipeline(StandardScaler(with_mean=False), Ridge())\n",
            "\n",
            "If you wish to pass a sample_weight parameter, you need to pass it as a fit parameter to each step of the pipeline as follows:\n",
            "\n",
            "kwargs = {s[0] + '__sample_weight': sample_weight for s in model.steps}\n",
            "model.fit(X, y, **kwargs)\n",
            "\n",
            "Set parameter alpha to: original_alpha * n_samples. \n",
            "  FutureWarning,\n",
            "/usr/local/lib/python3.7/dist-packages/sklearn/linear_model/_base.py:145: FutureWarning: 'normalize' was deprecated in version 1.0 and will be removed in 1.2.\n",
            "If you wish to scale the data, use Pipeline with a StandardScaler in a preprocessing stage. To reproduce the previous behavior:\n",
            "\n",
            "from sklearn.pipeline import make_pipeline\n",
            "\n",
            "model = make_pipeline(StandardScaler(with_mean=False), Ridge())\n",
            "\n",
            "If you wish to pass a sample_weight parameter, you need to pass it as a fit parameter to each step of the pipeline as follows:\n",
            "\n",
            "kwargs = {s[0] + '__sample_weight': sample_weight for s in model.steps}\n",
            "model.fit(X, y, **kwargs)\n",
            "\n",
            "Set parameter alpha to: original_alpha * n_samples. \n",
            "  FutureWarning,\n",
            "/usr/local/lib/python3.7/dist-packages/sklearn/linear_model/_base.py:145: FutureWarning: 'normalize' was deprecated in version 1.0 and will be removed in 1.2.\n",
            "If you wish to scale the data, use Pipeline with a StandardScaler in a preprocessing stage. To reproduce the previous behavior:\n",
            "\n",
            "from sklearn.pipeline import make_pipeline\n",
            "\n",
            "model = make_pipeline(StandardScaler(with_mean=False), Ridge())\n",
            "\n",
            "If you wish to pass a sample_weight parameter, you need to pass it as a fit parameter to each step of the pipeline as follows:\n",
            "\n",
            "kwargs = {s[0] + '__sample_weight': sample_weight for s in model.steps}\n",
            "model.fit(X, y, **kwargs)\n",
            "\n",
            "Set parameter alpha to: original_alpha * n_samples. \n",
            "  FutureWarning,\n",
            "/usr/local/lib/python3.7/dist-packages/sklearn/linear_model/_base.py:155: FutureWarning: 'normalize' was deprecated in version 1.0 and will be removed in 1.2. Please leave the normalize parameter to its default value to silence this warning. The default behavior of this estimator is to not do any normalization. If normalization is needed please use sklearn.preprocessing.StandardScaler instead.\n",
            "  FutureWarning,\n",
            "/usr/local/lib/python3.7/dist-packages/sklearn/linear_model/_base.py:155: FutureWarning: 'normalize' was deprecated in version 1.0 and will be removed in 1.2. Please leave the normalize parameter to its default value to silence this warning. The default behavior of this estimator is to not do any normalization. If normalization is needed please use sklearn.preprocessing.StandardScaler instead.\n",
            "  FutureWarning,\n",
            "/usr/local/lib/python3.7/dist-packages/sklearn/linear_model/_base.py:155: FutureWarning: 'normalize' was deprecated in version 1.0 and will be removed in 1.2. Please leave the normalize parameter to its default value to silence this warning. The default behavior of this estimator is to not do any normalization. If normalization is needed please use sklearn.preprocessing.StandardScaler instead.\n",
            "  FutureWarning,\n",
            "/usr/local/lib/python3.7/dist-packages/sklearn/linear_model/_base.py:155: FutureWarning: 'normalize' was deprecated in version 1.0 and will be removed in 1.2. Please leave the normalize parameter to its default value to silence this warning. The default behavior of this estimator is to not do any normalization. If normalization is needed please use sklearn.preprocessing.StandardScaler instead.\n",
            "  FutureWarning,\n",
            "/usr/local/lib/python3.7/dist-packages/sklearn/linear_model/_base.py:145: FutureWarning: 'normalize' was deprecated in version 1.0 and will be removed in 1.2.\n",
            "If you wish to scale the data, use Pipeline with a StandardScaler in a preprocessing stage. To reproduce the previous behavior:\n",
            "\n",
            "from sklearn.pipeline import make_pipeline\n",
            "\n",
            "model = make_pipeline(StandardScaler(with_mean=False), Ridge())\n",
            "\n",
            "If you wish to pass a sample_weight parameter, you need to pass it as a fit parameter to each step of the pipeline as follows:\n",
            "\n",
            "kwargs = {s[0] + '__sample_weight': sample_weight for s in model.steps}\n",
            "model.fit(X, y, **kwargs)\n",
            "\n",
            "Set parameter alpha to: original_alpha * n_samples. \n",
            "  FutureWarning,\n",
            "/usr/local/lib/python3.7/dist-packages/sklearn/linear_model/_base.py:145: FutureWarning: 'normalize' was deprecated in version 1.0 and will be removed in 1.2.\n",
            "If you wish to scale the data, use Pipeline with a StandardScaler in a preprocessing stage. To reproduce the previous behavior:\n",
            "\n",
            "from sklearn.pipeline import make_pipeline\n",
            "\n",
            "model = make_pipeline(StandardScaler(with_mean=False), Ridge())\n",
            "\n",
            "If you wish to pass a sample_weight parameter, you need to pass it as a fit parameter to each step of the pipeline as follows:\n",
            "\n",
            "kwargs = {s[0] + '__sample_weight': sample_weight for s in model.steps}\n",
            "model.fit(X, y, **kwargs)\n",
            "\n",
            "Set parameter alpha to: original_alpha * n_samples. \n",
            "  FutureWarning,\n",
            "/usr/local/lib/python3.7/dist-packages/sklearn/linear_model/_base.py:145: FutureWarning: 'normalize' was deprecated in version 1.0 and will be removed in 1.2.\n",
            "If you wish to scale the data, use Pipeline with a StandardScaler in a preprocessing stage. To reproduce the previous behavior:\n",
            "\n",
            "from sklearn.pipeline import make_pipeline\n",
            "\n",
            "model = make_pipeline(StandardScaler(with_mean=False), Ridge())\n",
            "\n",
            "If you wish to pass a sample_weight parameter, you need to pass it as a fit parameter to each step of the pipeline as follows:\n",
            "\n",
            "kwargs = {s[0] + '__sample_weight': sample_weight for s in model.steps}\n",
            "model.fit(X, y, **kwargs)\n",
            "\n",
            "Set parameter alpha to: original_alpha * n_samples. \n",
            "  FutureWarning,\n",
            "/usr/local/lib/python3.7/dist-packages/sklearn/linear_model/_base.py:145: FutureWarning: 'normalize' was deprecated in version 1.0 and will be removed in 1.2.\n",
            "If you wish to scale the data, use Pipeline with a StandardScaler in a preprocessing stage. To reproduce the previous behavior:\n",
            "\n",
            "from sklearn.pipeline import make_pipeline\n",
            "\n",
            "model = make_pipeline(StandardScaler(with_mean=False), Ridge())\n",
            "\n",
            "If you wish to pass a sample_weight parameter, you need to pass it as a fit parameter to each step of the pipeline as follows:\n",
            "\n",
            "kwargs = {s[0] + '__sample_weight': sample_weight for s in model.steps}\n",
            "model.fit(X, y, **kwargs)\n",
            "\n",
            "Set parameter alpha to: original_alpha * n_samples. \n",
            "  FutureWarning,\n",
            "/usr/local/lib/python3.7/dist-packages/sklearn/linear_model/_base.py:155: FutureWarning: 'normalize' was deprecated in version 1.0 and will be removed in 1.2. Please leave the normalize parameter to its default value to silence this warning. The default behavior of this estimator is to not do any normalization. If normalization is needed please use sklearn.preprocessing.StandardScaler instead.\n",
            "  FutureWarning,\n",
            "/usr/local/lib/python3.7/dist-packages/sklearn/linear_model/_base.py:155: FutureWarning: 'normalize' was deprecated in version 1.0 and will be removed in 1.2. Please leave the normalize parameter to its default value to silence this warning. The default behavior of this estimator is to not do any normalization. If normalization is needed please use sklearn.preprocessing.StandardScaler instead.\n",
            "  FutureWarning,\n",
            "/usr/local/lib/python3.7/dist-packages/sklearn/linear_model/_base.py:155: FutureWarning: 'normalize' was deprecated in version 1.0 and will be removed in 1.2. Please leave the normalize parameter to its default value to silence this warning. The default behavior of this estimator is to not do any normalization. If normalization is needed please use sklearn.preprocessing.StandardScaler instead.\n",
            "  FutureWarning,\n",
            "/usr/local/lib/python3.7/dist-packages/sklearn/linear_model/_base.py:155: FutureWarning: 'normalize' was deprecated in version 1.0 and will be removed in 1.2. Please leave the normalize parameter to its default value to silence this warning. The default behavior of this estimator is to not do any normalization. If normalization is needed please use sklearn.preprocessing.StandardScaler instead.\n",
            "  FutureWarning,\n",
            "/usr/local/lib/python3.7/dist-packages/sklearn/linear_model/_base.py:145: FutureWarning: 'normalize' was deprecated in version 1.0 and will be removed in 1.2.\n",
            "If you wish to scale the data, use Pipeline with a StandardScaler in a preprocessing stage. To reproduce the previous behavior:\n",
            "\n",
            "from sklearn.pipeline import make_pipeline\n",
            "\n",
            "model = make_pipeline(StandardScaler(with_mean=False), Ridge())\n",
            "\n",
            "If you wish to pass a sample_weight parameter, you need to pass it as a fit parameter to each step of the pipeline as follows:\n",
            "\n",
            "kwargs = {s[0] + '__sample_weight': sample_weight for s in model.steps}\n",
            "model.fit(X, y, **kwargs)\n",
            "\n",
            "Set parameter alpha to: original_alpha * n_samples. \n",
            "  FutureWarning,\n",
            "/usr/local/lib/python3.7/dist-packages/sklearn/linear_model/_base.py:145: FutureWarning: 'normalize' was deprecated in version 1.0 and will be removed in 1.2.\n",
            "If you wish to scale the data, use Pipeline with a StandardScaler in a preprocessing stage. To reproduce the previous behavior:\n",
            "\n",
            "from sklearn.pipeline import make_pipeline\n",
            "\n",
            "model = make_pipeline(StandardScaler(with_mean=False), Ridge())\n",
            "\n",
            "If you wish to pass a sample_weight parameter, you need to pass it as a fit parameter to each step of the pipeline as follows:\n",
            "\n",
            "kwargs = {s[0] + '__sample_weight': sample_weight for s in model.steps}\n",
            "model.fit(X, y, **kwargs)\n",
            "\n",
            "Set parameter alpha to: original_alpha * n_samples. \n",
            "  FutureWarning,\n",
            "/usr/local/lib/python3.7/dist-packages/sklearn/linear_model/_base.py:145: FutureWarning: 'normalize' was deprecated in version 1.0 and will be removed in 1.2.\n",
            "If you wish to scale the data, use Pipeline with a StandardScaler in a preprocessing stage. To reproduce the previous behavior:\n",
            "\n",
            "from sklearn.pipeline import make_pipeline\n",
            "\n",
            "model = make_pipeline(StandardScaler(with_mean=False), Ridge())\n",
            "\n",
            "If you wish to pass a sample_weight parameter, you need to pass it as a fit parameter to each step of the pipeline as follows:\n",
            "\n",
            "kwargs = {s[0] + '__sample_weight': sample_weight for s in model.steps}\n",
            "model.fit(X, y, **kwargs)\n",
            "\n",
            "Set parameter alpha to: original_alpha * n_samples. \n",
            "  FutureWarning,\n",
            "/usr/local/lib/python3.7/dist-packages/sklearn/linear_model/_base.py:145: FutureWarning: 'normalize' was deprecated in version 1.0 and will be removed in 1.2.\n",
            "If you wish to scale the data, use Pipeline with a StandardScaler in a preprocessing stage. To reproduce the previous behavior:\n",
            "\n",
            "from sklearn.pipeline import make_pipeline\n",
            "\n",
            "model = make_pipeline(StandardScaler(with_mean=False), Ridge())\n",
            "\n",
            "If you wish to pass a sample_weight parameter, you need to pass it as a fit parameter to each step of the pipeline as follows:\n",
            "\n",
            "kwargs = {s[0] + '__sample_weight': sample_weight for s in model.steps}\n",
            "model.fit(X, y, **kwargs)\n",
            "\n",
            "Set parameter alpha to: original_alpha * n_samples. \n",
            "  FutureWarning,\n",
            "/usr/local/lib/python3.7/dist-packages/sklearn/linear_model/_base.py:155: FutureWarning: 'normalize' was deprecated in version 1.0 and will be removed in 1.2. Please leave the normalize parameter to its default value to silence this warning. The default behavior of this estimator is to not do any normalization. If normalization is needed please use sklearn.preprocessing.StandardScaler instead.\n",
            "  FutureWarning,\n",
            "/usr/local/lib/python3.7/dist-packages/sklearn/linear_model/_base.py:155: FutureWarning: 'normalize' was deprecated in version 1.0 and will be removed in 1.2. Please leave the normalize parameter to its default value to silence this warning. The default behavior of this estimator is to not do any normalization. If normalization is needed please use sklearn.preprocessing.StandardScaler instead.\n",
            "  FutureWarning,\n",
            "/usr/local/lib/python3.7/dist-packages/sklearn/linear_model/_base.py:155: FutureWarning: 'normalize' was deprecated in version 1.0 and will be removed in 1.2. Please leave the normalize parameter to its default value to silence this warning. The default behavior of this estimator is to not do any normalization. If normalization is needed please use sklearn.preprocessing.StandardScaler instead.\n",
            "  FutureWarning,\n",
            "/usr/local/lib/python3.7/dist-packages/sklearn/linear_model/_base.py:155: FutureWarning: 'normalize' was deprecated in version 1.0 and will be removed in 1.2. Please leave the normalize parameter to its default value to silence this warning. The default behavior of this estimator is to not do any normalization. If normalization is needed please use sklearn.preprocessing.StandardScaler instead.\n",
            "  FutureWarning,\n",
            "/usr/local/lib/python3.7/dist-packages/sklearn/linear_model/_base.py:155: FutureWarning: 'normalize' was deprecated in version 1.0 and will be removed in 1.2. Please leave the normalize parameter to its default value to silence this warning. The default behavior of this estimator is to not do any normalization. If normalization is needed please use sklearn.preprocessing.StandardScaler instead.\n",
            "  FutureWarning,\n"
          ]
        },
        {
          "output_type": "execute_result",
          "data": {
            "text/plain": [
              "Ridge(alpha=100000, normalize=False)"
            ]
          },
          "metadata": {},
          "execution_count": 33
        }
      ]
    }
  ]
}
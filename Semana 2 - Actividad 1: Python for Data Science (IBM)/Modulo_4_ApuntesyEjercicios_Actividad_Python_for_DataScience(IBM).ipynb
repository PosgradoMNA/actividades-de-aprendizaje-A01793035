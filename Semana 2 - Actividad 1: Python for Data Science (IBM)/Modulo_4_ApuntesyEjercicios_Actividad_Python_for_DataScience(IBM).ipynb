{
  "nbformat": 4,
  "nbformat_minor": 0,
  "metadata": {
    "colab": {
      "provenance": []
    },
    "kernelspec": {
      "name": "python3",
      "display_name": "Python 3"
    },
    "language_info": {
      "name": "python"
    }
  },
  "cells": [
    {
      "cell_type": "markdown",
      "source": [
        "**Modulo 4 - Semana 2 - Actividad 1: Python for Data Science (IBM)**\n",
        "\n",
        "Nombre: Diego Alonso Luna Ramirez\n",
        "\n",
        "Matricula: A01793035"
      ],
      "metadata": {
        "id": "CJgJDQJEMmlb"
      }
    },
    {
      "cell_type": "markdown",
      "source": [
        "![Data Science_Module 4.png](data:image/png;base64,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)"
      ],
      "metadata": {
        "id": "4oqWwbx3UXz6"
      }
    },
    {
      "cell_type": "code",
      "source": [
        "df=pd.DataFrame({'a':[1,2,1],'b':[1,1,1]})\n",
        "df['a']==1"
      ],
      "metadata": {
        "colab": {
          "base_uri": "https://localhost:8080/"
        },
        "id": "PK6A55WqM-dD",
        "outputId": "b3557270-85f7-4581-da36-51c39f569e6f"
      },
      "execution_count": 5,
      "outputs": [
        {
          "output_type": "execute_result",
          "data": {
            "text/plain": [
              "0     True\n",
              "1    False\n",
              "2     True\n",
              "Name: a, dtype: bool"
            ]
          },
          "metadata": {},
          "execution_count": 5
        }
      ]
    },
    {
      "cell_type": "code",
      "source": [
        "# Files\n",
        "path='.\\\\'\n",
        "filename='test.txt'\n",
        "\n",
        "# Write file\n",
        "File1 = open(path+filename,'w') # W for Writing \n",
        "File1.write('line 1 \\n')\n",
        "File1.write('line 2 \\n')\n",
        "File1.close() # Always Close\n",
        "\n",
        "# Append file\n",
        "File1 = open(path+filename,'a') # A for Appending\n",
        "File1.write('line 3')\n",
        "File1.close() # Always Close\n",
        "\n",
        "# Read File\n",
        "File1 = open(path+filename,'r') # R for Reading\n",
        "print(File1.name) # Get Object Path+FileName\n",
        "print(File1.mode) # Get the mode in which the file was open (r,w,a)\n",
        "File1.close() # Always Close\n",
        "\n",
        "# Other Modes\n",
        "#    r+ : Reading and writing. Cannot truncate the file.\n",
        "#    w+ : Writing and reading. Truncates the file.\n",
        "#    a+ : Appending and Reading. Creates a new file, if none exists.\n",
        "\n",
        "\n",
        "# Using With to not have to use .close()\n",
        "with open(path+filename,'r') as File2:\n",
        "    file_stuff=File2.read(4) # Read as is chars\n",
        "    print(file_stuff)\n",
        "\n",
        "with open(path+filename,'r') as File2:\n",
        "    file_stuff=File2.readlines(2) # Read within line num of char\n",
        "    print(file_stuff)\n",
        "\n",
        "with open(path+filename,'r') as File2:\n",
        "    for line in File2:\n",
        "        print(line)"
      ],
      "metadata": {
        "colab": {
          "base_uri": "https://localhost:8080/"
        },
        "id": "Tu0S3JwfMp5C",
        "outputId": "a0f7abf5-ebd4-4b9e-e1b5-fd96717a50e6"
      },
      "execution_count": 1,
      "outputs": [
        {
          "output_type": "stream",
          "name": "stdout",
          "text": [
            ".\\test.txt\n",
            "r\n",
            "line\n",
            "['line 1 \\n']\n",
            "line 1 \n",
            "\n",
            "line 2 \n",
            "\n",
            "line 3\n"
          ]
        }
      ]
    },
    {
      "cell_type": "code",
      "source": [
        "# Pandas\n",
        "import pandas as pd\n",
        "csv_path='testcsv.csv'\n",
        "\n",
        "# Read file with Pandas\n",
        "#df=pd.read_csv(csv_path)\n",
        "#df.head() # Read first 5 rows\n",
        "\n",
        "# Create Data Frame from Dictionary\n",
        "letters={'ID':['111','112','113','113'],'FIRST':['Juan','Pedro','Pablo','Pablo'],'LAST':['Bladinieres','Garces','Juarez','Juarez']}\n",
        "df2=pd.DataFrame(letters)\n",
        "df2.head()\n",
        "\n",
        "# Create DataFrame from another Dataframe by column \n",
        "x=df2[['ID','FIRST']] # Can add more than one column\n",
        "x.head()\n",
        "\n",
        "# Access value by x,y value\n",
        "df2.iloc[1,1] # Can use index or name of column\n",
        "\n",
        "# Create Slice of dataframe\n",
        "z=df2.iloc[0:2,0:2] # Can use index or name of column\n",
        "z.head()\n",
        "\n",
        "# Get unique elements within a column\n",
        "df2['ID'].unique()\n",
        "\n",
        "# Get a result of a operation (return Boolean)\n",
        "df2['ID']>='112'\n",
        "df3=df2[df2['ID']>='112']\n",
        "df3.head()\n",
        "\n",
        "# Save to csv file\n",
        "df3.to_csv('test2csv.csv')"
      ],
      "metadata": {
        "id": "Eeyab19FMvLR"
      },
      "execution_count": 4,
      "outputs": []
    }
  ]
}
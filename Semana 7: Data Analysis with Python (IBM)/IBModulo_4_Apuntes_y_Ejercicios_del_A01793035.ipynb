{
  "nbformat": 4,
  "nbformat_minor": 0,
  "metadata": {
    "colab": {
      "provenance": []
    },
    "kernelspec": {
      "name": "python3",
      "display_name": "Python 3"
    },
    "language_info": {
      "name": "python"
    }
  },
  "cells": [
    {
      "cell_type": "markdown",
      "source": [
        "**Semana 7 - MODULO 4: Data Analysis with Python (IBM)**\n",
        "\n",
        "Nombre: *Diego Alonso Luna Ramirez*\n",
        "\n",
        "Matricula: A01793035"
      ],
      "metadata": {
        "id": "1gmtHkmcNgUo"
      }
    },
    {
      "cell_type": "markdown",
      "source": [
        "![Module 4 - Data Analysis.png](data:image/png;base64,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)"
      ],
      "metadata": {
        "id": "SMbISvx3TF7b"
      }
    },
    {
      "cell_type": "markdown",
      "source": [
        "Ecuación matematica para predecir un valor cuando se nos provee de uno o más valores, esto a travez de la relación entre variables dependientes e independientes.\n",
        "\n",
        "**Regresion Lineal Simple:** Utiliza suna sola variable independiente para realizar una predicción de datos, ve la relación entre dos variables.\n",
        "\n",
        "**Regresión Lineal Multiple:** Usa más de una variable independiente para realizar una predicción, ayuda a obtener predicciones con más variables para obtener una variable de salida."
      ],
      "metadata": {
        "id": "C2DaXvGbgPBy"
      }
    },
    {
      "cell_type": "code",
      "source": [
        "import requests\n",
        "import os\n",
        "import pandas as pd\n",
        "import numpy as np\n",
        "\n",
        "url='https://archive.ics.uci.edu/ml/machine-learning-databases/autos/imports-85.data'\n",
        "path=os.path.join(os.getcwd(),'cars.csv')\n",
        "\n",
        "df=pd.read_csv(url, header= None)\n",
        "headers=['symboling','normalized-losses','make','fuel-type','aspiration','num-of-doors','body-style','drive-wheels','engine-location','wheel-base','length','width','height','curb-weight','engine-type','num-of-cylinders','engine-size','fuel-system','bore','stroke','compression-ratio','horsepower','peak-rpm','city-mpg','highway-mpg','price']\n",
        "df.columns = headers\n",
        "df=df.replace('?',np.NaN)\n",
        "df[\"price\"] = df[\"price\"].astype(\"float\")\n",
        "df[\"normalized-losses\"] = df[\"normalized-losses\"].astype(\"float\")\n",
        "df[\"make\"] = df[\"make\"].astype(\"string\")\n",
        "df[\"fuel-type\"] = df[\"fuel-type\"].astype(\"string\")\n",
        "df[\"aspiration\"] = df[\"aspiration\"].astype(\"string\")\n",
        "df[\"num-of-doors\"] = df[\"num-of-doors\"].astype(\"string\")\n",
        "df[\"body-style\"] = df[\"body-style\"].astype(\"string\")\n",
        "df[\"drive-wheels\"] = df[\"drive-wheels\"].astype(\"string\")\n",
        "df[\"engine-location\"] = df[\"engine-location\"].astype(\"string\")\n",
        "df[\"engine-type\"] = df[\"engine-type\"].astype(\"string\")\n",
        "df[\"fuel-system\"] = df[\"fuel-system\"].astype(\"string\")\n",
        "df[\"num-of-cylinders\"] = df[\"num-of-cylinders\"].astype(\"string\")\n",
        "df[\"bore\"] = df[\"bore\"].astype(\"float\")\n",
        "df[\"stroke\"] = df[\"stroke\"].astype(\"float\")\n",
        "df[\"horsepower\"] = df[\"horsepower\"].astype(\"float\")\n",
        "df[\"peak-rpm\"] = df[\"peak-rpm\"].astype(\"float\")\n",
        "df.dropna(inplace=True)\n",
        "df.to_csv(path)\n",
        "url='https://archive.ics.uci.edu/ml/machine-learning-databases/autos/imports-85.data'\n",
        "df=pd.read_csv(url, header= None)\n",
        "headers=['symboling','normalized-losses','make','fuel-type','aspiration','num-of-doors','body-style','drive-wheels','engine-location','wheel-base','length','width','height','curb-weight','engine-type','num-of-cylinders','engine-size','fuel-system','bore','stroke','compression-ratio','horsepower','peak-rpm','city-mpg','highway-mpg','price']\n",
        "df.columns = headers\n",
        "df=df.replace('?',np.NaN)\n",
        "df[\"price\"] = df[\"price\"].astype(\"float\")\n",
        "df[\"normalized-losses\"] = df[\"normalized-losses\"].astype(\"float\")\n",
        "df[\"make\"] = df[\"make\"].astype(\"string\")\n",
        "df[\"fuel-type\"] = df[\"fuel-type\"].astype(\"string\")\n",
        "df[\"aspiration\"] = df[\"aspiration\"].astype(\"string\")\n",
        "df[\"num-of-doors\"] = df[\"num-of-doors\"].astype(\"string\")\n",
        "df[\"body-style\"] = df[\"body-style\"].astype(\"string\")\n",
        "df[\"drive-wheels\"] = df[\"drive-wheels\"].astype(\"string\")\n",
        "df[\"engine-location\"] = df[\"engine-location\"].astype(\"string\")\n",
        "df[\"engine-type\"] = df[\"engine-type\"].astype(\"string\")\n",
        "df[\"fuel-system\"] = df[\"fuel-system\"].astype(\"string\")\n",
        "df[\"num-of-cylinders\"] = df[\"num-of-cylinders\"].astype(\"string\")\n",
        "df[\"bore\"] = df[\"bore\"].astype(\"float\")\n",
        "df[\"stroke\"] = df[\"stroke\"].astype(\"float\")\n",
        "df[\"horsepower\"] = df[\"horsepower\"].astype(\"float\")\n",
        "df[\"peak-rpm\"] = df[\"peak-rpm\"].astype(\"float\")\n",
        "df.dropna(inplace=True)\n",
        "df.head(3)"
      ],
      "metadata": {
        "id": "RaxWrfwZNm7K",
        "colab": {
          "base_uri": "https://localhost:8080/",
          "height": 234
        },
        "outputId": "5e8b46d2-014d-4836-e4aa-1d480b82901f"
      },
      "execution_count": 1,
      "outputs": [
        {
          "output_type": "execute_result",
          "data": {
            "text/plain": [
              "   symboling  normalized-losses  make fuel-type aspiration num-of-doors  \\\n",
              "3          2              164.0  audi       gas        std         four   \n",
              "4          2              164.0  audi       gas        std         four   \n",
              "6          1              158.0  audi       gas        std         four   \n",
              "\n",
              "  body-style drive-wheels engine-location  wheel-base  ...  engine-size  \\\n",
              "3      sedan          fwd           front        99.8  ...          109   \n",
              "4      sedan          4wd           front        99.4  ...          136   \n",
              "6      sedan          fwd           front       105.8  ...          136   \n",
              "\n",
              "   fuel-system  bore  stroke compression-ratio horsepower  peak-rpm city-mpg  \\\n",
              "3         mpfi  3.19     3.4              10.0      102.0    5500.0       24   \n",
              "4         mpfi  3.19     3.4               8.0      115.0    5500.0       18   \n",
              "6         mpfi  3.19     3.4               8.5      110.0    5500.0       19   \n",
              "\n",
              "   highway-mpg    price  \n",
              "3           30  13950.0  \n",
              "4           22  17450.0  \n",
              "6           25  17710.0  \n",
              "\n",
              "[3 rows x 26 columns]"
            ],
            "text/html": [
              "\n",
              "  <div id=\"df-975bf2da-4c5d-4636-abdf-0e6c176e07f7\">\n",
              "    <div class=\"colab-df-container\">\n",
              "      <div>\n",
              "<style scoped>\n",
              "    .dataframe tbody tr th:only-of-type {\n",
              "        vertical-align: middle;\n",
              "    }\n",
              "\n",
              "    .dataframe tbody tr th {\n",
              "        vertical-align: top;\n",
              "    }\n",
              "\n",
              "    .dataframe thead th {\n",
              "        text-align: right;\n",
              "    }\n",
              "</style>\n",
              "<table border=\"1\" class=\"dataframe\">\n",
              "  <thead>\n",
              "    <tr style=\"text-align: right;\">\n",
              "      <th></th>\n",
              "      <th>symboling</th>\n",
              "      <th>normalized-losses</th>\n",
              "      <th>make</th>\n",
              "      <th>fuel-type</th>\n",
              "      <th>aspiration</th>\n",
              "      <th>num-of-doors</th>\n",
              "      <th>body-style</th>\n",
              "      <th>drive-wheels</th>\n",
              "      <th>engine-location</th>\n",
              "      <th>wheel-base</th>\n",
              "      <th>...</th>\n",
              "      <th>engine-size</th>\n",
              "      <th>fuel-system</th>\n",
              "      <th>bore</th>\n",
              "      <th>stroke</th>\n",
              "      <th>compression-ratio</th>\n",
              "      <th>horsepower</th>\n",
              "      <th>peak-rpm</th>\n",
              "      <th>city-mpg</th>\n",
              "      <th>highway-mpg</th>\n",
              "      <th>price</th>\n",
              "    </tr>\n",
              "  </thead>\n",
              "  <tbody>\n",
              "    <tr>\n",
              "      <th>3</th>\n",
              "      <td>2</td>\n",
              "      <td>164.0</td>\n",
              "      <td>audi</td>\n",
              "      <td>gas</td>\n",
              "      <td>std</td>\n",
              "      <td>four</td>\n",
              "      <td>sedan</td>\n",
              "      <td>fwd</td>\n",
              "      <td>front</td>\n",
              "      <td>99.8</td>\n",
              "      <td>...</td>\n",
              "      <td>109</td>\n",
              "      <td>mpfi</td>\n",
              "      <td>3.19</td>\n",
              "      <td>3.4</td>\n",
              "      <td>10.0</td>\n",
              "      <td>102.0</td>\n",
              "      <td>5500.0</td>\n",
              "      <td>24</td>\n",
              "      <td>30</td>\n",
              "      <td>13950.0</td>\n",
              "    </tr>\n",
              "    <tr>\n",
              "      <th>4</th>\n",
              "      <td>2</td>\n",
              "      <td>164.0</td>\n",
              "      <td>audi</td>\n",
              "      <td>gas</td>\n",
              "      <td>std</td>\n",
              "      <td>four</td>\n",
              "      <td>sedan</td>\n",
              "      <td>4wd</td>\n",
              "      <td>front</td>\n",
              "      <td>99.4</td>\n",
              "      <td>...</td>\n",
              "      <td>136</td>\n",
              "      <td>mpfi</td>\n",
              "      <td>3.19</td>\n",
              "      <td>3.4</td>\n",
              "      <td>8.0</td>\n",
              "      <td>115.0</td>\n",
              "      <td>5500.0</td>\n",
              "      <td>18</td>\n",
              "      <td>22</td>\n",
              "      <td>17450.0</td>\n",
              "    </tr>\n",
              "    <tr>\n",
              "      <th>6</th>\n",
              "      <td>1</td>\n",
              "      <td>158.0</td>\n",
              "      <td>audi</td>\n",
              "      <td>gas</td>\n",
              "      <td>std</td>\n",
              "      <td>four</td>\n",
              "      <td>sedan</td>\n",
              "      <td>fwd</td>\n",
              "      <td>front</td>\n",
              "      <td>105.8</td>\n",
              "      <td>...</td>\n",
              "      <td>136</td>\n",
              "      <td>mpfi</td>\n",
              "      <td>3.19</td>\n",
              "      <td>3.4</td>\n",
              "      <td>8.5</td>\n",
              "      <td>110.0</td>\n",
              "      <td>5500.0</td>\n",
              "      <td>19</td>\n",
              "      <td>25</td>\n",
              "      <td>17710.0</td>\n",
              "    </tr>\n",
              "  </tbody>\n",
              "</table>\n",
              "<p>3 rows × 26 columns</p>\n",
              "</div>\n",
              "      <button class=\"colab-df-convert\" onclick=\"convertToInteractive('df-975bf2da-4c5d-4636-abdf-0e6c176e07f7')\"\n",
              "              title=\"Convert this dataframe to an interactive table.\"\n",
              "              style=\"display:none;\">\n",
              "        \n",
              "  <svg xmlns=\"http://www.w3.org/2000/svg\" height=\"24px\"viewBox=\"0 0 24 24\"\n",
              "       width=\"24px\">\n",
              "    <path d=\"M0 0h24v24H0V0z\" fill=\"none\"/>\n",
              "    <path d=\"M18.56 5.44l.94 2.06.94-2.06 2.06-.94-2.06-.94-.94-2.06-.94 2.06-2.06.94zm-11 1L8.5 8.5l.94-2.06 2.06-.94-2.06-.94L8.5 2.5l-.94 2.06-2.06.94zm10 10l.94 2.06.94-2.06 2.06-.94-2.06-.94-.94-2.06-.94 2.06-2.06.94z\"/><path d=\"M17.41 7.96l-1.37-1.37c-.4-.4-.92-.59-1.43-.59-.52 0-1.04.2-1.43.59L10.3 9.45l-7.72 7.72c-.78.78-.78 2.05 0 2.83L4 21.41c.39.39.9.59 1.41.59.51 0 1.02-.2 1.41-.59l7.78-7.78 2.81-2.81c.8-.78.8-2.07 0-2.86zM5.41 20L4 18.59l7.72-7.72 1.47 1.35L5.41 20z\"/>\n",
              "  </svg>\n",
              "      </button>\n",
              "      \n",
              "  <style>\n",
              "    .colab-df-container {\n",
              "      display:flex;\n",
              "      flex-wrap:wrap;\n",
              "      gap: 12px;\n",
              "    }\n",
              "\n",
              "    .colab-df-convert {\n",
              "      background-color: #E8F0FE;\n",
              "      border: none;\n",
              "      border-radius: 50%;\n",
              "      cursor: pointer;\n",
              "      display: none;\n",
              "      fill: #1967D2;\n",
              "      height: 32px;\n",
              "      padding: 0 0 0 0;\n",
              "      width: 32px;\n",
              "    }\n",
              "\n",
              "    .colab-df-convert:hover {\n",
              "      background-color: #E2EBFA;\n",
              "      box-shadow: 0px 1px 2px rgba(60, 64, 67, 0.3), 0px 1px 3px 1px rgba(60, 64, 67, 0.15);\n",
              "      fill: #174EA6;\n",
              "    }\n",
              "\n",
              "    [theme=dark] .colab-df-convert {\n",
              "      background-color: #3B4455;\n",
              "      fill: #D2E3FC;\n",
              "    }\n",
              "\n",
              "    [theme=dark] .colab-df-convert:hover {\n",
              "      background-color: #434B5C;\n",
              "      box-shadow: 0px 1px 3px 1px rgba(0, 0, 0, 0.15);\n",
              "      filter: drop-shadow(0px 1px 2px rgba(0, 0, 0, 0.3));\n",
              "      fill: #FFFFFF;\n",
              "    }\n",
              "  </style>\n",
              "\n",
              "      <script>\n",
              "        const buttonEl =\n",
              "          document.querySelector('#df-975bf2da-4c5d-4636-abdf-0e6c176e07f7 button.colab-df-convert');\n",
              "        buttonEl.style.display =\n",
              "          google.colab.kernel.accessAllowed ? 'block' : 'none';\n",
              "\n",
              "        async function convertToInteractive(key) {\n",
              "          const element = document.querySelector('#df-975bf2da-4c5d-4636-abdf-0e6c176e07f7');\n",
              "          const dataTable =\n",
              "            await google.colab.kernel.invokeFunction('convertToInteractive',\n",
              "                                                     [key], {});\n",
              "          if (!dataTable) return;\n",
              "\n",
              "          const docLinkHtml = 'Like what you see? Visit the ' +\n",
              "            '<a target=\"_blank\" href=https://colab.research.google.com/notebooks/data_table.ipynb>data table notebook</a>'\n",
              "            + ' to learn more about interactive tables.';\n",
              "          element.innerHTML = '';\n",
              "          dataTable['output_type'] = 'display_data';\n",
              "          await google.colab.output.renderOutput(dataTable, element);\n",
              "          const docLink = document.createElement('div');\n",
              "          docLink.innerHTML = docLinkHtml;\n",
              "          element.appendChild(docLink);\n",
              "        }\n",
              "      </script>\n",
              "    </div>\n",
              "  </div>\n",
              "  "
            ]
          },
          "metadata": {},
          "execution_count": 1
        }
      ]
    },
    {
      "cell_type": "code",
      "source": [
        "# Simple Lineal Model Estimator\n",
        "from sklearn.linear_model import LinearRegression\n",
        "# Constructor\n",
        "lm=LinearRegression()\n",
        "# Define Predictor and Target\n",
        "X = df[[\"highway-mpg\"]]\n",
        "Y = df[[\"price\"]]\n",
        "# Fit the model\n",
        "lm.fit(X,Y)\n",
        "# Get a prediction\n",
        "Yhat=lm.predict(X)\n",
        "# Prediction of the values X\n",
        "print(Yhat)\n",
        "# Show intercept value (b0)\n",
        "print(lm.intercept_)\n",
        "# Show slope value (b1)\n",
        "print(lm.coef_)"
      ],
      "metadata": {
        "colab": {
          "base_uri": "https://localhost:8080/"
        },
        "id": "s37Rq2x9h_2d",
        "outputId": "dc1ed105-ad01-419c-a6b0-263b6fe40283"
      },
      "execution_count": 2,
      "outputs": [
        {
          "output_type": "stream",
          "name": "stdout",
          "text": [
            "[[12809.86873425]\n",
            " [18052.11958005]\n",
            " [16086.27551287]\n",
            " [19362.6822915 ]\n",
            " [13465.15008997]\n",
            " [13465.15008997]\n",
            " [14120.4314457 ]\n",
            " [14120.4314457 ]\n",
            " [-2261.60244743]\n",
            " [ 4291.21110982]\n",
            " [ 4291.21110982]\n",
            " [ 5601.77382127]\n",
            " [ 7567.61788844]\n",
            " [12809.86873425]\n",
            " [ 7567.61788844]\n",
            " [ 7567.61788844]\n",
            " [ 7567.61788844]\n",
            " [12809.86873425]\n",
            " [16741.5568686 ]\n",
            " [-2916.88380316]\n",
            " [ 7567.61788844]\n",
            " [ 4946.49246554]\n",
            " [10188.74331134]\n",
            " [10188.74331134]\n",
            " [10188.74331134]\n",
            " [10188.74331134]\n",
            " [10844.02466707]\n",
            " [10844.02466707]\n",
            " [10844.02466707]\n",
            " [10844.02466707]\n",
            " [14120.4314457 ]\n",
            " [12154.58737852]\n",
            " [20017.96364722]\n",
            " [12154.58737852]\n",
            " [ 7567.61788844]\n",
            " [ 7567.61788844]\n",
            " [ 7567.61788844]\n",
            " [ 7567.61788844]\n",
            " [11499.3060228 ]\n",
            " [11499.3060228 ]\n",
            " [11499.3060228 ]\n",
            " [11499.3060228 ]\n",
            " [11499.3060228 ]\n",
            " [14775.71280142]\n",
            " [16086.27551287]\n",
            " [16086.27551287]\n",
            " [16086.27551287]\n",
            " [16086.27551287]\n",
            " [20673.24500295]\n",
            " [ 5601.77382127]\n",
            " [ 7567.61788844]\n",
            " [ 7567.61788844]\n",
            " [12809.86873425]\n",
            " [12809.86873425]\n",
            " [11499.3060228 ]\n",
            " [11499.3060228 ]\n",
            " [11499.3060228 ]\n",
            " [12809.86873425]\n",
            " [12809.86873425]\n",
            " [ 8222.89924417]\n",
            " [ -295.75838026]\n",
            " [ 8222.89924417]\n",
            " [ 8222.89924417]\n",
            " [ 8222.89924417]\n",
            " [ 8222.89924417]\n",
            " [ 8222.89924417]\n",
            " [ 8222.89924417]\n",
            " [ 8222.89924417]\n",
            " [ 8222.89924417]\n",
            " [10188.74331134]\n",
            " [10188.74331134]\n",
            " [18052.11958005]\n",
            " [18052.11958005]\n",
            " [16086.27551287]\n",
            " [16086.27551287]\n",
            " [17396.83822432]\n",
            " [16086.27551287]\n",
            " [16741.5568686 ]\n",
            " [10844.02466707]\n",
            " [16741.5568686 ]\n",
            " [10844.02466707]\n",
            " [16741.5568686 ]\n",
            " [10844.02466707]\n",
            " [16741.5568686 ]\n",
            " [ 5601.77382127]\n",
            " [12809.86873425]\n",
            " [ 7567.61788844]\n",
            " [ 7567.61788844]\n",
            " [ 7567.61788844]\n",
            " [12809.86873425]\n",
            " [14775.71280142]\n",
            " [14120.4314457 ]\n",
            " [14120.4314457 ]\n",
            " [14120.4314457 ]\n",
            " [14120.4314457 ]\n",
            " [15430.99415715]\n",
            " [15430.99415715]\n",
            " [ 8878.18059989]\n",
            " [12154.58737852]\n",
            " [12154.58737852]\n",
            " [ 8222.89924417]\n",
            " [10844.02466707]\n",
            " [11499.3060228 ]\n",
            " [16086.27551287]\n",
            " [13465.15008997]\n",
            " [11499.3060228 ]\n",
            " [12154.58737852]\n",
            " [13465.15008997]\n",
            " [17396.83822432]\n",
            " [ 6912.33653272]\n",
            " [ 7567.61788844]\n",
            " [ 7567.61788844]\n",
            " [ 8222.89924417]\n",
            " [11499.3060228 ]\n",
            " [11499.3060228 ]\n",
            " [ 8222.89924417]\n",
            " [ 8222.89924417]\n",
            " [ 8878.18059989]\n",
            " [ 1670.08568692]\n",
            " [ 1670.08568692]\n",
            " [10188.74331134]\n",
            " [10188.74331134]\n",
            " [10188.74331134]\n",
            " [10188.74331134]\n",
            " [13465.15008997]\n",
            " [13465.15008997]\n",
            " [12809.86873425]\n",
            " [12809.86873425]\n",
            " [12809.86873425]\n",
            " [12809.86873425]\n",
            " [12809.86873425]\n",
            " [12809.86873425]\n",
            " [10188.74331134]\n",
            " [10844.02466707]\n",
            " [11499.3060228 ]\n",
            " [11499.3060228 ]\n",
            " [11499.3060228 ]\n",
            " [16741.5568686 ]\n",
            " [16741.5568686 ]\n",
            " [16741.5568686 ]\n",
            " [ 2325.36704264]\n",
            " [10188.74331134]\n",
            " [ 2325.36704264]\n",
            " [10188.74331134]\n",
            " [10188.74331134]\n",
            " [ 4946.49246554]\n",
            " [11499.3060228 ]\n",
            " [13465.15008997]\n",
            " [14120.4314457 ]\n",
            " [14120.4314457 ]\n",
            " [14120.4314457 ]\n",
            " [14120.4314457 ]\n",
            " [18052.11958005]\n",
            " [18052.11958005]\n",
            " [14120.4314457 ]\n",
            " [16086.27551287]\n",
            " [17396.83822432]\n",
            " [14775.71280142]\n",
            " [16086.27551287]]\n",
            "[32468.309406]\n",
            "[[-655.28135573]]\n"
          ]
        }
      ]
    },
    {
      "cell_type": "code",
      "source": [
        "# Multiple Linear Model Estimator\n",
        "mlm=LinearRegression()\n",
        "Z = df[[\"horsepower\",\"curb-weight\",\"engine-size\",\"highway-mpg\"]]\n",
        "# Fit Model\n",
        "mlm.fit(Z,Y)\n",
        "# Make a prediction\n",
        "Yhat2=mlm.predict(Z)\n",
        "# Prediction of the values X\n",
        "print(Yhat2)\n",
        "# Show intercept value (b0)\n",
        "print(mlm.intercept_)\n",
        "# Show slopes values (b1..bn)\n",
        "print(mlm.coef_)"
      ],
      "metadata": {
        "colab": {
          "base_uri": "https://localhost:8080/"
        },
        "id": "VXMmLokmiFU8",
        "outputId": "8b2d1c2d-2b80-4df1-bc28-a174f02be97e"
      },
      "execution_count": 3,
      "outputs": [
        {
          "output_type": "stream",
          "name": "stdout",
          "text": [
            "[[10162.67977044]\n",
            " [15160.96637593]\n",
            " [15290.86495105]\n",
            " [17623.03671533]\n",
            " [10565.83473689]\n",
            " [10565.83473689]\n",
            " [15399.9044388 ]\n",
            " [15853.88053786]\n",
            " [  981.34197254]\n",
            " [ 5350.82844408]\n",
            " [ 5639.7223253 ]\n",
            " [ 5282.20663646]\n",
            " [ 5215.59109992]\n",
            " [ 8074.36763758]\n",
            " [ 5966.71519109]\n",
            " [ 6148.30563071]\n",
            " [ 6148.30563071]\n",
            " [11941.19588272]\n",
            " [16369.23737929]\n",
            " [ 4087.89242874]\n",
            " [ 4974.02236706]\n",
            " [ 4456.41984727]\n",
            " [ 5883.9490696 ]\n",
            " [ 6016.01484387]\n",
            " [ 6461.73683204]\n",
            " [ 6577.29438453]\n",
            " [ 9102.89118383]\n",
            " [ 9540.35906111]\n",
            " [ 9664.17072449]\n",
            " [10225.45026515]\n",
            " [11187.45422165]\n",
            " [ 9814.00284892]\n",
            " [30616.15752557]\n",
            " [ 5208.73085105]\n",
            " [ 5446.70821191]\n",
            " [ 5487.97876637]\n",
            " [ 5818.14320205]\n",
            " [ 5859.41375651]\n",
            " [10666.0502632 ]\n",
            " [10872.4030355 ]\n",
            " [10666.0502632 ]\n",
            " [10872.4030355 ]\n",
            " [10996.21469888]\n",
            " [14234.7321744 ]\n",
            " [22645.91840314]\n",
            " [24585.63446277]\n",
            " [22480.8361853 ]\n",
            " [24750.71668061]\n",
            " [26229.13672993]\n",
            " [ 5694.91619509]\n",
            " [ 5842.90754174]\n",
            " [ 6338.15419526]\n",
            " [ 8214.68752274]\n",
            " [10753.1215824 ]\n",
            " [10277.00528577]\n",
            " [10582.40738877]\n",
            " [10912.57182445]\n",
            " [11025.50724183]\n",
            " [11025.50724183]\n",
            " [ 5552.17835261]\n",
            " [ 6810.44487339]\n",
            " [ 5791.54756847]\n",
            " [ 5956.62978632]\n",
            " [ 6666.48332303]\n",
            " [ 6063.93322791]\n",
            " [ 6699.4997666 ]\n",
            " [ 6229.01544575]\n",
            " [ 6773.78676463]\n",
            " [ 6534.41754876]\n",
            " [10405.6008214 ]\n",
            " [10224.01038178]\n",
            " [19636.9746305 ]\n",
            " [21296.0509198 ]\n",
            " [19414.69628583]\n",
            " [19668.37019246]\n",
            " [20999.63280953]\n",
            " [20229.64973312]\n",
            " [15928.41021376]\n",
            " [18605.10519828]\n",
            " [16341.66664112]\n",
            " [19059.08129734]\n",
            " [16382.38631282]\n",
            " [19059.08129734]\n",
            " [18214.81333343]\n",
            " [ 5628.87929393]\n",
            " [ 8074.36763758]\n",
            " [ 5966.71519109]\n",
            " [ 6148.30563071]\n",
            " [ 8079.78363558]\n",
            " [11941.19588272]\n",
            " [15957.65533177]\n",
            " [13326.93910291]\n",
            " [13632.34120592]\n",
            " [13731.39053662]\n",
            " [14152.35019212]\n",
            " [15538.63717165]\n",
            " [15860.54749644]\n",
            " [ 6858.88502737]\n",
            " [ 7770.28919541]\n",
            " [ 8760.78250245]\n",
            " [ 8293.11156348]\n",
            " [ 8575.72583822]\n",
            " [10035.95532341]\n",
            " [10007.63603138]\n",
            " [11718.655848  ]\n",
            " [ 9378.93174858]\n",
            " [10962.97289714]\n",
            " [10385.35062799]\n",
            " [12741.00029979]\n",
            " [ 6081.37225205]\n",
            " [ 6513.14317226]\n",
            " [ 6306.79039996]\n",
            " [ 8471.9246075 ]\n",
            " [ 8443.43982217]\n",
            " [15211.81075363]\n",
            " [ 7190.34593031]\n",
            " [ 7421.46103529]\n",
            " [ 8880.62196959]\n",
            " [ 9124.87893692]\n",
            " [ 7519.70116039]\n",
            " [ 7462.14894034]\n",
            " [ 7610.72293639]\n",
            " [ 7850.09215226]\n",
            " [ 8138.98603348]\n",
            " [ 9386.57400946]\n",
            " [ 9675.46789069]\n",
            " [13344.98465508]\n",
            " [13311.96821151]\n",
            " [13435.77987489]\n",
            " [14492.30606907]\n",
            " [14781.19995029]\n",
            " [16935.5228931 ]\n",
            " [10386.34676509]\n",
            " [10852.2163754 ]\n",
            " [11068.29816589]\n",
            " [11068.29816589]\n",
            " [11431.47904514]\n",
            " [18552.19980888]\n",
            " [18882.36424456]\n",
            " [19729.78781788]\n",
            " [ 8476.43700458]\n",
            " [ 8848.85708216]\n",
            " [ 8501.19933726]\n",
            " [ 8873.61941484]\n",
            " [ 9393.62840103]\n",
            " [ 9192.11209456]\n",
            " [ 9860.96835343]\n",
            " [ 8938.67969789]\n",
            " [16165.29162458]\n",
            " [17172.29315341]\n",
            " [16355.1361751 ]\n",
            " [17238.32604055]\n",
            " [17743.92646463]\n",
            " [18668.38688454]\n",
            " [16495.45606026]\n",
            " [18166.04172947]\n",
            " [18343.46395529]\n",
            " [18629.78538332]\n",
            " [17336.79272184]]\n",
            "[-15469.04712033]\n",
            "[[20.35983585  8.25411089 33.01845058 22.20517885]]\n"
          ]
        }
      ]
    },
    {
      "cell_type": "markdown",
      "source": [
        "**Regression Plot:** Enseña la relación de dos variables, muestra la fuerza de la correlación, se observa la dirección de la relación (positiva o negativa) y muestra los puntos de datos obtenidos al mismo tiempo que muestra linea ajustada del modelo predictivo."
      ],
      "metadata": {
        "id": "AQd1HCLaiQCc"
      }
    },
    {
      "cell_type": "code",
      "source": [
        "import seaborn as sns\n",
        "sns.regplot(x=\"highway-mpg\", y=\"price\", data=df)"
      ],
      "metadata": {
        "colab": {
          "base_uri": "https://localhost:8080/",
          "height": 296
        },
        "id": "ls5chonPieO1",
        "outputId": "3bc6cdd7-ab80-4de3-fdb9-533ba31e6e16"
      },
      "execution_count": 4,
      "outputs": [
        {
          "output_type": "execute_result",
          "data": {
            "text/plain": [
              "<matplotlib.axes._subplots.AxesSubplot at 0x7f08409d1110>"
            ]
          },
          "metadata": {},
          "execution_count": 4
        },
        {
          "output_type": "display_data",
          "data": {
            "text/plain": [
              "<Figure size 432x288 with 1 Axes>"
            ],
            "image/png": "[encoded data removed]"
          },
          "metadata": {
            "needs_background": "light"
          }
        }
      ]
    },
    {
      "cell_type": "markdown",
      "source": [
        "**Grafica de Residuales**\n",
        "\n",
        "Grafican en un punto las diferencias entre predicción y real (Yhat - Y).\n",
        "\n",
        "X es el valor de la variable dependiente predictor.\n",
        "\n",
        "Y es el residuo de la diferencia entre Yhat y Y.\n",
        "\n",
        "Se espera que el promedio este en el centro de la grafica y que la varianza se equitativa a una normal.\n",
        "\n",
        "Si la grafica muestra una distribución no aleatoria es posible que el modelo no debe ser lineal.\n",
        "\n",
        "Si la varianza aumenta con la variable x significa que nuestro modelo no es correcto."
      ],
      "metadata": {
        "id": "UBSpe-WQrrVj"
      }
    },
    {
      "cell_type": "code",
      "source": [
        "# Residual Plot\n",
        "import seaborn as sns\n",
        "sns.residplot(x=df[\"highway-mpg\"], y=df[\"price\"])"
      ],
      "metadata": {
        "colab": {
          "base_uri": "https://localhost:8080/",
          "height": 296
        },
        "id": "9ZvPbNFuieUc",
        "outputId": "b442ae0c-4603-4774-d864-19de0cd502f3"
      },
      "execution_count": 5,
      "outputs": [
        {
          "output_type": "execute_result",
          "data": {
            "text/plain": [
              "<matplotlib.axes._subplots.AxesSubplot at 0x7f0840915d10>"
            ]
          },
          "metadata": {},
          "execution_count": 5
        },
        {
          "output_type": "display_data",
          "data": {
            "text/plain": [
              "<Figure size 432x288 with 1 Axes>"
            ],
            "image/png": "[encoded data removed]"
          },
          "metadata": {
            "needs_background": "light"
          }
        }
      ]
    },
    {
      "cell_type": "markdown",
      "source": [
        "**Grafica de Distribución**\n",
        "\n",
        "Es necesario usar valores continuos, pero el graficador los transforma en caso de valores discretos.\n",
        "Se comparan facilmente los valores reales contra los predecidos en una curva de distribución.\n",
        "Se pueden comparar facilmente los resultados de otros modelos."
      ],
      "metadata": {
        "id": "ppL-VsvXtoUO"
      }
    },
    {
      "cell_type": "code",
      "source": [
        "# Residual Plot\n",
        "import seaborn as sns\n",
        "\n",
        "# Real Values\n",
        "ax1= sns.kdeplot(df[\"price\"], color='r', label=\"Actual Values\")"
      ],
      "metadata": {
        "colab": {
          "base_uri": "https://localhost:8080/",
          "height": 279
        },
        "id": "i5VOqODktmj1",
        "outputId": "5fb4c36c-13f1-48c8-dfb0-0db68d649e52"
      },
      "execution_count": 7,
      "outputs": [
        {
          "output_type": "display_data",
          "data": {
            "text/plain": [
              "<Figure size 432x288 with 1 Axes>"
            ],
            "image/png": "[encoded data removed]"
          },
          "metadata": {
            "needs_background": "light"
          }
        }
      ]
    },
    {
      "cell_type": "markdown",
      "source": [
        "**Regressión Polinomial**\n",
        "\n",
        "Describe relaciones con curvas valores de predictores elevados a la n potencias.\n",
        "  - Target: variable Y.\n",
        "  - Predictor: variables X a la n potencia"
      ],
      "metadata": {
        "id": "XRcBwuB1vlRR"
      }
    },
    {
      "cell_type": "code",
      "source": [
        "f=np.polyfit(df[\"highway-mpg\"],df[\"price\"],3)\n",
        "p=np.poly1d(f)\n",
        "\n",
        "print(p)"
      ],
      "metadata": {
        "colab": {
          "base_uri": "https://localhost:8080/"
        },
        "id": "fjE0HM1bv5D-",
        "outputId": "9182f2e5-7a4c-4800-db37-3fe8de482dc6"
      },
      "execution_count": 9,
      "outputs": [
        {
          "output_type": "stream",
          "name": "stdout",
          "text": [
            "         3         2\n",
            "-0.5756 x + 95.52 x - 5071 x + 9.325e+04\n"
          ]
        }
      ]
    },
    {
      "cell_type": "code",
      "source": [
        "# Polinomial Regression with more than one dimension\n",
        "from sklearn.preprocessing import PolynomialFeatures\n",
        "\n",
        "# Define the degree of the polinomial\n",
        "pr=PolynomialFeatures(degree=2, include_bias=False)\n",
        "\n",
        "# Transform the data to fit a new polinomial x values\n",
        "x_polly=pr.fit_transform(df[[\"horsepower\",\"curb-weight\"]])"
      ],
      "metadata": {
        "id": "uayWVyTEv9SW"
      },
      "execution_count": 10,
      "outputs": []
    },
    {
      "cell_type": "code",
      "source": [
        "# Preprocessing\n",
        "from sklearn.preprocessing import StandardScaler\n",
        "\n",
        "# Define the scaler\n",
        "SCALE=StandardScaler()\n",
        "\n",
        "# Transform data to scale\n",
        "SCALE.fit(df[[\"horsepower\",\"highway-mpg\"]])\n",
        "x_scale=SCALE.transform(df[[\"horsepower\",\"highway-mpg\"]])"
      ],
      "metadata": {
        "id": "K_5-nrDwv99m"
      },
      "execution_count": 26,
      "outputs": []
    },
    {
      "cell_type": "code",
      "source": [
        "# Pipelines \n",
        "# Create Steps to a prediction\n",
        "from sklearn.preprocessing import StandardScaler\n",
        "from sklearn.preprocessing import PolynomialFeatures\n",
        "from sklearn.linear_model import LinearRegression\n",
        "from sklearn.pipeline import Pipeline\n",
        "x = df['highway-mpg']\n",
        "y = df['price']\n",
        "\n",
        "# Create the steps \n",
        "input=[(\"scale\",StandardScaler()),\n",
        "        (\"polynomial\",PolynomialFeatures(degree=2)),\n",
        "        (\"model\",LinearRegression())\n",
        "    ]\n",
        "\n",
        "# Construct with steps\n",
        "pipe=Pipeline(input)\n",
        "\n",
        "# Train Pipeline\n",
        "pipe.fit(df[[\"horsepower\",\"curb-weight\",\"engine-size\",\"highway-mpg\"]],df[\"price\"])\n",
        "yhat=pipe.predict(df[[\"horsepower\",\"curb-weight\",\"engine-size\",\"highway-mpg\"]])\n",
        "yhat"
      ],
      "metadata": {
        "colab": {
          "base_uri": "https://localhost:8080/"
        },
        "id": "Q1UtCHYSwAnG",
        "outputId": "a7f09062-b069-4ea1-ba87-55813ec1cf38"
      },
      "execution_count": 30,
      "outputs": [
        {
          "output_type": "execute_result",
          "data": {
            "text/plain": [
              "array([10200.05297339, 16758.29585478, 16034.85613679, 19362.40962849,\n",
              "       10504.2015918 , 10504.2015918 , 14104.6268326 , 14688.630686  ,\n",
              "        7516.89607977,  6572.14047319,  6656.8345466 ,  6270.7204581 ,\n",
              "        5974.56525641,  9126.45252585,  6290.96732155,  6363.46853521,\n",
              "        6363.46853521, 11809.45362165, 15807.91082333,  6311.47695336,\n",
              "        6289.25369827,  5686.24592925,  6372.57209491,  6441.48990346,\n",
              "        6668.0182303 ,  6725.21923786,  8822.41939059,  9110.27161996,\n",
              "        9190.10149062,  9542.93473514, 11051.93755562,  9792.90604686,\n",
              "       33678.40486527,  5285.10870021,  6081.60485302,  6099.89809713,\n",
              "        6243.35391814,  6260.92462928, 10497.77792058, 10665.72922789,\n",
              "       10497.77792058, 10665.72922789, 10765.53663497, 13909.5167792 ,\n",
              "       25812.70029637, 28314.62002494, 25591.58225069, 28519.36065646,\n",
              "       32942.62694233,  6397.27347698,  6266.12956153,  6479.11354484,\n",
              "        9205.23292845, 11345.54936305, 10019.85146243, 10270.64607194,\n",
              "       10536.8300427 , 11507.8109795 , 11507.8109795 ,  6139.19730687,\n",
              "        6371.69302241,  6271.84345939,  6361.75004831,  6733.71146817,\n",
              "        6419.50051634,  6750.43397294,  6507.28767519,  6787.87175011,\n",
              "        6666.30764785,  9569.25971195,  9437.90468154, 19173.94784655,\n",
              "       21529.33562439, 16722.5580635 , 16186.50234707, 17075.82069986,\n",
              "       16944.07572087, 15935.28262231, 17789.66821094, 16288.39229847,\n",
              "       18184.44736998, 16255.1255718 , 18184.44736998, 18417.1514084 ,\n",
              "        6392.29483444,  9126.45252585,  6290.96732155,  6363.46853521,\n",
              "        7404.94812253, 11809.45362165, 14403.56664554, 12966.77715148,\n",
              "       13185.42449538, 13255.3930377 , 13547.60045709, 18153.51794592,\n",
              "       18331.7568513 ,  6816.90035459,  8002.91998921,  8750.76798579,\n",
              "        7921.68403706,  8407.49707961,  9639.54894266, 10124.92033543,\n",
              "       11724.11900671,  9024.58761643, 10293.77950995, 10006.52217071,\n",
              "       13041.38141924,  6217.40352355,  6353.10333527,  6264.77030063,\n",
              "        7098.74107552,  7078.46396665,  9288.96891988,  7043.37968791,\n",
              "        7156.88721165,  9112.02459725,  7548.13266015,  6964.74130219,\n",
              "        7189.57409515,  7272.36020695,  7403.54935941,  7558.28448653,\n",
              "       10772.89695849, 10917.32951736, 11883.17648366, 11848.07519258,\n",
              "       11979.44010537, 13071.03126417, 13360.35310912, 15393.82297694,\n",
              "        9593.26645639, 10073.00645086, 10535.94879175, 10535.94879175,\n",
              "       10816.9869726 , 16330.76479053, 16749.89891807, 18156.09463803,\n",
              "        7030.04096703,  8544.19184387,  7035.67633634,  8560.04095675,\n",
              "        8886.19612248,  7568.56461119,  9745.22784979,  9068.73731416,\n",
              "       15631.86307579, 16518.49065247, 15802.67019318, 16574.9603117 ,\n",
              "       20042.34238921, 20670.4025123 , 15927.82710451, 18281.39915954,\n",
              "       19221.85985963, 19197.80752401, 18021.00694686])"
            ]
          },
          "metadata": {},
          "execution_count": 30
        }
      ]
    },
    {
      "cell_type": "markdown",
      "source": [
        "**Metricas de evaluación de modelos predictivos** /(Promedio de los errores al cuadrado (MSE))\n",
        "\n",
        "*MSE = ( SUMA ( Yhat - y ) ^ 2 ) / n_datos*\n",
        "\n",
        "R^2 o Coeficiente deterministico: es que tan cerca estan los datos predecidos contra los datos reales. Utiliza el porcentaje de variación de los datos. Si esta cerca de 1 significa que el modelo es un buen predictor de los datos. Si es negativo es que esta sobreentrenado.\n",
        "\n",
        "R^2 = ( 1 - (MSE regresión lineal/ MSE promedio de los datos ) )"
      ],
      "metadata": {
        "id": "m4qArmtDwC_q"
      }
    },
    {
      "cell_type": "code",
      "source": [
        "from sklearn.metrics import mean_squared_error\n",
        "\n",
        "mean_squared_error(df[\"price\"],yhat)"
      ],
      "metadata": {
        "colab": {
          "base_uri": "https://localhost:8080/"
        },
        "id": "3Qv6AJO_wL0W",
        "outputId": "3ccc4c3b-bbfc-4354-ec18-2af85cded5a9"
      },
      "execution_count": 13,
      "outputs": [
        {
          "output_type": "execute_result",
          "data": {
            "text/plain": [
              "4332321.986099675"
            ]
          },
          "metadata": {},
          "execution_count": 13
        }
      ]
    },
    {
      "cell_type": "code",
      "source": [
        "# R^2\n",
        "from sklearn.metrics import r2_score\n",
        "lm.score(X,Y)\n",
        "r_squared = r2_score(Y, p(X))\n",
        "print('The R-square value is: ', r_squared)"
      ],
      "metadata": {
        "colab": {
          "base_uri": "https://localhost:8080/"
        },
        "id": "qnVZ9K-dwQP2",
        "outputId": "41887982-3a7a-42bd-b73b-589ac0fb0a2e"
      },
      "execution_count": 14,
      "outputs": [
        {
          "output_type": "stream",
          "name": "stdout",
          "text": [
            "The R-square value is:  0.6628770167074505\n"
          ]
        }
      ]
    },
    {
      "cell_type": "markdown",
      "source": [
        "**Toma de desiciones**\n",
        "\n",
        "Se revisan los valores predecidos tengan sentido contra los datos obtenidos.\n",
        "\n",
        "Generar predicciones y revisar contra datos reales.\n",
        "Genera vizualizaciones para ver el modelo contra datos reales.\n",
        "\n",
        "Genera graficos de Residuales, distribución y de regressión para visualizar el comportamiento de los datos y sus predicciones.\n",
        "Genera metricas de evaluación para estar seguro que tus modelos son correctos.\n",
        "\n",
        "**MSE nos dice la dispersión de los datos y la diferencia contra los datos reales. **Entre mayor es el MSE nuestro modelo se aleja de predecir la realidad.\n",
        "\n",
        "Los modelos de regression lineal simples tienden a tener mayor MSE a los de regresion multiple.\n",
        "Los modelos polinomiales tienen de igual forma a tener un MSE menor a la regresión simple.\n",
        "**R^2 nos dice lo cerca que estan de nuestras prediciones tambien. Si este se acerca a 1 significa que es mejor para predecir los datos.**\n",
        "\n",
        "Se recomienda que por lo menos el R^2 sea de 0.1 para definir como aceptable aunque esto depende de lo que se observa."
      ],
      "metadata": {
        "id": "Vcwm6b8DwUkm"
      }
    },
    {
      "cell_type": "code",
      "source": [
        "# Predictions\n",
        "import numpy as np\n",
        "new_imput=np.arange(1,101,1).reshape(-1,1)\n",
        "lm2=LinearRegression()\n",
        "\n",
        "lm2.fit(df[[\"highway-mpg\"]],df[[\"price\"]])\n",
        "yhatt=lm2.predict(new_imput)\n",
        "yhatt"
      ],
      "metadata": {
        "colab": {
          "base_uri": "https://localhost:8080/"
        },
        "id": "igZn24wiwecX",
        "outputId": "1588a5e3-87f1-492d-c15d-03f9200f33d2"
      },
      "execution_count": 15,
      "outputs": [
        {
          "output_type": "stream",
          "name": "stderr",
          "text": [
            "/usr/local/lib/python3.7/dist-packages/sklearn/base.py:451: UserWarning: X does not have valid feature names, but LinearRegression was fitted with feature names\n",
            "  \"X does not have valid feature names, but\"\n"
          ]
        },
        {
          "output_type": "execute_result",
          "data": {
            "text/plain": [
              "array([[ 31813.02805028],\n",
              "       [ 31157.74669455],\n",
              "       [ 30502.46533883],\n",
              "       [ 29847.1839831 ],\n",
              "       [ 29191.90262738],\n",
              "       [ 28536.62127165],\n",
              "       [ 27881.33991593],\n",
              "       [ 27226.0585602 ],\n",
              "       [ 26570.77720448],\n",
              "       [ 25915.49584875],\n",
              "       [ 25260.21449302],\n",
              "       [ 24604.9331373 ],\n",
              "       [ 23949.65178157],\n",
              "       [ 23294.37042585],\n",
              "       [ 22639.08907012],\n",
              "       [ 21983.8077144 ],\n",
              "       [ 21328.52635867],\n",
              "       [ 20673.24500295],\n",
              "       [ 20017.96364722],\n",
              "       [ 19362.6822915 ],\n",
              "       [ 18707.40093577],\n",
              "       [ 18052.11958005],\n",
              "       [ 17396.83822432],\n",
              "       [ 16741.5568686 ],\n",
              "       [ 16086.27551287],\n",
              "       [ 15430.99415715],\n",
              "       [ 14775.71280142],\n",
              "       [ 14120.4314457 ],\n",
              "       [ 13465.15008997],\n",
              "       [ 12809.86873425],\n",
              "       [ 12154.58737852],\n",
              "       [ 11499.3060228 ],\n",
              "       [ 10844.02466707],\n",
              "       [ 10188.74331134],\n",
              "       [  9533.46195562],\n",
              "       [  8878.18059989],\n",
              "       [  8222.89924417],\n",
              "       [  7567.61788844],\n",
              "       [  6912.33653272],\n",
              "       [  6257.05517699],\n",
              "       [  5601.77382127],\n",
              "       [  4946.49246554],\n",
              "       [  4291.21110982],\n",
              "       [  3635.92975409],\n",
              "       [  2980.64839837],\n",
              "       [  2325.36704264],\n",
              "       [  1670.08568692],\n",
              "       [  1014.80433119],\n",
              "       [   359.52297547],\n",
              "       [  -295.75838026],\n",
              "       [  -951.03973598],\n",
              "       [ -1606.32109171],\n",
              "       [ -2261.60244743],\n",
              "       [ -2916.88380316],\n",
              "       [ -3572.16515888],\n",
              "       [ -4227.44651461],\n",
              "       [ -4882.72787034],\n",
              "       [ -5538.00922606],\n",
              "       [ -6193.29058179],\n",
              "       [ -6848.57193751],\n",
              "       [ -7503.85329324],\n",
              "       [ -8159.13464896],\n",
              "       [ -8814.41600469],\n",
              "       [ -9469.69736041],\n",
              "       [-10124.97871614],\n",
              "       [-10780.26007186],\n",
              "       [-11435.54142759],\n",
              "       [-12090.82278331],\n",
              "       [-12746.10413904],\n",
              "       [-13401.38549476],\n",
              "       [-14056.66685049],\n",
              "       [-14711.94820621],\n",
              "       [-15367.22956194],\n",
              "       [-16022.51091766],\n",
              "       [-16677.79227339],\n",
              "       [-17333.07362911],\n",
              "       [-17988.35498484],\n",
              "       [-18643.63634056],\n",
              "       [-19298.91769629],\n",
              "       [-19954.19905202],\n",
              "       [-20609.48040774],\n",
              "       [-21264.76176347],\n",
              "       [-21920.04311919],\n",
              "       [-22575.32447492],\n",
              "       [-23230.60583064],\n",
              "       [-23885.88718637],\n",
              "       [-24541.16854209],\n",
              "       [-25196.44989782],\n",
              "       [-25851.73125354],\n",
              "       [-26507.01260927],\n",
              "       [-27162.29396499],\n",
              "       [-27817.57532072],\n",
              "       [-28472.85667644],\n",
              "       [-29128.13803217],\n",
              "       [-29783.41938789],\n",
              "       [-30438.70074362],\n",
              "       [-31093.98209934],\n",
              "       [-31749.26345507],\n",
              "       [-32404.54481079],\n",
              "       [-33059.82616652]])"
            ]
          },
          "metadata": {},
          "execution_count": 15
        }
      ]
    },
    {
      "cell_type": "code",
      "source": [
        "# Function to plot polynomial data\n",
        "import matplotlib.pyplot as plt\n",
        "def PlotPolly(model, independent_variable, dependent_variabble, Name):\n",
        "    x_new = np.linspace(15, 55, 100)\n",
        "    y_new = model(x_new)\n",
        "\n",
        "    plt.plot(independent_variable, dependent_variabble, '.', x_new, y_new, '-')\n",
        "    plt.title('Polynomial Fit with Matplotlib for Price ~ Length')\n",
        "    ax = plt.gca()\n",
        "    ax.set_facecolor((0.898, 0.898, 0.898))\n",
        "    fig = plt.gcf()\n",
        "    plt.xlabel(Name)\n",
        "    plt.ylabel('Price of Cars')\n",
        "\n",
        "    plt.show()\n",
        "    plt.close()"
      ],
      "metadata": {
        "id": "GrM5ycNNwi29"
      },
      "execution_count": 16,
      "outputs": []
    },
    {
      "cell_type": "code",
      "source": [
        "from sklearn.preprocessing import PolynomialFeatures"
      ],
      "metadata": {
        "id": "rNPzLL790nIH"
      },
      "execution_count": 17,
      "outputs": []
    },
    {
      "cell_type": "code",
      "source": [
        "pr=PolynomialFeatures(degree=2)\n",
        "pr"
      ],
      "metadata": {
        "colab": {
          "base_uri": "https://localhost:8080/"
        },
        "id": "l78k2kdc0n_H",
        "outputId": "1f7d45cf-94ab-4bde-bf64-7874a381722d"
      },
      "execution_count": 18,
      "outputs": [
        {
          "output_type": "execute_result",
          "data": {
            "text/plain": [
              "PolynomialFeatures()"
            ]
          },
          "metadata": {},
          "execution_count": 18
        }
      ]
    },
    {
      "cell_type": "code",
      "source": [
        "Z_pr=pr.fit_transform(Z)"
      ],
      "metadata": {
        "id": "yje-6VdK0qln"
      },
      "execution_count": 19,
      "outputs": []
    },
    {
      "cell_type": "code",
      "source": [
        "Z.shape"
      ],
      "metadata": {
        "colab": {
          "base_uri": "https://localhost:8080/"
        },
        "id": "oOcYQ5Tl0sdm",
        "outputId": "1962c5c8-62de-4ca7-cef8-14c3264916a0"
      },
      "execution_count": 20,
      "outputs": [
        {
          "output_type": "execute_result",
          "data": {
            "text/plain": [
              "(159, 4)"
            ]
          },
          "metadata": {},
          "execution_count": 20
        }
      ]
    },
    {
      "cell_type": "code",
      "source": [
        "Z_pr.shape"
      ],
      "metadata": {
        "colab": {
          "base_uri": "https://localhost:8080/"
        },
        "id": "5mc9YwH70vSn",
        "outputId": "fe7a3663-8db1-4ba1-ed7b-26ef111112b2"
      },
      "execution_count": 21,
      "outputs": [
        {
          "output_type": "execute_result",
          "data": {
            "text/plain": [
              "(159, 15)"
            ]
          },
          "metadata": {},
          "execution_count": 21
        }
      ]
    },
    {
      "cell_type": "code",
      "source": [
        "#Pipeline\n",
        "#Data Pipelines simplify the steps of processing the data. We use the module Pipeline to create a pipeline. We also use StandardScaler as a step in our pipeline.\n",
        "from sklearn.pipeline import Pipeline\n",
        "from sklearn.preprocessing import StandardScaler"
      ],
      "metadata": {
        "id": "eqUB_i290xgB"
      },
      "execution_count": 22,
      "outputs": []
    },
    {
      "cell_type": "code",
      "source": [
        "Input=[('scale',StandardScaler()), ('polynomial', PolynomialFeatures(include_bias=False)), ('model',LinearRegression())]"
      ],
      "metadata": {
        "id": "YHW8YMy701Hm"
      },
      "execution_count": 23,
      "outputs": []
    },
    {
      "cell_type": "code",
      "source": [
        "pipe=Pipeline(Input)\n",
        "pipe"
      ],
      "metadata": {
        "colab": {
          "base_uri": "https://localhost:8080/"
        },
        "id": "hDRbqmU705tH",
        "outputId": "adffdcb3-18f0-42e6-c646-1a6cb9cb2ebc"
      },
      "execution_count": 24,
      "outputs": [
        {
          "output_type": "execute_result",
          "data": {
            "text/plain": [
              "Pipeline(steps=[('scale', StandardScaler()),\n",
              "                ('polynomial', PolynomialFeatures(include_bias=False)),\n",
              "                ('model', LinearRegression())])"
            ]
          },
          "metadata": {},
          "execution_count": 24
        }
      ]
    },
    {
      "cell_type": "code",
      "source": [
        "Z = Z.astype(float)\n",
        "pipe.fit(Z,y)"
      ],
      "metadata": {
        "colab": {
          "base_uri": "https://localhost:8080/"
        },
        "id": "8EtAu-qD07CZ",
        "outputId": "79302672-3062-4b72-de72-67bc07fc9b53"
      },
      "execution_count": 31,
      "outputs": [
        {
          "output_type": "execute_result",
          "data": {
            "text/plain": [
              "Pipeline(steps=[('scale', StandardScaler()),\n",
              "                ('polynomial', PolynomialFeatures()),\n",
              "                ('model', LinearRegression())])"
            ]
          },
          "metadata": {},
          "execution_count": 31
        }
      ]
    },
    {
      "cell_type": "code",
      "source": [
        "# Here we use a polynomial of the 3rd order (cubic) \n",
        "f = np.polyfit(x, y, 3)\n",
        "p = np.poly1d(f)\n",
        "print(p)"
      ],
      "metadata": {
        "colab": {
          "base_uri": "https://localhost:8080/"
        },
        "id": "kvolwEML4hc7",
        "outputId": "0f8547d4-0a8c-4d17-ce2f-5d543ed3f2aa"
      },
      "execution_count": 32,
      "outputs": [
        {
          "output_type": "stream",
          "name": "stdout",
          "text": [
            "         3         2\n",
            "-0.5756 x + 95.52 x - 5071 x + 9.325e+04\n"
          ]
        }
      ]
    },
    {
      "cell_type": "code",
      "source": [
        "PlotPolly(p, x, y, 'highway-mpg')"
      ],
      "metadata": {
        "colab": {
          "base_uri": "https://localhost:8080/",
          "height": 295
        },
        "id": "EP2xfBwO4jRY",
        "outputId": "127895aa-f59f-4c1a-93eb-74f565d21f96"
      },
      "execution_count": 33,
      "outputs": [
        {
          "output_type": "display_data",
          "data": {
            "text/plain": [
              "<Figure size 432x288 with 1 Axes>"
            ],
            "image/png": "[encoded data removed]"
          },
          "metadata": {
            "needs_background": "light"
          }
        }
      ]
    },
    {
      "cell_type": "code",
      "source": [
        "np.polyfit(x, y, 3)"
      ],
      "metadata": {
        "colab": {
          "base_uri": "https://localhost:8080/"
        },
        "id": "7i4FIUuu4l7J",
        "outputId": "ed0234a7-b4ea-4ca3-8af1-c6fff2ecb4f0"
      },
      "execution_count": 34,
      "outputs": [
        {
          "output_type": "execute_result",
          "data": {
            "text/plain": [
              "array([-5.75607044e-01,  9.55198266e+01, -5.07079144e+03,  9.32474598e+04])"
            ]
          },
          "metadata": {},
          "execution_count": 34
        }
      ]
    },
    {
      "cell_type": "markdown",
      "source": [
        "#### ***Comparando estos tres modelos, concluimos que el modelo MLR es el mejor modelo para poder predecir el precio a partir de nuestro conjunto de datos. Este resultado tiene sentido ya que tenemos 27 variables en total y sabemos que más de una de esas variables son predictores potenciales del precio final del automóvil.***"
      ],
      "metadata": {
        "id": "BEA8We14St9P"
      }
    }
  ]
}
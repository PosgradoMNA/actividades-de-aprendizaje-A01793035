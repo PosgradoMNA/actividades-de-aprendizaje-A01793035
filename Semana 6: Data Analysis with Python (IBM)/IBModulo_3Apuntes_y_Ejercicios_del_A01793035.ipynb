{
  "nbformat": 4,
  "nbformat_minor": 0,
  "metadata": {
    "colab": {
      "provenance": []
    },
    "kernelspec": {
      "name": "python3",
      "display_name": "Python 3"
    },
    "language_info": {
      "name": "python"
    }
  },
  "cells": [
    {
      "cell_type": "markdown",
      "source": [
        "**Semana 6 - MODULO 3: Data Analysis with Python (IBM)**\n",
        "\n",
        "Nombre: *Diego Alonso Luna Ramirez*\n",
        "\n",
        "Matricula: A01793035"
      ],
      "metadata": {
        "id": "dREzyCJZjLF0"
      }
    },
    {
      "cell_type": "markdown",
      "source": [
        "![Module 3 - Data Analysis.png](data:image/png;base64,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)"
      ],
      "metadata": {
        "id": "mgQ6JliAkJl4"
      }
    },
    {
      "cell_type": "code",
      "source": [
        "import requests\n",
        "import os\n",
        "import pandas as pd\n",
        "import numpy as np\n",
        "import seaborn as sns \n",
        "url='https://archive.ics.uci.edu/ml/machine-learning-databases/autos/imports-85.data'\n",
        "path=os.path.join(os.getcwd(),'cars.csv')\n",
        "\n",
        "df=pd.read_csv(url, header= None)\n",
        "headers=['symboling','normalized-losses','make','fuel-type','aspiration','num-of-doors','body-style','drive-wheels','engine-location','wheel-base','length','width','height','curb-weight','engine-type','num-of-cylinders','engine-size','fuel-system','bore','stroke','compression-ratio','horsepower','peak-rpm','city-mpg','highway-mpg','price']\n",
        "df.columns = headers\n",
        "df.to_csv(path)"
      ],
      "metadata": {
        "id": "cCDHdeO_kRlg"
      },
      "execution_count": 1,
      "outputs": []
    },
    {
      "cell_type": "code",
      "source": [
        "# Read online\n",
        "url='https://archive.ics.uci.edu/ml/machine-learning-databases/autos/imports-85.data'\n",
        "df=pd.read_csv(url, header= None)\n",
        "headers=['symboling','normalized-losses','make','fuel-type','aspiration','num-of-doors','body-style','drive-wheels','engine-location','wheel-base','length','width','height','curb-weight','engine-type','num-of-cylinders','engine-size','fuel-system','bore','stroke','compression-ratio','horsepower','peak-rpm','city-mpg','highway-mpg','price']\n",
        "df.columns = headers\n",
        "df=df.replace('?',np.NaN)\n",
        "df[\"price\"] = df[\"price\"].astype(\"float\")\n",
        "df[\"normalized-losses\"] = df[\"normalized-losses\"].astype(\"float\")\n",
        "df[\"make\"] = df[\"make\"].astype(\"string\")\n",
        "df[\"fuel-type\"] = df[\"fuel-type\"].astype(\"string\")\n",
        "df[\"aspiration\"] = df[\"aspiration\"].astype(\"string\")\n",
        "df[\"num-of-doors\"] = df[\"num-of-doors\"].astype(\"string\")\n",
        "df[\"body-style\"] = df[\"body-style\"].astype(\"string\")\n",
        "df[\"drive-wheels\"] = df[\"drive-wheels\"].astype(\"string\")\n",
        "df[\"engine-location\"] = df[\"engine-location\"].astype(\"string\")\n",
        "df[\"engine-type\"] = df[\"engine-type\"].astype(\"string\")\n",
        "df[\"fuel-system\"] = df[\"fuel-system\"].astype(\"string\")\n",
        "df[\"num-of-cylinders\"] = df[\"num-of-cylinders\"].astype(\"string\")\n",
        "df[\"bore\"] = df[\"bore\"].astype(\"float\")\n",
        "df[\"stroke\"] = df[\"stroke\"].astype(\"float\")\n",
        "df[\"horsepower\"] = df[\"horsepower\"].astype(\"float\")\n",
        "df[\"peak-rpm\"] = df[\"peak-rpm\"].astype(\"float\")\n",
        "df.dropna(inplace=True)\n",
        "df2=df.copy()"
      ],
      "metadata": {
        "id": "FRA2Y59XpaPG"
      },
      "execution_count": 2,
      "outputs": []
    },
    {
      "cell_type": "markdown",
      "source": [
        "Caracteristicas de los datos.\n",
        "Obtener un mayor conocimiento de los datos.\n",
        "Descubrir relaciones entre variables.\n",
        "Estadistica descriptiva (analisis en varianza) Correlación."
      ],
      "metadata": {
        "id": "hiao8FgvkZRA"
      }
    },
    {
      "cell_type": "code",
      "source": [
        "# Descriptive Statistics\n",
        "print(df.describe()) # Print the stats of all data (numeric) use all for all types.\n",
        "\n",
        "# Summarize categorical data\n",
        "drive_wheels_counts = df[\"drive-wheels\"].value_counts() \n",
        "drive_wheels_counts.rename({\"drive-wheels\":\"value_counts\"},inplace=True, axis=0)\n",
        "drive_wheels_counts.index.name=\"drive-wheels\"\n",
        "print(drive_wheels_counts)\n"
      ],
      "metadata": {
        "colab": {
          "base_uri": "https://localhost:8080/"
        },
        "id": "ImvvpAFRklsI",
        "outputId": "a87f674a-0eaf-4c49-89ed-5a83c3cb82d0"
      },
      "execution_count": 3,
      "outputs": [
        {
          "output_type": "stream",
          "name": "stdout",
          "text": [
            "        symboling  normalized-losses  wheel-base      length       width  \\\n",
            "count  159.000000         159.000000  159.000000  159.000000  159.000000   \n",
            "mean     0.735849         121.132075   98.264151  172.413836   65.607547   \n",
            "std      1.193086          35.651285    5.167416   11.523177    1.947883   \n",
            "min     -2.000000          65.000000   86.600000  141.100000   60.300000   \n",
            "25%      0.000000          94.000000   94.500000  165.650000   64.000000   \n",
            "50%      1.000000         113.000000   96.900000  172.400000   65.400000   \n",
            "75%      2.000000         148.000000  100.800000  177.800000   66.500000   \n",
            "max      3.000000         256.000000  115.600000  202.600000   71.700000   \n",
            "\n",
            "           height  curb-weight  engine-size        bore      stroke  \\\n",
            "count  159.000000   159.000000   159.000000  159.000000  159.000000   \n",
            "mean    53.899371  2461.138365   119.226415    3.300126    3.236352   \n",
            "std      2.268761   481.941321    30.460791    0.267336    0.294888   \n",
            "min     49.400000  1488.000000    61.000000    2.540000    2.070000   \n",
            "25%     52.250000  2065.500000    97.000000    3.050000    3.105000   \n",
            "50%     54.100000  2340.000000   110.000000    3.270000    3.270000   \n",
            "75%     55.500000  2809.500000   135.000000    3.560000    3.410000   \n",
            "max     59.800000  4066.000000   258.000000    3.940000    4.170000   \n",
            "\n",
            "       compression-ratio  horsepower     peak-rpm    city-mpg  highway-mpg  \\\n",
            "count         159.000000  159.000000   159.000000  159.000000   159.000000   \n",
            "mean           10.161132   95.836478  5113.836478   26.522013    32.081761   \n",
            "std             3.889475   30.718583   465.754864    6.097142     6.459189   \n",
            "min             7.000000   48.000000  4150.000000   15.000000    18.000000   \n",
            "25%             8.700000   69.000000  4800.000000   23.000000    28.000000   \n",
            "50%             9.000000   88.000000  5200.000000   26.000000    32.000000   \n",
            "75%             9.400000  114.000000  5500.000000   31.000000    37.000000   \n",
            "max            23.000000  200.000000  6600.000000   49.000000    54.000000   \n",
            "\n",
            "              price  \n",
            "count    159.000000  \n",
            "mean   11445.729560  \n",
            "std     5877.856195  \n",
            "min     5118.000000  \n",
            "25%     7372.000000  \n",
            "50%     9233.000000  \n",
            "75%    14719.500000  \n",
            "max    35056.000000  \n",
            "drive-wheels\n",
            "fwd    105\n",
            "rwd     46\n",
            "4wd      8\n",
            "Name: drive-wheels, dtype: Int64\n"
          ]
        }
      ]
    },
    {
      "cell_type": "code",
      "source": [
        "sns.boxplot(x=\"drive-wheels\", y=\"price\",data=df)"
      ],
      "metadata": {
        "colab": {
          "base_uri": "https://localhost:8080/",
          "height": 296
        },
        "id": "-DltcK4yqTb2",
        "outputId": "60470ed1-a735-4572-c0e3-3531897fc4de"
      },
      "execution_count": 4,
      "outputs": [
        {
          "output_type": "execute_result",
          "data": {
            "text/plain": [
              "<matplotlib.axes._subplots.AxesSubplot at 0x7fb5a4f28910>"
            ]
          },
          "metadata": {},
          "execution_count": 4
        },
        {
          "output_type": "display_data",
          "data": {
            "text/plain": [
              "<Figure size 432x288 with 1 Axes>"
            ],
            "image/png": "[encoded data removed]"
          },
          "metadata": {
            "needs_background": "light"
          }
        }
      ]
    },
    {
      "cell_type": "markdown",
      "source": [
        "*Aquí vemos que la distribución del precio entre las diferentes categorías de ruedas motrices es diferente. Como tal, las ruedas motrices podrían potencialmente predecir el precio.*"
      ],
      "metadata": {
        "id": "u4j-9I7UrHML"
      }
    },
    {
      "cell_type": "markdown",
      "source": [
        "***Estas son variables que describen una 'característica' de una unidad de datos y se seleccionan de un pequeño grupo de categorías.*** Las variables categóricas pueden tener el tipo \"objeto\" o \"int64\". Una buena manera de visualizar variables categóricas es mediante diagramas de caja."
      ],
      "metadata": {
        "id": "Uka5U32krWEi"
      }
    },
    {
      "cell_type": "markdown",
      "source": [
        "**Relación lineal positiva**\n",
        "\n",
        "Diagrama de dispersión de \"tamaño del motor\" y \"precio\"."
      ],
      "metadata": {
        "id": "To6ZTSHDmTnd"
      }
    },
    {
      "cell_type": "markdown",
      "source": [
        "A medida que aumenta el tamaño del motor, aumenta el precio: esto indica una correlación directa positiva entre estas dos variables. El tamaño del motor parece un indicador bastante bueno del precio, ya que la línea de regresión es casi una línea diagonal perfecta.\n",
        "\n",
        "Podemos examinar la correlación entre 'tamaño del motor' y 'precio' y ver que es aproximadamente 0,87."
      ],
      "metadata": {
        "id": "rlJZ9VN2mcNO"
      }
    },
    {
      "cell_type": "code",
      "source": [
        "df[[\"engine-size\", \"price\"]].corr()"
      ],
      "metadata": {
        "colab": {
          "base_uri": "https://localhost:8080/",
          "height": 112
        },
        "id": "3E1_AetemdNW",
        "outputId": "4a3519c9-712d-4c1a-b0f3-2ff2a859e07d"
      },
      "execution_count": 5,
      "outputs": [
        {
          "output_type": "execute_result",
          "data": {
            "text/plain": [
              "             engine-size     price\n",
              "engine-size     1.000000  0.841496\n",
              "price           0.841496  1.000000"
            ],
            "text/html": [
              "\n",
              "  <div id=\"df-6487182e-1de9-4470-9a29-f8a2afc790a9\">\n",
              "    <div class=\"colab-df-container\">\n",
              "      <div>\n",
              "<style scoped>\n",
              "    .dataframe tbody tr th:only-of-type {\n",
              "        vertical-align: middle;\n",
              "    }\n",
              "\n",
              "    .dataframe tbody tr th {\n",
              "        vertical-align: top;\n",
              "    }\n",
              "\n",
              "    .dataframe thead th {\n",
              "        text-align: right;\n",
              "    }\n",
              "</style>\n",
              "<table border=\"1\" class=\"dataframe\">\n",
              "  <thead>\n",
              "    <tr style=\"text-align: right;\">\n",
              "      <th></th>\n",
              "      <th>engine-size</th>\n",
              "      <th>price</th>\n",
              "    </tr>\n",
              "  </thead>\n",
              "  <tbody>\n",
              "    <tr>\n",
              "      <th>engine-size</th>\n",
              "      <td>1.000000</td>\n",
              "      <td>0.841496</td>\n",
              "    </tr>\n",
              "    <tr>\n",
              "      <th>price</th>\n",
              "      <td>0.841496</td>\n",
              "      <td>1.000000</td>\n",
              "    </tr>\n",
              "  </tbody>\n",
              "</table>\n",
              "</div>\n",
              "      <button class=\"colab-df-convert\" onclick=\"convertToInteractive('df-6487182e-1de9-4470-9a29-f8a2afc790a9')\"\n",
              "              title=\"Convert this dataframe to an interactive table.\"\n",
              "              style=\"display:none;\">\n",
              "        \n",
              "  <svg xmlns=\"http://www.w3.org/2000/svg\" height=\"24px\"viewBox=\"0 0 24 24\"\n",
              "       width=\"24px\">\n",
              "    <path d=\"M0 0h24v24H0V0z\" fill=\"none\"/>\n",
              "    <path d=\"M18.56 5.44l.94 2.06.94-2.06 2.06-.94-2.06-.94-.94-2.06-.94 2.06-2.06.94zm-11 1L8.5 8.5l.94-2.06 2.06-.94-2.06-.94L8.5 2.5l-.94 2.06-2.06.94zm10 10l.94 2.06.94-2.06 2.06-.94-2.06-.94-.94-2.06-.94 2.06-2.06.94z\"/><path d=\"M17.41 7.96l-1.37-1.37c-.4-.4-.92-.59-1.43-.59-.52 0-1.04.2-1.43.59L10.3 9.45l-7.72 7.72c-.78.78-.78 2.05 0 2.83L4 21.41c.39.39.9.59 1.41.59.51 0 1.02-.2 1.41-.59l7.78-7.78 2.81-2.81c.8-.78.8-2.07 0-2.86zM5.41 20L4 18.59l7.72-7.72 1.47 1.35L5.41 20z\"/>\n",
              "  </svg>\n",
              "      </button>\n",
              "      \n",
              "  <style>\n",
              "    .colab-df-container {\n",
              "      display:flex;\n",
              "      flex-wrap:wrap;\n",
              "      gap: 12px;\n",
              "    }\n",
              "\n",
              "    .colab-df-convert {\n",
              "      background-color: #E8F0FE;\n",
              "      border: none;\n",
              "      border-radius: 50%;\n",
              "      cursor: pointer;\n",
              "      display: none;\n",
              "      fill: #1967D2;\n",
              "      height: 32px;\n",
              "      padding: 0 0 0 0;\n",
              "      width: 32px;\n",
              "    }\n",
              "\n",
              "    .colab-df-convert:hover {\n",
              "      background-color: #E2EBFA;\n",
              "      box-shadow: 0px 1px 2px rgba(60, 64, 67, 0.3), 0px 1px 3px 1px rgba(60, 64, 67, 0.15);\n",
              "      fill: #174EA6;\n",
              "    }\n",
              "\n",
              "    [theme=dark] .colab-df-convert {\n",
              "      background-color: #3B4455;\n",
              "      fill: #D2E3FC;\n",
              "    }\n",
              "\n",
              "    [theme=dark] .colab-df-convert:hover {\n",
              "      background-color: #434B5C;\n",
              "      box-shadow: 0px 1px 3px 1px rgba(0, 0, 0, 0.15);\n",
              "      filter: drop-shadow(0px 1px 2px rgba(0, 0, 0, 0.3));\n",
              "      fill: #FFFFFF;\n",
              "    }\n",
              "  </style>\n",
              "\n",
              "      <script>\n",
              "        const buttonEl =\n",
              "          document.querySelector('#df-6487182e-1de9-4470-9a29-f8a2afc790a9 button.colab-df-convert');\n",
              "        buttonEl.style.display =\n",
              "          google.colab.kernel.accessAllowed ? 'block' : 'none';\n",
              "\n",
              "        async function convertToInteractive(key) {\n",
              "          const element = document.querySelector('#df-6487182e-1de9-4470-9a29-f8a2afc790a9');\n",
              "          const dataTable =\n",
              "            await google.colab.kernel.invokeFunction('convertToInteractive',\n",
              "                                                     [key], {});\n",
              "          if (!dataTable) return;\n",
              "\n",
              "          const docLinkHtml = 'Like what you see? Visit the ' +\n",
              "            '<a target=\"_blank\" href=https://colab.research.google.com/notebooks/data_table.ipynb>data table notebook</a>'\n",
              "            + ' to learn more about interactive tables.';\n",
              "          element.innerHTML = '';\n",
              "          dataTable['output_type'] = 'display_data';\n",
              "          await google.colab.output.renderOutput(dataTable, element);\n",
              "          const docLink = document.createElement('div');\n",
              "          docLink.innerHTML = docLinkHtml;\n",
              "          element.appendChild(docLink);\n",
              "        }\n",
              "      </script>\n",
              "    </div>\n",
              "  </div>\n",
              "  "
            ]
          },
          "metadata": {},
          "execution_count": 5
        }
      ]
    },
    {
      "cell_type": "markdown",
      "source": [
        "El mpg en carretera es una variable predictiva potencial del precio. \n",
        "\n",
        "Diagrama de dispersión de \"mpg en carretera\" y \"precio\""
      ],
      "metadata": {
        "id": "bbsLA1bNmha9"
      }
    },
    {
      "cell_type": "code",
      "source": [
        "sns.regplot(x=\"highway-mpg\", y=\"price\", data=df)"
      ],
      "metadata": {
        "colab": {
          "base_uri": "https://localhost:8080/",
          "height": 296
        },
        "id": "jb0aGNKdml93",
        "outputId": "9de5d38e-edee-4335-edfb-73065ea52079"
      },
      "execution_count": 6,
      "outputs": [
        {
          "output_type": "execute_result",
          "data": {
            "text/plain": [
              "<matplotlib.axes._subplots.AxesSubplot at 0x7fb5a4dd15d0>"
            ]
          },
          "metadata": {},
          "execution_count": 6
        },
        {
          "output_type": "display_data",
          "data": {
            "text/plain": [
              "<Figure size 432x288 with 1 Axes>"
            ],
            "image/png": "[encoded data removed]"
          },
          "metadata": {
            "needs_background": "light"
          }
        }
      ]
    },
    {
      "cell_type": "markdown",
      "source": [
        "A medida que aumenta el mpg en carretera, el precio baja: esto indica una relación inversa/negativa entre estas dos variables. El mpg en carretera podría ser potencialmente un predictor del precio.\n",
        "\n",
        "Podemos examinar la correlación entre 'mpg en carretera' y 'precio' y ver que es aproximadamente -0.704."
      ],
      "metadata": {
        "id": "lXgt1zO2ms_N"
      }
    },
    {
      "cell_type": "code",
      "source": [
        "df[['highway-mpg', 'price']].corr()"
      ],
      "metadata": {
        "colab": {
          "base_uri": "https://localhost:8080/",
          "height": 112
        },
        "id": "_xWeWb9Jmuke",
        "outputId": "73a6c621-02e1-44aa-ad2d-494056d05d66"
      },
      "execution_count": 7,
      "outputs": [
        {
          "output_type": "execute_result",
          "data": {
            "text/plain": [
              "             highway-mpg    price\n",
              "highway-mpg      1.00000 -0.72009\n",
              "price           -0.72009  1.00000"
            ],
            "text/html": [
              "\n",
              "  <div id=\"df-29de41e2-e5f7-4161-b9d4-6e94301b24c1\">\n",
              "    <div class=\"colab-df-container\">\n",
              "      <div>\n",
              "<style scoped>\n",
              "    .dataframe tbody tr th:only-of-type {\n",
              "        vertical-align: middle;\n",
              "    }\n",
              "\n",
              "    .dataframe tbody tr th {\n",
              "        vertical-align: top;\n",
              "    }\n",
              "\n",
              "    .dataframe thead th {\n",
              "        text-align: right;\n",
              "    }\n",
              "</style>\n",
              "<table border=\"1\" class=\"dataframe\">\n",
              "  <thead>\n",
              "    <tr style=\"text-align: right;\">\n",
              "      <th></th>\n",
              "      <th>highway-mpg</th>\n",
              "      <th>price</th>\n",
              "    </tr>\n",
              "  </thead>\n",
              "  <tbody>\n",
              "    <tr>\n",
              "      <th>highway-mpg</th>\n",
              "      <td>1.00000</td>\n",
              "      <td>-0.72009</td>\n",
              "    </tr>\n",
              "    <tr>\n",
              "      <th>price</th>\n",
              "      <td>-0.72009</td>\n",
              "      <td>1.00000</td>\n",
              "    </tr>\n",
              "  </tbody>\n",
              "</table>\n",
              "</div>\n",
              "      <button class=\"colab-df-convert\" onclick=\"convertToInteractive('df-29de41e2-e5f7-4161-b9d4-6e94301b24c1')\"\n",
              "              title=\"Convert this dataframe to an interactive table.\"\n",
              "              style=\"display:none;\">\n",
              "        \n",
              "  <svg xmlns=\"http://www.w3.org/2000/svg\" height=\"24px\"viewBox=\"0 0 24 24\"\n",
              "       width=\"24px\">\n",
              "    <path d=\"M0 0h24v24H0V0z\" fill=\"none\"/>\n",
              "    <path d=\"M18.56 5.44l.94 2.06.94-2.06 2.06-.94-2.06-.94-.94-2.06-.94 2.06-2.06.94zm-11 1L8.5 8.5l.94-2.06 2.06-.94-2.06-.94L8.5 2.5l-.94 2.06-2.06.94zm10 10l.94 2.06.94-2.06 2.06-.94-2.06-.94-.94-2.06-.94 2.06-2.06.94z\"/><path d=\"M17.41 7.96l-1.37-1.37c-.4-.4-.92-.59-1.43-.59-.52 0-1.04.2-1.43.59L10.3 9.45l-7.72 7.72c-.78.78-.78 2.05 0 2.83L4 21.41c.39.39.9.59 1.41.59.51 0 1.02-.2 1.41-.59l7.78-7.78 2.81-2.81c.8-.78.8-2.07 0-2.86zM5.41 20L4 18.59l7.72-7.72 1.47 1.35L5.41 20z\"/>\n",
              "  </svg>\n",
              "      </button>\n",
              "      \n",
              "  <style>\n",
              "    .colab-df-container {\n",
              "      display:flex;\n",
              "      flex-wrap:wrap;\n",
              "      gap: 12px;\n",
              "    }\n",
              "\n",
              "    .colab-df-convert {\n",
              "      background-color: #E8F0FE;\n",
              "      border: none;\n",
              "      border-radius: 50%;\n",
              "      cursor: pointer;\n",
              "      display: none;\n",
              "      fill: #1967D2;\n",
              "      height: 32px;\n",
              "      padding: 0 0 0 0;\n",
              "      width: 32px;\n",
              "    }\n",
              "\n",
              "    .colab-df-convert:hover {\n",
              "      background-color: #E2EBFA;\n",
              "      box-shadow: 0px 1px 2px rgba(60, 64, 67, 0.3), 0px 1px 3px 1px rgba(60, 64, 67, 0.15);\n",
              "      fill: #174EA6;\n",
              "    }\n",
              "\n",
              "    [theme=dark] .colab-df-convert {\n",
              "      background-color: #3B4455;\n",
              "      fill: #D2E3FC;\n",
              "    }\n",
              "\n",
              "    [theme=dark] .colab-df-convert:hover {\n",
              "      background-color: #434B5C;\n",
              "      box-shadow: 0px 1px 3px 1px rgba(0, 0, 0, 0.15);\n",
              "      filter: drop-shadow(0px 1px 2px rgba(0, 0, 0, 0.3));\n",
              "      fill: #FFFFFF;\n",
              "    }\n",
              "  </style>\n",
              "\n",
              "      <script>\n",
              "        const buttonEl =\n",
              "          document.querySelector('#df-29de41e2-e5f7-4161-b9d4-6e94301b24c1 button.colab-df-convert');\n",
              "        buttonEl.style.display =\n",
              "          google.colab.kernel.accessAllowed ? 'block' : 'none';\n",
              "\n",
              "        async function convertToInteractive(key) {\n",
              "          const element = document.querySelector('#df-29de41e2-e5f7-4161-b9d4-6e94301b24c1');\n",
              "          const dataTable =\n",
              "            await google.colab.kernel.invokeFunction('convertToInteractive',\n",
              "                                                     [key], {});\n",
              "          if (!dataTable) return;\n",
              "\n",
              "          const docLinkHtml = 'Like what you see? Visit the ' +\n",
              "            '<a target=\"_blank\" href=https://colab.research.google.com/notebooks/data_table.ipynb>data table notebook</a>'\n",
              "            + ' to learn more about interactive tables.';\n",
              "          element.innerHTML = '';\n",
              "          dataTable['output_type'] = 'display_data';\n",
              "          await google.colab.output.renderOutput(dataTable, element);\n",
              "          const docLink = document.createElement('div');\n",
              "          docLink.innerHTML = docLinkHtml;\n",
              "          element.appendChild(docLink);\n",
              "        }\n",
              "      </script>\n",
              "    </div>\n",
              "  </div>\n",
              "  "
            ]
          },
          "metadata": {},
          "execution_count": 7
        }
      ]
    },
    {
      "cell_type": "markdown",
      "source": [
        "Scatter Plot\n",
        "\n",
        "Relación entre dos variables.\n",
        "Predictor - x\n",
        "Target - y"
      ],
      "metadata": {
        "id": "kK1mOIXWk90i"
      }
    },
    {
      "cell_type": "code",
      "source": [
        "# Create an scatter plot\n",
        "import matplotlib.pyplot as plt\n",
        "\n",
        "y=df[\"engine-size\"]\n",
        "x=df[\"price\"]\n",
        "\n",
        "plt.scatter(x,y)\n",
        "plt.title(\"Scatterplot of Engine Size vs Price\")\n",
        "plt.xlabel(\"Engine Size\")\n",
        "plt.ylabel(\"Price\")"
      ],
      "metadata": {
        "colab": {
          "base_uri": "https://localhost:8080/",
          "height": 312
        },
        "id": "7wXAOWh_k6vh",
        "outputId": "ca156a7a-22bc-41a7-8407-494ad1d8269a"
      },
      "execution_count": 8,
      "outputs": [
        {
          "output_type": "execute_result",
          "data": {
            "text/plain": [
              "Text(0, 0.5, 'Price')"
            ]
          },
          "metadata": {},
          "execution_count": 8
        },
        {
          "output_type": "display_data",
          "data": {
            "text/plain": [
              "<Figure size 432x288 with 1 Axes>"
            ],
            "image/png": "[encoded data removed]"
          },
          "metadata": {
            "needs_background": "light"
          }
        }
      ]
    },
    {
      "cell_type": "markdown",
      "source": [
        "**Análisis Estadístico Descriptivo**\n",
        "\n",
        "La función calcula estadísticas básicas para todas las variables continuas. Cualquier valor de NaN se omite automáticamente en estas estadísticas.\n",
        "\n",
        "Esto mostrará:\n",
        "\n",
        "el conteo de esa variable\n",
        "el significado\n",
        "la desviación estándar (std)\n",
        "el valor mínimo\n",
        "el IQR (Rango Intercuartílico: 25%, 50% y 75%)\n",
        "el valor máximo"
      ],
      "metadata": {
        "id": "Znnlfryrnhaq"
      }
    },
    {
      "cell_type": "code",
      "source": [
        "df.describe()"
      ],
      "metadata": {
        "colab": {
          "base_uri": "https://localhost:8080/",
          "height": 301
        },
        "id": "vpPH6e_Unzgq",
        "outputId": "936e2627-b0f3-45b0-f26a-004344e84b34"
      },
      "execution_count": 9,
      "outputs": [
        {
          "output_type": "execute_result",
          "data": {
            "text/plain": [
              "        symboling  normalized-losses  wheel-base      length       width  \\\n",
              "count  159.000000         159.000000  159.000000  159.000000  159.000000   \n",
              "mean     0.735849         121.132075   98.264151  172.413836   65.607547   \n",
              "std      1.193086          35.651285    5.167416   11.523177    1.947883   \n",
              "min     -2.000000          65.000000   86.600000  141.100000   60.300000   \n",
              "25%      0.000000          94.000000   94.500000  165.650000   64.000000   \n",
              "50%      1.000000         113.000000   96.900000  172.400000   65.400000   \n",
              "75%      2.000000         148.000000  100.800000  177.800000   66.500000   \n",
              "max      3.000000         256.000000  115.600000  202.600000   71.700000   \n",
              "\n",
              "           height  curb-weight  engine-size        bore      stroke  \\\n",
              "count  159.000000   159.000000   159.000000  159.000000  159.000000   \n",
              "mean    53.899371  2461.138365   119.226415    3.300126    3.236352   \n",
              "std      2.268761   481.941321    30.460791    0.267336    0.294888   \n",
              "min     49.400000  1488.000000    61.000000    2.540000    2.070000   \n",
              "25%     52.250000  2065.500000    97.000000    3.050000    3.105000   \n",
              "50%     54.100000  2340.000000   110.000000    3.270000    3.270000   \n",
              "75%     55.500000  2809.500000   135.000000    3.560000    3.410000   \n",
              "max     59.800000  4066.000000   258.000000    3.940000    4.170000   \n",
              "\n",
              "       compression-ratio  horsepower     peak-rpm    city-mpg  highway-mpg  \\\n",
              "count         159.000000  159.000000   159.000000  159.000000   159.000000   \n",
              "mean           10.161132   95.836478  5113.836478   26.522013    32.081761   \n",
              "std             3.889475   30.718583   465.754864    6.097142     6.459189   \n",
              "min             7.000000   48.000000  4150.000000   15.000000    18.000000   \n",
              "25%             8.700000   69.000000  4800.000000   23.000000    28.000000   \n",
              "50%             9.000000   88.000000  5200.000000   26.000000    32.000000   \n",
              "75%             9.400000  114.000000  5500.000000   31.000000    37.000000   \n",
              "max            23.000000  200.000000  6600.000000   49.000000    54.000000   \n",
              "\n",
              "              price  \n",
              "count    159.000000  \n",
              "mean   11445.729560  \n",
              "std     5877.856195  \n",
              "min     5118.000000  \n",
              "25%     7372.000000  \n",
              "50%     9233.000000  \n",
              "75%    14719.500000  \n",
              "max    35056.000000  "
            ],
            "text/html": [
              "\n",
              "  <div id=\"df-249f61c1-5a51-4d61-ae9d-5d33b188299f\">\n",
              "    <div class=\"colab-df-container\">\n",
              "      <div>\n",
              "<style scoped>\n",
              "    .dataframe tbody tr th:only-of-type {\n",
              "        vertical-align: middle;\n",
              "    }\n",
              "\n",
              "    .dataframe tbody tr th {\n",
              "        vertical-align: top;\n",
              "    }\n",
              "\n",
              "    .dataframe thead th {\n",
              "        text-align: right;\n",
              "    }\n",
              "</style>\n",
              "<table border=\"1\" class=\"dataframe\">\n",
              "  <thead>\n",
              "    <tr style=\"text-align: right;\">\n",
              "      <th></th>\n",
              "      <th>symboling</th>\n",
              "      <th>normalized-losses</th>\n",
              "      <th>wheel-base</th>\n",
              "      <th>length</th>\n",
              "      <th>width</th>\n",
              "      <th>height</th>\n",
              "      <th>curb-weight</th>\n",
              "      <th>engine-size</th>\n",
              "      <th>bore</th>\n",
              "      <th>stroke</th>\n",
              "      <th>compression-ratio</th>\n",
              "      <th>horsepower</th>\n",
              "      <th>peak-rpm</th>\n",
              "      <th>city-mpg</th>\n",
              "      <th>highway-mpg</th>\n",
              "      <th>price</th>\n",
              "    </tr>\n",
              "  </thead>\n",
              "  <tbody>\n",
              "    <tr>\n",
              "      <th>count</th>\n",
              "      <td>159.000000</td>\n",
              "      <td>159.000000</td>\n",
              "      <td>159.000000</td>\n",
              "      <td>159.000000</td>\n",
              "      <td>159.000000</td>\n",
              "      <td>159.000000</td>\n",
              "      <td>159.000000</td>\n",
              "      <td>159.000000</td>\n",
              "      <td>159.000000</td>\n",
              "      <td>159.000000</td>\n",
              "      <td>159.000000</td>\n",
              "      <td>159.000000</td>\n",
              "      <td>159.000000</td>\n",
              "      <td>159.000000</td>\n",
              "      <td>159.000000</td>\n",
              "      <td>159.000000</td>\n",
              "    </tr>\n",
              "    <tr>\n",
              "      <th>mean</th>\n",
              "      <td>0.735849</td>\n",
              "      <td>121.132075</td>\n",
              "      <td>98.264151</td>\n",
              "      <td>172.413836</td>\n",
              "      <td>65.607547</td>\n",
              "      <td>53.899371</td>\n",
              "      <td>2461.138365</td>\n",
              "      <td>119.226415</td>\n",
              "      <td>3.300126</td>\n",
              "      <td>3.236352</td>\n",
              "      <td>10.161132</td>\n",
              "      <td>95.836478</td>\n",
              "      <td>5113.836478</td>\n",
              "      <td>26.522013</td>\n",
              "      <td>32.081761</td>\n",
              "      <td>11445.729560</td>\n",
              "    </tr>\n",
              "    <tr>\n",
              "      <th>std</th>\n",
              "      <td>1.193086</td>\n",
              "      <td>35.651285</td>\n",
              "      <td>5.167416</td>\n",
              "      <td>11.523177</td>\n",
              "      <td>1.947883</td>\n",
              "      <td>2.268761</td>\n",
              "      <td>481.941321</td>\n",
              "      <td>30.460791</td>\n",
              "      <td>0.267336</td>\n",
              "      <td>0.294888</td>\n",
              "      <td>3.889475</td>\n",
              "      <td>30.718583</td>\n",
              "      <td>465.754864</td>\n",
              "      <td>6.097142</td>\n",
              "      <td>6.459189</td>\n",
              "      <td>5877.856195</td>\n",
              "    </tr>\n",
              "    <tr>\n",
              "      <th>min</th>\n",
              "      <td>-2.000000</td>\n",
              "      <td>65.000000</td>\n",
              "      <td>86.600000</td>\n",
              "      <td>141.100000</td>\n",
              "      <td>60.300000</td>\n",
              "      <td>49.400000</td>\n",
              "      <td>1488.000000</td>\n",
              "      <td>61.000000</td>\n",
              "      <td>2.540000</td>\n",
              "      <td>2.070000</td>\n",
              "      <td>7.000000</td>\n",
              "      <td>48.000000</td>\n",
              "      <td>4150.000000</td>\n",
              "      <td>15.000000</td>\n",
              "      <td>18.000000</td>\n",
              "      <td>5118.000000</td>\n",
              "    </tr>\n",
              "    <tr>\n",
              "      <th>25%</th>\n",
              "      <td>0.000000</td>\n",
              "      <td>94.000000</td>\n",
              "      <td>94.500000</td>\n",
              "      <td>165.650000</td>\n",
              "      <td>64.000000</td>\n",
              "      <td>52.250000</td>\n",
              "      <td>2065.500000</td>\n",
              "      <td>97.000000</td>\n",
              "      <td>3.050000</td>\n",
              "      <td>3.105000</td>\n",
              "      <td>8.700000</td>\n",
              "      <td>69.000000</td>\n",
              "      <td>4800.000000</td>\n",
              "      <td>23.000000</td>\n",
              "      <td>28.000000</td>\n",
              "      <td>7372.000000</td>\n",
              "    </tr>\n",
              "    <tr>\n",
              "      <th>50%</th>\n",
              "      <td>1.000000</td>\n",
              "      <td>113.000000</td>\n",
              "      <td>96.900000</td>\n",
              "      <td>172.400000</td>\n",
              "      <td>65.400000</td>\n",
              "      <td>54.100000</td>\n",
              "      <td>2340.000000</td>\n",
              "      <td>110.000000</td>\n",
              "      <td>3.270000</td>\n",
              "      <td>3.270000</td>\n",
              "      <td>9.000000</td>\n",
              "      <td>88.000000</td>\n",
              "      <td>5200.000000</td>\n",
              "      <td>26.000000</td>\n",
              "      <td>32.000000</td>\n",
              "      <td>9233.000000</td>\n",
              "    </tr>\n",
              "    <tr>\n",
              "      <th>75%</th>\n",
              "      <td>2.000000</td>\n",
              "      <td>148.000000</td>\n",
              "      <td>100.800000</td>\n",
              "      <td>177.800000</td>\n",
              "      <td>66.500000</td>\n",
              "      <td>55.500000</td>\n",
              "      <td>2809.500000</td>\n",
              "      <td>135.000000</td>\n",
              "      <td>3.560000</td>\n",
              "      <td>3.410000</td>\n",
              "      <td>9.400000</td>\n",
              "      <td>114.000000</td>\n",
              "      <td>5500.000000</td>\n",
              "      <td>31.000000</td>\n",
              "      <td>37.000000</td>\n",
              "      <td>14719.500000</td>\n",
              "    </tr>\n",
              "    <tr>\n",
              "      <th>max</th>\n",
              "      <td>3.000000</td>\n",
              "      <td>256.000000</td>\n",
              "      <td>115.600000</td>\n",
              "      <td>202.600000</td>\n",
              "      <td>71.700000</td>\n",
              "      <td>59.800000</td>\n",
              "      <td>4066.000000</td>\n",
              "      <td>258.000000</td>\n",
              "      <td>3.940000</td>\n",
              "      <td>4.170000</td>\n",
              "      <td>23.000000</td>\n",
              "      <td>200.000000</td>\n",
              "      <td>6600.000000</td>\n",
              "      <td>49.000000</td>\n",
              "      <td>54.000000</td>\n",
              "      <td>35056.000000</td>\n",
              "    </tr>\n",
              "  </tbody>\n",
              "</table>\n",
              "</div>\n",
              "      <button class=\"colab-df-convert\" onclick=\"convertToInteractive('df-249f61c1-5a51-4d61-ae9d-5d33b188299f')\"\n",
              "              title=\"Convert this dataframe to an interactive table.\"\n",
              "              style=\"display:none;\">\n",
              "        \n",
              "  <svg xmlns=\"http://www.w3.org/2000/svg\" height=\"24px\"viewBox=\"0 0 24 24\"\n",
              "       width=\"24px\">\n",
              "    <path d=\"M0 0h24v24H0V0z\" fill=\"none\"/>\n",
              "    <path d=\"M18.56 5.44l.94 2.06.94-2.06 2.06-.94-2.06-.94-.94-2.06-.94 2.06-2.06.94zm-11 1L8.5 8.5l.94-2.06 2.06-.94-2.06-.94L8.5 2.5l-.94 2.06-2.06.94zm10 10l.94 2.06.94-2.06 2.06-.94-2.06-.94-.94-2.06-.94 2.06-2.06.94z\"/><path d=\"M17.41 7.96l-1.37-1.37c-.4-.4-.92-.59-1.43-.59-.52 0-1.04.2-1.43.59L10.3 9.45l-7.72 7.72c-.78.78-.78 2.05 0 2.83L4 21.41c.39.39.9.59 1.41.59.51 0 1.02-.2 1.41-.59l7.78-7.78 2.81-2.81c.8-.78.8-2.07 0-2.86zM5.41 20L4 18.59l7.72-7.72 1.47 1.35L5.41 20z\"/>\n",
              "  </svg>\n",
              "      </button>\n",
              "      \n",
              "  <style>\n",
              "    .colab-df-container {\n",
              "      display:flex;\n",
              "      flex-wrap:wrap;\n",
              "      gap: 12px;\n",
              "    }\n",
              "\n",
              "    .colab-df-convert {\n",
              "      background-color: #E8F0FE;\n",
              "      border: none;\n",
              "      border-radius: 50%;\n",
              "      cursor: pointer;\n",
              "      display: none;\n",
              "      fill: #1967D2;\n",
              "      height: 32px;\n",
              "      padding: 0 0 0 0;\n",
              "      width: 32px;\n",
              "    }\n",
              "\n",
              "    .colab-df-convert:hover {\n",
              "      background-color: #E2EBFA;\n",
              "      box-shadow: 0px 1px 2px rgba(60, 64, 67, 0.3), 0px 1px 3px 1px rgba(60, 64, 67, 0.15);\n",
              "      fill: #174EA6;\n",
              "    }\n",
              "\n",
              "    [theme=dark] .colab-df-convert {\n",
              "      background-color: #3B4455;\n",
              "      fill: #D2E3FC;\n",
              "    }\n",
              "\n",
              "    [theme=dark] .colab-df-convert:hover {\n",
              "      background-color: #434B5C;\n",
              "      box-shadow: 0px 1px 3px 1px rgba(0, 0, 0, 0.15);\n",
              "      filter: drop-shadow(0px 1px 2px rgba(0, 0, 0, 0.3));\n",
              "      fill: #FFFFFF;\n",
              "    }\n",
              "  </style>\n",
              "\n",
              "      <script>\n",
              "        const buttonEl =\n",
              "          document.querySelector('#df-249f61c1-5a51-4d61-ae9d-5d33b188299f button.colab-df-convert');\n",
              "        buttonEl.style.display =\n",
              "          google.colab.kernel.accessAllowed ? 'block' : 'none';\n",
              "\n",
              "        async function convertToInteractive(key) {\n",
              "          const element = document.querySelector('#df-249f61c1-5a51-4d61-ae9d-5d33b188299f');\n",
              "          const dataTable =\n",
              "            await google.colab.kernel.invokeFunction('convertToInteractive',\n",
              "                                                     [key], {});\n",
              "          if (!dataTable) return;\n",
              "\n",
              "          const docLinkHtml = 'Like what you see? Visit the ' +\n",
              "            '<a target=\"_blank\" href=https://colab.research.google.com/notebooks/data_table.ipynb>data table notebook</a>'\n",
              "            + ' to learn more about interactive tables.';\n",
              "          element.innerHTML = '';\n",
              "          dataTable['output_type'] = 'display_data';\n",
              "          await google.colab.output.renderOutput(dataTable, element);\n",
              "          const docLink = document.createElement('div');\n",
              "          docLink.innerHTML = docLinkHtml;\n",
              "          element.appendChild(docLink);\n",
              "        }\n",
              "      </script>\n",
              "    </div>\n",
              "  </div>\n",
              "  "
            ]
          },
          "metadata": {},
          "execution_count": 9
        }
      ]
    },
    {
      "cell_type": "markdown",
      "source": [
        "**Group By:**\n",
        "Usar en valores categóricos y por variables únicas o múltiples"
      ],
      "metadata": {
        "id": "OEP3CABolEZd"
      }
    },
    {
      "cell_type": "code",
      "source": [
        "# Group Data\n",
        "df2=df[[\"drive-wheels\",\"body-style\",\"price\"]]\n",
        "df3=df2.groupby([\"drive-wheels\",\"body-style\"],as_index=False).mean()\n",
        "print(df3)"
      ],
      "metadata": {
        "colab": {
          "base_uri": "https://localhost:8080/"
        },
        "id": "a5xAk_JMlOiS",
        "outputId": "d4e77566-c611-4ba9-9fab-1a45f0938793"
      },
      "execution_count": 10,
      "outputs": [
        {
          "output_type": "stream",
          "name": "stdout",
          "text": [
            "   drive-wheels   body-style         price\n",
            "0           4wd    hatchback   7603.000000\n",
            "1           4wd        sedan  12647.333333\n",
            "2           4wd        wagon   9095.750000\n",
            "3           fwd      hardtop   8249.000000\n",
            "4           fwd    hatchback   7989.800000\n",
            "5           fwd        sedan   9558.120000\n",
            "6           fwd        wagon   8829.222222\n",
            "7           rwd  convertible  26362.500000\n",
            "8           rwd      hardtop  14365.750000\n",
            "9           rwd    hatchback  14918.500000\n",
            "10          rwd        sedan  18318.576923\n",
            "11          rwd        wagon  19282.000000\n"
          ]
        }
      ]
    },
    {
      "cell_type": "code",
      "source": [
        "# Pivot table\n",
        "df4=df3.pivot(index=\"drive-wheels\",columns=\"body-style\")\n",
        "print(df4)\n",
        "# Heatmaps to vizualice pivot tables\n",
        "plt.pcolor(df4,cmap=\"RdBu\")\n",
        "plt.colorbar()\n",
        "plt.show()"
      ],
      "metadata": {
        "colab": {
          "base_uri": "https://localhost:8080/",
          "height": 373
        },
        "id": "Atv6v6v2lSWF",
        "outputId": "2b6bc8d3-ff9d-4826-edd5-4c3cedf6fdd8"
      },
      "execution_count": 11,
      "outputs": [
        {
          "output_type": "stream",
          "name": "stdout",
          "text": [
            "                   price                                                \n",
            "body-style   convertible   hardtop hatchback         sedan         wagon\n",
            "drive-wheels                                                            \n",
            "4wd                  NaN       NaN    7603.0  12647.333333   9095.750000\n",
            "fwd                  NaN   8249.00    7989.8   9558.120000   8829.222222\n",
            "rwd              26362.5  14365.75   14918.5  18318.576923  19282.000000\n"
          ]
        },
        {
          "output_type": "display_data",
          "data": {
            "text/plain": [
              "<Figure size 432x288 with 2 Axes>"
            ],
            "image/png": "[encoded data removed]"
          },
          "metadata": {
            "needs_background": "light"
          }
        }
      ]
    },
    {
      "cell_type": "markdown",
      "source": [
        "La visualización es muy importante en la ciencia de datos, y los paquetes de visualización de Python brindan una gran libertad. Profundizaremos más en un curso separado de visualizaciones de Python."
      ],
      "metadata": {
        "id": "fJzOjd_arzzs"
      }
    },
    {
      "cell_type": "markdown",
      "source": [
        "**Análisis de Varianza:**\n",
        "\n",
        "*Correlación entre variables categóricas.*\n",
        "Puntuación de la prueba F = variación entre las medias del grupo de muestra dividida por la variación dentro del grupo de muestra.\n",
        "*Valor p = grado de confianza.*"
      ],
      "metadata": {
        "id": "WVlAlM9ZlY0F"
      }
    },
    {
      "cell_type": "code",
      "source": [
        "#Test\n",
        "import scipy as spy\n",
        "df5=df[[\"make\",\"price\"]]\n",
        "df_ganova=df5.groupby([\"make\"])\n",
        "anova_result=spy.stats.f_oneway(df_ganova.get_group(\"honda\")[\"price\"], df_ganova.get_group(\"subaru\")[\"price\"])\n",
        "print(anova_result)\n",
        "anova_result=spy.stats.f_oneway(df_ganova.get_group(\"honda\")[\"price\"], df_ganova.get_group(\"jaguar\")[\"price\"])\n",
        "print(anova_result)"
      ],
      "metadata": {
        "colab": {
          "base_uri": "https://localhost:8080/"
        },
        "id": "m3MHhtkOleBn",
        "outputId": "a1023bdf-3852-4ce7-b940-28054f8f2037"
      },
      "execution_count": 12,
      "outputs": [
        {
          "output_type": "stream",
          "name": "stdout",
          "text": [
            "F_onewayResult(statistic=0.19744030127462606, pvalue=0.6609478240622193)\n",
            "F_onewayResult(statistic=126.51993543840521, pvalue=9.910636687962768e-08)\n"
          ]
        }
      ]
    },
    {
      "cell_type": "markdown",
      "source": [
        "**Correlación:**\n",
        "Dependencia de variables"
      ],
      "metadata": {
        "id": "7MHdQNnolhvk"
      }
    },
    {
      "cell_type": "code",
      "source": [
        "# Positive Correlation\n",
        "sns.regplot(x=\"engine-size\",y=\"price\",data=df)\n",
        "plt.ylim(0,)\n",
        "# Negative Correlation\n",
        "sns.regplot(x=\"highway-mpg\",y=\"price\",data=df)\n",
        "plt.ylim(0,)\n",
        "# Weak Correlation\n",
        "sns.regplot(x=\"peak-rpm\",y=\"price\",data=df)\n",
        "plt.ylim(0,)"
      ],
      "metadata": {
        "colab": {
          "base_uri": "https://localhost:8080/",
          "height": 296
        },
        "id": "hg2H1_58lprP",
        "outputId": "afa060f1-f5d2-4282-a744-e70d802ce28f"
      },
      "execution_count": 13,
      "outputs": [
        {
          "output_type": "execute_result",
          "data": {
            "text/plain": [
              "(0.0, 39282.54353470204)"
            ]
          },
          "metadata": {},
          "execution_count": 13
        },
        {
          "output_type": "display_data",
          "data": {
            "text/plain": [
              "<Figure size 432x288 with 1 Axes>"
            ],
            "image/png": "[encoded data removed]"
          },
          "metadata": {
            "needs_background": "light"
          }
        }
      ]
    },
    {
      "cell_type": "markdown",
      "source": [
        "**Correlación de Pearson:**\n",
        "\n",
        "Correlación: una medida del grado de interdependencia entre variables.\n",
        "\n",
        "Causalidad: la relación entre causa y efecto entre dos variables.\n",
        "\n",
        "Es importante saber la diferencia entre estos dos. La correlación no implica causa. Determinar la correlación es mucho más simple que determinar la causalidad, ya que la causalidad puede requerir una experimentación independiente.\n",
        "\n",
        "correlación de Pearson\n",
        "\n",
        "La Correlación de Pearson mide la dependencia lineal entre dos variables X e Y.\n",
        "\n",
        "El coeficiente resultante es un valor entre -1 y 1 inclusive, donde:\n",
        "\n",
        "1: Correlación lineal positiva perfecta.\n",
        "0: Sin correlación lineal, lo más probable es que las dos variables no se afecten entre sí.\n",
        "-1: Correlación lineal negativa perfecta.\n",
        "La correlación de Pearson es el método predeterminado de la función \"corr\". Como antes, podemos calcular la Correlación de Pearson de las variables 'int64' o 'float64'."
      ],
      "metadata": {
        "id": "tG_k08l4ly9d"
      }
    },
    {
      "cell_type": "code",
      "source": [
        "df.corr()"
      ],
      "metadata": {
        "colab": {
          "base_uri": "https://localhost:8080/",
          "height": 551
        },
        "id": "HGHDq05wl1cV",
        "outputId": "9a0c0499-692d-4778-a1ea-6619f90efd25"
      },
      "execution_count": 14,
      "outputs": [
        {
          "output_type": "execute_result",
          "data": {
            "text/plain": [
              "                   symboling  normalized-losses  wheel-base    length  \\\n",
              "symboling           1.000000           0.518344   -0.520591 -0.336257   \n",
              "normalized-losses   0.518344           1.000000   -0.060086  0.035541   \n",
              "wheel-base         -0.520591          -0.060086    1.000000  0.871534   \n",
              "length             -0.336257           0.035541    0.871534  1.000000   \n",
              "width              -0.219186           0.109726    0.814991  0.838338   \n",
              "height             -0.475185          -0.413702    0.555767  0.499251   \n",
              "curb-weight        -0.251880           0.125858    0.810181  0.871291   \n",
              "engine-size        -0.109453           0.207820    0.649206  0.725953   \n",
              "bore               -0.256469          -0.031558    0.578159  0.646318   \n",
              "stroke             -0.021285           0.063330    0.167449  0.121073   \n",
              "compression-ratio  -0.138316          -0.127259    0.291431  0.184814   \n",
              "horsepower         -0.003949           0.290511    0.516948  0.672063   \n",
              "peak-rpm            0.199106           0.237697   -0.289234 -0.234074   \n",
              "city-mpg            0.089550          -0.235523   -0.580657 -0.724544   \n",
              "highway-mpg         0.149830          -0.188564   -0.611750 -0.724599   \n",
              "price              -0.162794           0.202761    0.734419  0.760952   \n",
              "\n",
              "                      width    height  curb-weight  engine-size      bore  \\\n",
              "symboling         -0.219186 -0.475185    -0.251880    -0.109453 -0.256469   \n",
              "normalized-losses  0.109726 -0.413702     0.125858     0.207820 -0.031558   \n",
              "wheel-base         0.814991  0.555767     0.810181     0.649206  0.578159   \n",
              "length             0.838338  0.499251     0.871291     0.725953  0.646318   \n",
              "width              1.000000  0.292706     0.870595     0.779253  0.572554   \n",
              "height             0.292706  1.000000     0.367052     0.111083  0.254836   \n",
              "curb-weight        0.870595  0.367052     1.000000     0.888626  0.645792   \n",
              "engine-size        0.779253  0.111083     0.888626     1.000000  0.595737   \n",
              "bore               0.572554  0.254836     0.645792     0.595737  1.000000   \n",
              "stroke             0.196619 -0.091313     0.173844     0.299683 -0.102581   \n",
              "compression-ratio  0.258752  0.233308     0.224724     0.141097  0.015119   \n",
              "horsepower         0.681872  0.034317     0.790095     0.812073  0.560239   \n",
              "peak-rpm          -0.232216 -0.245864    -0.259988    -0.284686 -0.312269   \n",
              "city-mpg          -0.666684 -0.199737    -0.762155    -0.699139 -0.590440   \n",
              "highway-mpg       -0.693339 -0.226136    -0.789338    -0.714095 -0.590850   \n",
              "price              0.843371  0.244836     0.893639     0.841496  0.533890   \n",
              "\n",
              "                     stroke  compression-ratio  horsepower  peak-rpm  \\\n",
              "symboling         -0.021285          -0.138316   -0.003949  0.199106   \n",
              "normalized-losses  0.063330          -0.127259    0.290511  0.237697   \n",
              "wheel-base         0.167449           0.291431    0.516948 -0.289234   \n",
              "length             0.121073           0.184814    0.672063 -0.234074   \n",
              "width              0.196619           0.258752    0.681872 -0.232216   \n",
              "height            -0.091313           0.233308    0.034317 -0.245864   \n",
              "curb-weight        0.173844           0.224724    0.790095 -0.259988   \n",
              "engine-size        0.299683           0.141097    0.812073 -0.284686   \n",
              "bore              -0.102581           0.015119    0.560239 -0.312269   \n",
              "stroke             1.000000           0.243587    0.148804 -0.011312   \n",
              "compression-ratio  0.243587           1.000000   -0.162305 -0.416769   \n",
              "horsepower         0.148804          -0.162305    1.000000  0.074057   \n",
              "peak-rpm          -0.011312          -0.416769    0.074057  1.000000   \n",
              "city-mpg          -0.020055           0.278332   -0.837214 -0.052929   \n",
              "highway-mpg       -0.012934           0.221483   -0.827941 -0.032777   \n",
              "price              0.160664           0.209361    0.759874 -0.171916   \n",
              "\n",
              "                   city-mpg  highway-mpg     price  \n",
              "symboling          0.089550     0.149830 -0.162794  \n",
              "normalized-losses -0.235523    -0.188564  0.202761  \n",
              "wheel-base        -0.580657    -0.611750  0.734419  \n",
              "length            -0.724544    -0.724599  0.760952  \n",
              "width             -0.666684    -0.693339  0.843371  \n",
              "height            -0.199737    -0.226136  0.244836  \n",
              "curb-weight       -0.762155    -0.789338  0.893639  \n",
              "engine-size       -0.699139    -0.714095  0.841496  \n",
              "bore              -0.590440    -0.590850  0.533890  \n",
              "stroke            -0.020055    -0.012934  0.160664  \n",
              "compression-ratio  0.278332     0.221483  0.209361  \n",
              "horsepower        -0.837214    -0.827941  0.759874  \n",
              "peak-rpm          -0.052929    -0.032777 -0.171916  \n",
              "city-mpg           1.000000     0.971999 -0.692273  \n",
              "highway-mpg        0.971999     1.000000 -0.720090  \n",
              "price             -0.692273    -0.720090  1.000000  "
            ],
            "text/html": [
              "\n",
              "  <div id=\"df-92b63a33-0bad-44fe-8899-b849834b09f3\">\n",
              "    <div class=\"colab-df-container\">\n",
              "      <div>\n",
              "<style scoped>\n",
              "    .dataframe tbody tr th:only-of-type {\n",
              "        vertical-align: middle;\n",
              "    }\n",
              "\n",
              "    .dataframe tbody tr th {\n",
              "        vertical-align: top;\n",
              "    }\n",
              "\n",
              "    .dataframe thead th {\n",
              "        text-align: right;\n",
              "    }\n",
              "</style>\n",
              "<table border=\"1\" class=\"dataframe\">\n",
              "  <thead>\n",
              "    <tr style=\"text-align: right;\">\n",
              "      <th></th>\n",
              "      <th>symboling</th>\n",
              "      <th>normalized-losses</th>\n",
              "      <th>wheel-base</th>\n",
              "      <th>length</th>\n",
              "      <th>width</th>\n",
              "      <th>height</th>\n",
              "      <th>curb-weight</th>\n",
              "      <th>engine-size</th>\n",
              "      <th>bore</th>\n",
              "      <th>stroke</th>\n",
              "      <th>compression-ratio</th>\n",
              "      <th>horsepower</th>\n",
              "      <th>peak-rpm</th>\n",
              "      <th>city-mpg</th>\n",
              "      <th>highway-mpg</th>\n",
              "      <th>price</th>\n",
              "    </tr>\n",
              "  </thead>\n",
              "  <tbody>\n",
              "    <tr>\n",
              "      <th>symboling</th>\n",
              "      <td>1.000000</td>\n",
              "      <td>0.518344</td>\n",
              "      <td>-0.520591</td>\n",
              "      <td>-0.336257</td>\n",
              "      <td>-0.219186</td>\n",
              "      <td>-0.475185</td>\n",
              "      <td>-0.251880</td>\n",
              "      <td>-0.109453</td>\n",
              "      <td>-0.256469</td>\n",
              "      <td>-0.021285</td>\n",
              "      <td>-0.138316</td>\n",
              "      <td>-0.003949</td>\n",
              "      <td>0.199106</td>\n",
              "      <td>0.089550</td>\n",
              "      <td>0.149830</td>\n",
              "      <td>-0.162794</td>\n",
              "    </tr>\n",
              "    <tr>\n",
              "      <th>normalized-losses</th>\n",
              "      <td>0.518344</td>\n",
              "      <td>1.000000</td>\n",
              "      <td>-0.060086</td>\n",
              "      <td>0.035541</td>\n",
              "      <td>0.109726</td>\n",
              "      <td>-0.413702</td>\n",
              "      <td>0.125858</td>\n",
              "      <td>0.207820</td>\n",
              "      <td>-0.031558</td>\n",
              "      <td>0.063330</td>\n",
              "      <td>-0.127259</td>\n",
              "      <td>0.290511</td>\n",
              "      <td>0.237697</td>\n",
              "      <td>-0.235523</td>\n",
              "      <td>-0.188564</td>\n",
              "      <td>0.202761</td>\n",
              "    </tr>\n",
              "    <tr>\n",
              "      <th>wheel-base</th>\n",
              "      <td>-0.520591</td>\n",
              "      <td>-0.060086</td>\n",
              "      <td>1.000000</td>\n",
              "      <td>0.871534</td>\n",
              "      <td>0.814991</td>\n",
              "      <td>0.555767</td>\n",
              "      <td>0.810181</td>\n",
              "      <td>0.649206</td>\n",
              "      <td>0.578159</td>\n",
              "      <td>0.167449</td>\n",
              "      <td>0.291431</td>\n",
              "      <td>0.516948</td>\n",
              "      <td>-0.289234</td>\n",
              "      <td>-0.580657</td>\n",
              "      <td>-0.611750</td>\n",
              "      <td>0.734419</td>\n",
              "    </tr>\n",
              "    <tr>\n",
              "      <th>length</th>\n",
              "      <td>-0.336257</td>\n",
              "      <td>0.035541</td>\n",
              "      <td>0.871534</td>\n",
              "      <td>1.000000</td>\n",
              "      <td>0.838338</td>\n",
              "      <td>0.499251</td>\n",
              "      <td>0.871291</td>\n",
              "      <td>0.725953</td>\n",
              "      <td>0.646318</td>\n",
              "      <td>0.121073</td>\n",
              "      <td>0.184814</td>\n",
              "      <td>0.672063</td>\n",
              "      <td>-0.234074</td>\n",
              "      <td>-0.724544</td>\n",
              "      <td>-0.724599</td>\n",
              "      <td>0.760952</td>\n",
              "    </tr>\n",
              "    <tr>\n",
              "      <th>width</th>\n",
              "      <td>-0.219186</td>\n",
              "      <td>0.109726</td>\n",
              "      <td>0.814991</td>\n",
              "      <td>0.838338</td>\n",
              "      <td>1.000000</td>\n",
              "      <td>0.292706</td>\n",
              "      <td>0.870595</td>\n",
              "      <td>0.779253</td>\n",
              "      <td>0.572554</td>\n",
              "      <td>0.196619</td>\n",
              "      <td>0.258752</td>\n",
              "      <td>0.681872</td>\n",
              "      <td>-0.232216</td>\n",
              "      <td>-0.666684</td>\n",
              "      <td>-0.693339</td>\n",
              "      <td>0.843371</td>\n",
              "    </tr>\n",
              "    <tr>\n",
              "      <th>height</th>\n",
              "      <td>-0.475185</td>\n",
              "      <td>-0.413702</td>\n",
              "      <td>0.555767</td>\n",
              "      <td>0.499251</td>\n",
              "      <td>0.292706</td>\n",
              "      <td>1.000000</td>\n",
              "      <td>0.367052</td>\n",
              "      <td>0.111083</td>\n",
              "      <td>0.254836</td>\n",
              "      <td>-0.091313</td>\n",
              "      <td>0.233308</td>\n",
              "      <td>0.034317</td>\n",
              "      <td>-0.245864</td>\n",
              "      <td>-0.199737</td>\n",
              "      <td>-0.226136</td>\n",
              "      <td>0.244836</td>\n",
              "    </tr>\n",
              "    <tr>\n",
              "      <th>curb-weight</th>\n",
              "      <td>-0.251880</td>\n",
              "      <td>0.125858</td>\n",
              "      <td>0.810181</td>\n",
              "      <td>0.871291</td>\n",
              "      <td>0.870595</td>\n",
              "      <td>0.367052</td>\n",
              "      <td>1.000000</td>\n",
              "      <td>0.888626</td>\n",
              "      <td>0.645792</td>\n",
              "      <td>0.173844</td>\n",
              "      <td>0.224724</td>\n",
              "      <td>0.790095</td>\n",
              "      <td>-0.259988</td>\n",
              "      <td>-0.762155</td>\n",
              "      <td>-0.789338</td>\n",
              "      <td>0.893639</td>\n",
              "    </tr>\n",
              "    <tr>\n",
              "      <th>engine-size</th>\n",
              "      <td>-0.109453</td>\n",
              "      <td>0.207820</td>\n",
              "      <td>0.649206</td>\n",
              "      <td>0.725953</td>\n",
              "      <td>0.779253</td>\n",
              "      <td>0.111083</td>\n",
              "      <td>0.888626</td>\n",
              "      <td>1.000000</td>\n",
              "      <td>0.595737</td>\n",
              "      <td>0.299683</td>\n",
              "      <td>0.141097</td>\n",
              "      <td>0.812073</td>\n",
              "      <td>-0.284686</td>\n",
              "      <td>-0.699139</td>\n",
              "      <td>-0.714095</td>\n",
              "      <td>0.841496</td>\n",
              "    </tr>\n",
              "    <tr>\n",
              "      <th>bore</th>\n",
              "      <td>-0.256469</td>\n",
              "      <td>-0.031558</td>\n",
              "      <td>0.578159</td>\n",
              "      <td>0.646318</td>\n",
              "      <td>0.572554</td>\n",
              "      <td>0.254836</td>\n",
              "      <td>0.645792</td>\n",
              "      <td>0.595737</td>\n",
              "      <td>1.000000</td>\n",
              "      <td>-0.102581</td>\n",
              "      <td>0.015119</td>\n",
              "      <td>0.560239</td>\n",
              "      <td>-0.312269</td>\n",
              "      <td>-0.590440</td>\n",
              "      <td>-0.590850</td>\n",
              "      <td>0.533890</td>\n",
              "    </tr>\n",
              "    <tr>\n",
              "      <th>stroke</th>\n",
              "      <td>-0.021285</td>\n",
              "      <td>0.063330</td>\n",
              "      <td>0.167449</td>\n",
              "      <td>0.121073</td>\n",
              "      <td>0.196619</td>\n",
              "      <td>-0.091313</td>\n",
              "      <td>0.173844</td>\n",
              "      <td>0.299683</td>\n",
              "      <td>-0.102581</td>\n",
              "      <td>1.000000</td>\n",
              "      <td>0.243587</td>\n",
              "      <td>0.148804</td>\n",
              "      <td>-0.011312</td>\n",
              "      <td>-0.020055</td>\n",
              "      <td>-0.012934</td>\n",
              "      <td>0.160664</td>\n",
              "    </tr>\n",
              "    <tr>\n",
              "      <th>compression-ratio</th>\n",
              "      <td>-0.138316</td>\n",
              "      <td>-0.127259</td>\n",
              "      <td>0.291431</td>\n",
              "      <td>0.184814</td>\n",
              "      <td>0.258752</td>\n",
              "      <td>0.233308</td>\n",
              "      <td>0.224724</td>\n",
              "      <td>0.141097</td>\n",
              "      <td>0.015119</td>\n",
              "      <td>0.243587</td>\n",
              "      <td>1.000000</td>\n",
              "      <td>-0.162305</td>\n",
              "      <td>-0.416769</td>\n",
              "      <td>0.278332</td>\n",
              "      <td>0.221483</td>\n",
              "      <td>0.209361</td>\n",
              "    </tr>\n",
              "    <tr>\n",
              "      <th>horsepower</th>\n",
              "      <td>-0.003949</td>\n",
              "      <td>0.290511</td>\n",
              "      <td>0.516948</td>\n",
              "      <td>0.672063</td>\n",
              "      <td>0.681872</td>\n",
              "      <td>0.034317</td>\n",
              "      <td>0.790095</td>\n",
              "      <td>0.812073</td>\n",
              "      <td>0.560239</td>\n",
              "      <td>0.148804</td>\n",
              "      <td>-0.162305</td>\n",
              "      <td>1.000000</td>\n",
              "      <td>0.074057</td>\n",
              "      <td>-0.837214</td>\n",
              "      <td>-0.827941</td>\n",
              "      <td>0.759874</td>\n",
              "    </tr>\n",
              "    <tr>\n",
              "      <th>peak-rpm</th>\n",
              "      <td>0.199106</td>\n",
              "      <td>0.237697</td>\n",
              "      <td>-0.289234</td>\n",
              "      <td>-0.234074</td>\n",
              "      <td>-0.232216</td>\n",
              "      <td>-0.245864</td>\n",
              "      <td>-0.259988</td>\n",
              "      <td>-0.284686</td>\n",
              "      <td>-0.312269</td>\n",
              "      <td>-0.011312</td>\n",
              "      <td>-0.416769</td>\n",
              "      <td>0.074057</td>\n",
              "      <td>1.000000</td>\n",
              "      <td>-0.052929</td>\n",
              "      <td>-0.032777</td>\n",
              "      <td>-0.171916</td>\n",
              "    </tr>\n",
              "    <tr>\n",
              "      <th>city-mpg</th>\n",
              "      <td>0.089550</td>\n",
              "      <td>-0.235523</td>\n",
              "      <td>-0.580657</td>\n",
              "      <td>-0.724544</td>\n",
              "      <td>-0.666684</td>\n",
              "      <td>-0.199737</td>\n",
              "      <td>-0.762155</td>\n",
              "      <td>-0.699139</td>\n",
              "      <td>-0.590440</td>\n",
              "      <td>-0.020055</td>\n",
              "      <td>0.278332</td>\n",
              "      <td>-0.837214</td>\n",
              "      <td>-0.052929</td>\n",
              "      <td>1.000000</td>\n",
              "      <td>0.971999</td>\n",
              "      <td>-0.692273</td>\n",
              "    </tr>\n",
              "    <tr>\n",
              "      <th>highway-mpg</th>\n",
              "      <td>0.149830</td>\n",
              "      <td>-0.188564</td>\n",
              "      <td>-0.611750</td>\n",
              "      <td>-0.724599</td>\n",
              "      <td>-0.693339</td>\n",
              "      <td>-0.226136</td>\n",
              "      <td>-0.789338</td>\n",
              "      <td>-0.714095</td>\n",
              "      <td>-0.590850</td>\n",
              "      <td>-0.012934</td>\n",
              "      <td>0.221483</td>\n",
              "      <td>-0.827941</td>\n",
              "      <td>-0.032777</td>\n",
              "      <td>0.971999</td>\n",
              "      <td>1.000000</td>\n",
              "      <td>-0.720090</td>\n",
              "    </tr>\n",
              "    <tr>\n",
              "      <th>price</th>\n",
              "      <td>-0.162794</td>\n",
              "      <td>0.202761</td>\n",
              "      <td>0.734419</td>\n",
              "      <td>0.760952</td>\n",
              "      <td>0.843371</td>\n",
              "      <td>0.244836</td>\n",
              "      <td>0.893639</td>\n",
              "      <td>0.841496</td>\n",
              "      <td>0.533890</td>\n",
              "      <td>0.160664</td>\n",
              "      <td>0.209361</td>\n",
              "      <td>0.759874</td>\n",
              "      <td>-0.171916</td>\n",
              "      <td>-0.692273</td>\n",
              "      <td>-0.720090</td>\n",
              "      <td>1.000000</td>\n",
              "    </tr>\n",
              "  </tbody>\n",
              "</table>\n",
              "</div>\n",
              "      <button class=\"colab-df-convert\" onclick=\"convertToInteractive('df-92b63a33-0bad-44fe-8899-b849834b09f3')\"\n",
              "              title=\"Convert this dataframe to an interactive table.\"\n",
              "              style=\"display:none;\">\n",
              "        \n",
              "  <svg xmlns=\"http://www.w3.org/2000/svg\" height=\"24px\"viewBox=\"0 0 24 24\"\n",
              "       width=\"24px\">\n",
              "    <path d=\"M0 0h24v24H0V0z\" fill=\"none\"/>\n",
              "    <path d=\"M18.56 5.44l.94 2.06.94-2.06 2.06-.94-2.06-.94-.94-2.06-.94 2.06-2.06.94zm-11 1L8.5 8.5l.94-2.06 2.06-.94-2.06-.94L8.5 2.5l-.94 2.06-2.06.94zm10 10l.94 2.06.94-2.06 2.06-.94-2.06-.94-.94-2.06-.94 2.06-2.06.94z\"/><path d=\"M17.41 7.96l-1.37-1.37c-.4-.4-.92-.59-1.43-.59-.52 0-1.04.2-1.43.59L10.3 9.45l-7.72 7.72c-.78.78-.78 2.05 0 2.83L4 21.41c.39.39.9.59 1.41.59.51 0 1.02-.2 1.41-.59l7.78-7.78 2.81-2.81c.8-.78.8-2.07 0-2.86zM5.41 20L4 18.59l7.72-7.72 1.47 1.35L5.41 20z\"/>\n",
              "  </svg>\n",
              "      </button>\n",
              "      \n",
              "  <style>\n",
              "    .colab-df-container {\n",
              "      display:flex;\n",
              "      flex-wrap:wrap;\n",
              "      gap: 12px;\n",
              "    }\n",
              "\n",
              "    .colab-df-convert {\n",
              "      background-color: #E8F0FE;\n",
              "      border: none;\n",
              "      border-radius: 50%;\n",
              "      cursor: pointer;\n",
              "      display: none;\n",
              "      fill: #1967D2;\n",
              "      height: 32px;\n",
              "      padding: 0 0 0 0;\n",
              "      width: 32px;\n",
              "    }\n",
              "\n",
              "    .colab-df-convert:hover {\n",
              "      background-color: #E2EBFA;\n",
              "      box-shadow: 0px 1px 2px rgba(60, 64, 67, 0.3), 0px 1px 3px 1px rgba(60, 64, 67, 0.15);\n",
              "      fill: #174EA6;\n",
              "    }\n",
              "\n",
              "    [theme=dark] .colab-df-convert {\n",
              "      background-color: #3B4455;\n",
              "      fill: #D2E3FC;\n",
              "    }\n",
              "\n",
              "    [theme=dark] .colab-df-convert:hover {\n",
              "      background-color: #434B5C;\n",
              "      box-shadow: 0px 1px 3px 1px rgba(0, 0, 0, 0.15);\n",
              "      filter: drop-shadow(0px 1px 2px rgba(0, 0, 0, 0.3));\n",
              "      fill: #FFFFFF;\n",
              "    }\n",
              "  </style>\n",
              "\n",
              "      <script>\n",
              "        const buttonEl =\n",
              "          document.querySelector('#df-92b63a33-0bad-44fe-8899-b849834b09f3 button.colab-df-convert');\n",
              "        buttonEl.style.display =\n",
              "          google.colab.kernel.accessAllowed ? 'block' : 'none';\n",
              "\n",
              "        async function convertToInteractive(key) {\n",
              "          const element = document.querySelector('#df-92b63a33-0bad-44fe-8899-b849834b09f3');\n",
              "          const dataTable =\n",
              "            await google.colab.kernel.invokeFunction('convertToInteractive',\n",
              "                                                     [key], {});\n",
              "          if (!dataTable) return;\n",
              "\n",
              "          const docLinkHtml = 'Like what you see? Visit the ' +\n",
              "            '<a target=\"_blank\" href=https://colab.research.google.com/notebooks/data_table.ipynb>data table notebook</a>'\n",
              "            + ' to learn more about interactive tables.';\n",
              "          element.innerHTML = '';\n",
              "          dataTable['output_type'] = 'display_data';\n",
              "          await google.colab.output.renderOutput(dataTable, element);\n",
              "          const docLink = document.createElement('div');\n",
              "          docLink.innerHTML = docLinkHtml;\n",
              "          element.appendChild(docLink);\n",
              "        }\n",
              "      </script>\n",
              "    </div>\n",
              "  </div>\n",
              "  "
            ]
          },
          "metadata": {},
          "execution_count": 14
        }
      ]
    },
    {
      "cell_type": "markdown",
      "source": [
        "¿Cuál es este valor P? El valor P es el valor de probabilidad de que la correlación entre estas dos variables sea estadísticamente significativa. Normalmente, elegimos un nivel de significación de 0,05, lo que significa que tenemos un 95 % de confianza en que la correlación entre las variables es significativa.\n",
        "\n",
        "Por convención, cuando el\n",
        "\n",
        "El valor p es 0,001: decimos que hay pruebas sólidas de que la correlación es significativa.\n",
        "el valor p es 0,05: existe evidencia moderada de que la correlación es significativa.\n",
        "el valor p es 0.1: hay evidencia débil de que la correlación es significativa.\n",
        "el valor p es 0,1: no hay evidencia de que la correlación sea significativa.\n",
        "Podemos obtener esta información usando el módulo \"stats\" en la biblioteca \"scipy\"."
      ],
      "metadata": {
        "id": "0VGAClW0ohLJ"
      }
    },
    {
      "cell_type": "code",
      "source": [
        "# Calculate Pearson Correlation\n",
        "pearson,pval=spy.stats.pearsonr(df[\"horsepower\"], df[\"price\"])\n",
        "print(\" Pearson: \", pearson)\n",
        "print(\" P-Value: \", pval)\n",
        "\n",
        "# Heatmap\n",
        "ax=sns.heatmap(df.corr(method='pearson'), cmap='RdBu',annot=True)\n",
        "plt.show()"
      ],
      "metadata": {
        "colab": {
          "base_uri": "https://localhost:8080/",
          "height": 384
        },
        "id": "BFfiBtDyoocz",
        "outputId": "c54d0837-c436-4214-9299-ab77b1b7a8a3"
      },
      "execution_count": 15,
      "outputs": [
        {
          "output_type": "stream",
          "name": "stdout",
          "text": [
            " Pearson:  0.7598739453800998\n",
            " P-Value:  3.592251547712681e-31\n"
          ]
        },
        {
          "output_type": "display_data",
          "data": {
            "text/plain": [
              "<Figure size 432x288 with 2 Axes>"
            ],
            "image/png": "[encoded data removed]"
          },
          "metadata": {
            "needs_background": "light"
          }
        }
      ]
    },
    {
      "cell_type": "code",
      "source": [
        "# Calculate Correlation\n",
        "print(df.corr())\n",
        "\n",
        "# Get unique values of a categorical variable\n",
        "print(df['drive-wheels'].unique())"
      ],
      "metadata": {
        "colab": {
          "base_uri": "https://localhost:8080/"
        },
        "id": "xJSfdRdil__O",
        "outputId": "0b7c34bf-1b8c-4b9d-a643-32a0ff59da05"
      },
      "execution_count": 16,
      "outputs": [
        {
          "output_type": "stream",
          "name": "stdout",
          "text": [
            "                   symboling  normalized-losses  wheel-base    length  \\\n",
            "symboling           1.000000           0.518344   -0.520591 -0.336257   \n",
            "normalized-losses   0.518344           1.000000   -0.060086  0.035541   \n",
            "wheel-base         -0.520591          -0.060086    1.000000  0.871534   \n",
            "length             -0.336257           0.035541    0.871534  1.000000   \n",
            "width              -0.219186           0.109726    0.814991  0.838338   \n",
            "height             -0.475185          -0.413702    0.555767  0.499251   \n",
            "curb-weight        -0.251880           0.125858    0.810181  0.871291   \n",
            "engine-size        -0.109453           0.207820    0.649206  0.725953   \n",
            "bore               -0.256469          -0.031558    0.578159  0.646318   \n",
            "stroke             -0.021285           0.063330    0.167449  0.121073   \n",
            "compression-ratio  -0.138316          -0.127259    0.291431  0.184814   \n",
            "horsepower         -0.003949           0.290511    0.516948  0.672063   \n",
            "peak-rpm            0.199106           0.237697   -0.289234 -0.234074   \n",
            "city-mpg            0.089550          -0.235523   -0.580657 -0.724544   \n",
            "highway-mpg         0.149830          -0.188564   -0.611750 -0.724599   \n",
            "price              -0.162794           0.202761    0.734419  0.760952   \n",
            "\n",
            "                      width    height  curb-weight  engine-size      bore  \\\n",
            "symboling         -0.219186 -0.475185    -0.251880    -0.109453 -0.256469   \n",
            "normalized-losses  0.109726 -0.413702     0.125858     0.207820 -0.031558   \n",
            "wheel-base         0.814991  0.555767     0.810181     0.649206  0.578159   \n",
            "length             0.838338  0.499251     0.871291     0.725953  0.646318   \n",
            "width              1.000000  0.292706     0.870595     0.779253  0.572554   \n",
            "height             0.292706  1.000000     0.367052     0.111083  0.254836   \n",
            "curb-weight        0.870595  0.367052     1.000000     0.888626  0.645792   \n",
            "engine-size        0.779253  0.111083     0.888626     1.000000  0.595737   \n",
            "bore               0.572554  0.254836     0.645792     0.595737  1.000000   \n",
            "stroke             0.196619 -0.091313     0.173844     0.299683 -0.102581   \n",
            "compression-ratio  0.258752  0.233308     0.224724     0.141097  0.015119   \n",
            "horsepower         0.681872  0.034317     0.790095     0.812073  0.560239   \n",
            "peak-rpm          -0.232216 -0.245864    -0.259988    -0.284686 -0.312269   \n",
            "city-mpg          -0.666684 -0.199737    -0.762155    -0.699139 -0.590440   \n",
            "highway-mpg       -0.693339 -0.226136    -0.789338    -0.714095 -0.590850   \n",
            "price              0.843371  0.244836     0.893639     0.841496  0.533890   \n",
            "\n",
            "                     stroke  compression-ratio  horsepower  peak-rpm  \\\n",
            "symboling         -0.021285          -0.138316   -0.003949  0.199106   \n",
            "normalized-losses  0.063330          -0.127259    0.290511  0.237697   \n",
            "wheel-base         0.167449           0.291431    0.516948 -0.289234   \n",
            "length             0.121073           0.184814    0.672063 -0.234074   \n",
            "width              0.196619           0.258752    0.681872 -0.232216   \n",
            "height            -0.091313           0.233308    0.034317 -0.245864   \n",
            "curb-weight        0.173844           0.224724    0.790095 -0.259988   \n",
            "engine-size        0.299683           0.141097    0.812073 -0.284686   \n",
            "bore              -0.102581           0.015119    0.560239 -0.312269   \n",
            "stroke             1.000000           0.243587    0.148804 -0.011312   \n",
            "compression-ratio  0.243587           1.000000   -0.162305 -0.416769   \n",
            "horsepower         0.148804          -0.162305    1.000000  0.074057   \n",
            "peak-rpm          -0.011312          -0.416769    0.074057  1.000000   \n",
            "city-mpg          -0.020055           0.278332   -0.837214 -0.052929   \n",
            "highway-mpg       -0.012934           0.221483   -0.827941 -0.032777   \n",
            "price              0.160664           0.209361    0.759874 -0.171916   \n",
            "\n",
            "                   city-mpg  highway-mpg     price  \n",
            "symboling          0.089550     0.149830 -0.162794  \n",
            "normalized-losses -0.235523    -0.188564  0.202761  \n",
            "wheel-base        -0.580657    -0.611750  0.734419  \n",
            "length            -0.724544    -0.724599  0.760952  \n",
            "width             -0.666684    -0.693339  0.843371  \n",
            "height            -0.199737    -0.226136  0.244836  \n",
            "curb-weight       -0.762155    -0.789338  0.893639  \n",
            "engine-size       -0.699139    -0.714095  0.841496  \n",
            "bore              -0.590440    -0.590850  0.533890  \n",
            "stroke            -0.020055    -0.012934  0.160664  \n",
            "compression-ratio  0.278332     0.221483  0.209361  \n",
            "horsepower        -0.837214    -0.827941  0.759874  \n",
            "peak-rpm          -0.052929    -0.032777 -0.171916  \n",
            "city-mpg           1.000000     0.971999 -0.692273  \n",
            "highway-mpg        0.971999     1.000000 -0.720090  \n",
            "price             -0.692273    -0.720090  1.000000  \n",
            "<StringArray>\n",
            "['fwd', '4wd', 'rwd']\n",
            "Length: 3, dtype: string\n"
          ]
        }
      ]
    },
    {
      "cell_type": "markdown",
      "source": [
        "*Dado que el valor p es < 0,001, la correlación entre el mpg en carretera y el precio es estadísticamente significativa, y el coeficiente de alrededor de -0,705 muestra que la relación es negativa y moderadamente fuerte.*"
      ],
      "metadata": {
        "id": "eIOt7ZyPo4G-"
      }
    }
  ]
}
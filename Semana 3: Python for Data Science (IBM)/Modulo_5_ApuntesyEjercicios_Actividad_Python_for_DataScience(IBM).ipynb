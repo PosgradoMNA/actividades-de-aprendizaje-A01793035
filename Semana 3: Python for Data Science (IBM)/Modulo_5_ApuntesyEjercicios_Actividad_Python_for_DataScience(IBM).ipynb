{
  "nbformat": 4,
  "nbformat_minor": 0,
  "metadata": {
    "colab": {
      "provenance": []
    },
    "kernelspec": {
      "name": "python3",
      "display_name": "Python 3"
    },
    "language_info": {
      "name": "python"
    }
  },
  "cells": [
    {
      "cell_type": "code",
      "execution_count": null,
      "metadata": {
        "id": "L8UPYrRjTGdL"
      },
      "outputs": [],
      "source": [
        "**Modulo 5 - Semana 3: Python for Data Science (IBM)**\n",
        "\n",
        "Nombre: Diego Alonso Luna Ramirez\n",
        "\n",
        "Matricula: A01793035"
      ]
    },
    {
      "cell_type": "markdown",
      "source": [
        "![Data Science_Module 5.png](data:image/png;base64,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)"
      ],
      "metadata": {
        "id": "829qqZIdVTyg"
      }
    },
    {
      "cell_type": "code",
      "source": [
        "import numpy as np # Import Numpy \n",
        "print(np.__version__)\n",
        "\n",
        "a=np.array([0,1,2,3,4]) # Create Array by list\n",
        "print(a)\n",
        "print(type(a)) # Type numphy.ndarray\n",
        "print(a[0]) # Access the 0 th value\n",
        "print(a.size) # Get number of elements\n",
        "print(a.ndim) # Get number of dimensions\n",
        "print(a.shape) # Get size by dimension\n",
        "\n",
        "# Change value to a single index\n",
        "a[0]= 1\n",
        "print(a)\n",
        "\n",
        "# Slice ndarray\n",
        "b=a[0:2]\n",
        "print(b)\n",
        "\n",
        "# Operations\n",
        "\n",
        "# Not Using numpy\n",
        "u=[1,0]\n",
        "v=[0,1]\n",
        "w=u+v\n",
        "print(w)\n",
        "\n",
        "# Using numpy\n",
        "i=np.array([1,0])\n",
        "j=np.array([0,1])\n",
        "\n",
        "# Sum\n",
        "k=i+j\n",
        "print(k)\n",
        "print(np.add(i,j))\n",
        "\n",
        "# Substract\n",
        "k=i-j\n",
        "print(k)\n",
        "\n",
        "# Multiplication by scalar value\n",
        "k=2*k\n",
        "print(k)\n",
        "\n",
        "# Multiplication by another vector\n",
        "k=i*k\n",
        "print(k)\n",
        "\n",
        "# Calculate similarity\n",
        "check=np.dot(i,k)\n",
        "print(check)\n",
        "\n",
        "# Broadcasting (add/substract to all values)\n",
        "k=k+1\n",
        "print(k)\n",
        "\n",
        "# Functions\n",
        "array=np.array([1,2,2,5])\n",
        "print(array.mean()) # Get Mean of array\n",
        "print(array.max()) # Get Max value of array\n",
        "print(array.std()) # Get Standard Deviation value of array\n",
        "print(np.pi) # Get pi value\n",
        "x=np.array([0,np.pi/2,np.pi])\n",
        "print(np.sin(x)) # Do de sin to each element of the array\n",
        "print(np.linspace(-2,2,num=5)) # Create secuence of 5 values in -2 to 2 interval"
      ],
      "metadata": {
        "id": "DNRuUdETV5jH"
      },
      "execution_count": null,
      "outputs": []
    },
    {
      "cell_type": "code",
      "source": [
        "# Matplot\n",
        "import numpy as np \n",
        "import matplotlib.pyplot as plt\n",
        "\n",
        "x=np.linspace(0,2*np.pi,100)\n",
        "y=np.sin(x)\n",
        "\n",
        "%matplotlib inline\n",
        "plt.plot(x,y)"
      ],
      "metadata": {
        "id": "CaXuFfa5WTnG"
      },
      "execution_count": null,
      "outputs": []
    },
    {
      "cell_type": "code",
      "source": [
        "# Multi dimensions\n",
        "import numpy as np \n",
        "\n",
        "a=[[11,12,13],[21,22,23],[31,32,33]]\n",
        "A =np.array(a)\n",
        "print(A)\n",
        "print(A.ndim) # No of nested lists\n",
        "print(A.shape) # Tuple no of rows and no of columns\n",
        "print(A.size) # No of values\n",
        "\n",
        "print(A[0][0]) # Access value in 0 row and 0 column\n",
        "print(A[0][0:2]) # Slice from 0 row from 0 to 2 index in colmun\n",
        "\n",
        "# Matrix operations\n",
        "x=np.array([[1,0],[0,1]])\n",
        "y=np.array([[2,1],[1,2]])\n",
        "print(x+y)\n",
        "print(y*2)\n",
        "print(x*y)\n",
        "\n",
        "a=np.array([[0,1,1],[1,0,1]])\n",
        "b=np.array([[1,1],[1,1],[-1,1]])\n",
        "print(np.dot(a,b))\n",
        "print(a.T) # Transpose"
      ],
      "metadata": {
        "id": "kBBYnucxWU_m"
      },
      "execution_count": null,
      "outputs": []
    },
    {
      "cell_type": "code",
      "source": [
        "# APIs\n",
        "import requests\n",
        "import os \n",
        "from PIL import Image\n",
        "from IPython.display import IFrame\n",
        "\n",
        "url='https://www.ibm.com/' # URL of request\n",
        "r=requests.get(url) # Get command\n",
        "r.status_code # Get status of request 200 OK\n",
        "r.request.headers # Header of the request\n",
        "r.request.body # Body of the request\n",
        "r.encoding # Check encoding type\n",
        "header=r.headers # Dictionary of headers\n",
        "print(header['date']) # Access value of dictionary\n",
        "\n",
        "# Get image and Save\n",
        "url='https://cf-courses-data.s3.us.cloud-object-storage.appdomain.cloud/IBMDeveloperSkillsNetwork-PY0101EN-SkillsNetwork/IDSNlogo.png'\n",
        "r=requests.get(url)\n",
        "path=os.path.join(os.getcwd(),'image.png')\n",
        "with open(path,'wb') as f:\n",
        "    f.write(r.content)\n",
        "Image.open(path)  "
      ],
      "metadata": {
        "id": "BMV8K0GfWX3-"
      },
      "execution_count": null,
      "outputs": []
    },
    {
      "cell_type": "code",
      "source": [
        "# Create random list of users\n",
        "from randomuser import RandomUser\n",
        "import pandas as pd\n",
        "\n",
        "def get_users():\n",
        "    users =[]\n",
        "     \n",
        "    for user in RandomUser.generate_users(10):\n",
        "        users.append({\"Name\":user.get_full_name(),\"Gender\":user.get_gender(),\"City\":user.get_city(),\"State\":user.get_state(),\"Email\":user.get_email(), \"DOB\":user.get_dob(),\"Picture\":user.get_picture()})\n",
        "      \n",
        "    return pd.DataFrame(users)    \n",
        "\n",
        "print(get_users())"
      ],
      "metadata": {
        "id": "9P64b4ZJWZUf"
      },
      "execution_count": null,
      "outputs": []
    },
    {
      "cell_type": "code",
      "source": [
        "import requests\n",
        "import json\n",
        "import pandas as pd\n",
        "\n",
        "data = requests.get(\"https://www.fruityvice.com/api/fruit/all\")\n",
        "results = json.loads(data.text)\n",
        "pd.DataFrame(results)\n",
        "df2 = pd.json_normalize(results)\n",
        "df2.head()"
      ],
      "metadata": {
        "id": "_NX0KWAHWbIP"
      },
      "execution_count": null,
      "outputs": []
    }
  ]
}
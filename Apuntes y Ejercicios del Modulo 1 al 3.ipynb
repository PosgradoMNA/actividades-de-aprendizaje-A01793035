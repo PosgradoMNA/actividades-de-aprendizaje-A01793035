{
 "cells": [
  {
   "cell_type": "code",
   "execution_count": 43,
   "id": "d0be92cc",
   "metadata": {},
   "outputs": [
    {
     "name": "stdout",
     "output_type": "stream",
     "text": [
      "Hello Python 102\n"
     ]
    }
   ],
   "source": [
    "#MODULE 1\n",
    "print Hello Python 101\n",
    "print('Hello Python 102')"
   ]
  },
  {
   "cell_type": "code",
   "execution_count": 8,
   "id": "2441273a",
   "metadata": {},
   "outputs": [],
   "source": [
    "#Datatypes\n",
    "#Int: 1,2,3,4,5,6...\n",
    "#Float: 1.1, 1.2, 1.3, 1.4, 1.5, 1.6"
   ]
  },
  {
   "cell_type": "code",
   "execution_count": 16,
   "id": "fc11da32",
   "metadata": {},
   "outputs": [
    {
     "ename": "IndentationError",
     "evalue": "unexpected indent (4098910660.py, line 11)",
     "output_type": "error",
     "traceback": [
      "\u001b[1;36m  Cell \u001b[1;32mIn [16], line 11\u001b[1;36m\u001b[0m\n\u001b[1;33m    bool(1)\u001b[0m\n\u001b[1;37m    ^\u001b[0m\n\u001b[1;31mIndentationError\u001b[0m\u001b[1;31m:\u001b[0m unexpected indent\n"
     ]
    }
   ],
   "source": [
    "float(2)\n",
    "int(1.1) #It may lose infomation\n",
    "int('1') #if a string value contain an interger value, i can convert it to int\n",
    "    #We cannot change a string value that contains a non-interger\n",
    "    \n",
    "#Yo can convert int to String or Float to String\n",
    "    #str(1):'1'\n",
    "    #str(4.5):'4.5'\n",
    "\n",
    "    #Boolean can contain 2 values (True or False)\n",
    "    #type(True)\n",
    "        #True= 1\n",
    "        #False= 0"
   ]
  },
  {
   "cell_type": "code",
   "execution_count": 19,
   "id": "ba5a8ae9",
   "metadata": {},
   "outputs": [
    {
     "data": {
      "text/plain": [
       "1920"
      ]
     },
     "execution_count": 19,
     "metadata": {},
     "output_type": "execute_result"
    }
   ],
   "source": [
    "#operations\n",
    "#25//5\n",
    "#Doble diagonal para obtener un resultado redondeado\n",
    "#It will be taken by hierarchical operations\n",
    "#The expresions in pharentesis are performed first\n",
    "\n",
    "(30+2)*60"
   ]
  },
  {
   "cell_type": "code",
   "execution_count": 24,
   "id": "cef1b7c3",
   "metadata": {},
   "outputs": [
    {
     "name": "stdout",
     "output_type": "stream",
     "text": [
      "2.6666666666666665\n"
     ]
    },
    {
     "data": {
      "text/plain": [
       "float"
      ]
     },
     "execution_count": 24,
     "metadata": {},
     "output_type": "execute_result"
    }
   ],
   "source": [
    "#variables\n",
    "#We may use varaibles to stores values\n",
    "my_variable=1\n",
    "#we can store the procedure of expression\n",
    "x=43+60+16+41\n",
    "x=x/60\n",
    "print(x)\n",
    "\n",
    "type(x)"
   ]
  },
  {
   "cell_type": "code",
   "execution_count": 37,
   "id": "a50bbe90",
   "metadata": {},
   "outputs": [
    {
     "data": {
      "text/plain": [
       "'Michael Jackson'"
      ]
     },
     "execution_count": 37,
     "metadata": {},
     "output_type": "execute_result"
    }
   ],
   "source": [
    "#String \n",
    "#Sequence of characters within two quotes or single quotes\n",
    "#A string can be spaces or digits, it can also be special characters\n",
    "Name= 'Michael Jackson'\n",
    "1*Name\n",
    "\n",
    "#Each element in the sequence can be accessed using an index represented by the array of numbers. We can use also negative index.\n",
    "#Name[0:4]\n",
    "\n",
    "len(\"Michael Jackson\")\n",
    "#\"len\" helps to knwo the lenght of the sentence writen\n",
    "\n",
    "3*'Michael Jackson \\t is the best' #It shows \"Michael Jackson 3 times\" #\"n\" represents new line\n",
    "#We use \"\\t\" for a place, \"\\n\" for given a new line, \"\\\\\" or r\"\\\" for backlash"
   ]
  },
  {
   "cell_type": "code",
   "execution_count": 50,
   "id": "2ca6691c",
   "metadata": {},
   "outputs": [
    {
     "name": "stdout",
     "output_type": "stream",
     "text": [
      "THRILLER IS THE SIXTH STUDIO ALBUM\n",
      "Number Nine is the sixth studio album\n"
     ]
    }
   ],
   "source": [
    "#String Methods\n",
    "A=\"Thriller is the sixth studio album\"\n",
    "B=A.upper()\n",
    "print(B)\n",
    "C=A.replace(\"Thriller\",\"Number Nine\")\n",
    "print(C)"
   ]
  },
  {
   "cell_type": "code",
   "execution_count": 54,
   "id": "a8d1ca60",
   "metadata": {},
   "outputs": [
    {
     "data": {
      "text/plain": [
       "(3, 4)"
      ]
     },
     "execution_count": 54,
     "metadata": {},
     "output_type": "execute_result"
    }
   ],
   "source": [
    "#MODULE 2\n",
    "#Tuples are in order sequence, these are written by comma-separated within parentheses\n",
    "Ratings=(10,5,6,7,9,6,1)\n",
    "Tuple1=(\"disco\",10,1.2)\n",
    "Tuple1[0]\n",
    "Tuple1[0:3]\n",
    "#A tuple may contain more tuples within the tuple\n",
    "NT=(1,2,(\"pop\",\"rock\"),(3,4),(\"disco\",(1,2)))\n",
    "NT[2]\n",
    "#I may include multibrackets to tuples\n",
    "NT[3]"
   ]
  },
  {
   "cell_type": "code",
   "execution_count": 60,
   "id": "743fc397",
   "metadata": {},
   "outputs": [
    {
     "data": {
      "text/plain": [
       "['Noel', ('A', 1), 'A']"
      ]
     },
     "execution_count": 60,
     "metadata": {},
     "output_type": "execute_result"
    }
   ],
   "source": [
    "#Lists\n",
    "#Also are ordered sequences, we may include tuples\n",
    "L=[\"Michael Jackson\",10.1,1982,[1,2],('A',1)]\n",
    "L.append(\"A\")\n",
    "L[3]=\"Noel\"\n",
    "L[3:6]"
   ]
  },
  {
   "cell_type": "code",
   "execution_count": 64,
   "id": "fc16c88e",
   "metadata": {},
   "outputs": [
    {
     "data": {
      "text/plain": [
       "{1982, 'Michael Jackson', 'Thriller'}"
      ]
     },
     "execution_count": 64,
     "metadata": {},
     "output_type": "execute_result"
    }
   ],
   "source": [
    "#Sets\n",
    "#These are type of collection, sets only have unique elements. Sets doesn't record element position.\n",
    "#Duplicated items will not be present\n",
    "album_list=[\"Michael Jackson\",\"Thriller\",\"Thriller\",1982]\n",
    "#album_list.add(\"Mexico\")\n",
    "#album_list.remove(\"Mexico\")\n",
    "album_set=set(album_list)\n",
    "album_set"
   ]
  },
  {
   "cell_type": "code",
   "execution_count": 67,
   "id": "892b832a",
   "metadata": {},
   "outputs": [],
   "source": [
    "#Dictionaries\n",
    "#A dictionary has key and values/contain information\n",
    "#The values can be duplicated and mutable\n",
    "#Dict.keys()=[\"Thriller\",\"Back in Black\", \"The Bodyguard\", \"Rumors\"]\n",
    "#Dict.values()=[\"1988\",\"1950\", \"1912\", \"1880\"]"
   ]
  },
  {
   "cell_type": "code",
   "execution_count": 68,
   "id": "a5c33573",
   "metadata": {},
   "outputs": [
    {
     "data": {
      "text/plain": [
       "True"
      ]
     },
     "execution_count": 68,
     "metadata": {},
     "output_type": "execute_result"
    }
   ],
   "source": [
    "#MODULE 3\n",
    "#Comparison Operators\n",
    "\"AC/DC\"==\"Michael Jackson\"\n",
    "\"AC/DC\"!=\"Michael Jackson\"\n"
   ]
  },
  {
   "cell_type": "code",
   "execution_count": 74,
   "id": "181b5ee5",
   "metadata": {},
   "outputs": [
    {
     "name": "stdout",
     "output_type": "stream",
     "text": [
      "you can enter\n",
      "move on\n"
     ]
    }
   ],
   "source": [
    "#If statement\n",
    "age=18\n",
    "#if(age>18)\n",
    "print(\"you can enter\")\n",
    "#elseif(age==18)\n",
    "print(\"go see Pink Floyd\")\n",
    "#else:\n",
    "print(\"move on\")"
   ]
  },
  {
   "cell_type": "code",
   "execution_count": 76,
   "id": "62387131",
   "metadata": {},
   "outputs": [
    {
     "name": "stdout",
     "output_type": "stream",
     "text": [
      "The Album was made 1980\n",
      "The Album was made 1980\n"
     ]
    }
   ],
   "source": [
    "#Logic Operators\n",
    "album_year=1983\n",
    "if(album_year<1980)or(album_year>1989):\n",
    "    print(\"The Album was made 70s or 90s\")\n",
    "else:\n",
    "    print(\"The Album was made 1980\")\n",
    "    \n",
    "if(album_year<1980)and(album_year>1989):\n",
    "    print(\"The Album was made 70s or 90s\")\n",
    "else:\n",
    "    print(\"The Album was made 1980\")"
   ]
  },
  {
   "cell_type": "code",
   "execution_count": 83,
   "id": "d3c46575",
   "metadata": {},
   "outputs": [
    {
     "name": "stdout",
     "output_type": "stream",
     "text": [
      "['red', 'yellow', 'green']\n"
     ]
    }
   ],
   "source": [
    "#Loops\n",
    "#The range function outputs an ordered sequence as a list “i”. If the input is a positive integer, the output is a sequence;\n",
    "#the sequence contains the same number of elements as the input, but starts at zero.\n",
    "range(10,15)\n",
    "squares=[\"red\",\"yellow\",\"green\"]\n",
    "\n",
    "for i, squares in enumerate(squares):\n",
    "    squares\n",
    "    i\n",
    "    \n",
    "squares=[\"red\",\"yellow\",\"green\"]\n",
    "Newsquares=[]\n",
    "i=0\n",
    "\n",
    "print(squares)\n",
    "#while(squares[i]=='orange'):\n",
    "        #Newsquare.appends(square[i])\n",
    "        \n",
    "        #i=i+1"
   ]
  },
  {
   "cell_type": "code",
   "execution_count": 91,
   "id": "2c88b425",
   "metadata": {},
   "outputs": [],
   "source": [
    "#Functions\n",
    "#Functions take some input then produce some output or change.\n",
    "#The function is just a piece of code you can reuse.\n",
    "\n",
    "albums_ratings=[10.0,8.5,9.5,7.0,7.0,9.5,9.0,9.5]\n",
    "L=len(albums_ratings)\n",
    "\n",
    "L\n",
    "\n",
    "S=sum(albums_ratings)\n",
    "\n",
    "S\n",
    "\n",
    "\n",
    "albums_ratings.sort()\n",
    "\n",
    "Sorted=sorted(albums_ratings)\n",
    "\n",
    "Sorted"
   ]
  },
  {
   "cell_type": "code",
   "execution_count": 93,
   "id": "be690486",
   "metadata": {},
   "outputs": [
    {
     "data": {
      "text/plain": [
       "6"
      ]
     },
     "execution_count": 93,
     "metadata": {},
     "output_type": "execute_result"
    }
   ],
   "source": [
    "#Making a function\n",
    "def add1(a):\n",
    "    b=a+1\n",
    "    return b\n",
    "\n",
    "add1(5)"
   ]
  },
  {
   "cell_type": "code",
   "execution_count": 96,
   "id": "f8a712fc",
   "metadata": {},
   "outputs": [
    {
     "data": {
      "text/plain": [
       "' Michael Jackson Michael Jackson'"
      ]
     },
     "execution_count": 96,
     "metadata": {},
     "output_type": "execute_result"
    }
   ],
   "source": [
    "#Multiple parameters\n",
    "def Mult(a,b):\n",
    "    c=a*b\n",
    "    return c\n",
    "Mult(2,3)\n",
    "\n",
    "Mult(2,\" Michael Jackson\")"
   ]
  },
  {
   "cell_type": "code",
   "execution_count": null,
   "id": "9faeb7f7",
   "metadata": {},
   "outputs": [],
   "source": []
  }
 ],
 "metadata": {
  "kernelspec": {
   "display_name": "Python 3 (ipykernel)",
   "language": "python",
   "name": "python3"
  },
  "language_info": {
   "codemirror_mode": {
    "name": "ipython",
    "version": 3
   },
   "file_extension": ".py",
   "mimetype": "text/x-python",
   "name": "python",
   "nbconvert_exporter": "python",
   "pygments_lexer": "ipython3",
   "version": "3.10.7"
  }
 },
 "nbformat": 4,
 "nbformat_minor": 5
}
